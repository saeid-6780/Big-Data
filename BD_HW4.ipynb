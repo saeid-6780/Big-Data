{
  "nbformat": 4,
  "nbformat_minor": 0,
  "metadata": {
    "colab": {
      "name": "BD_HW4.ipynb",
      "provenance": [],
      "collapsed_sections": [],
      "authorship_tag": "ABX9TyNgTF/R5LisV5uc6h8pyDi+",
      "include_colab_link": true
    },
    "kernelspec": {
      "name": "python3",
      "display_name": "Python 3"
    },
    "language_info": {
      "name": "python"
    }
  },
  "cells": [
    {
      "cell_type": "markdown",
      "metadata": {
        "id": "view-in-github",
        "colab_type": "text"
      },
      "source": [
        "<a href=\"https://colab.research.google.com/github/saeid-6780/Big-Data/blob/main/BD_HW4.ipynb\" target=\"_parent\"><img src=\"https://colab.research.google.com/assets/colab-badge.svg\" alt=\"Open In Colab\"/></a>"
      ]
    },
    {
      "cell_type": "code",
      "execution_count": 1,
      "metadata": {
        "colab": {
          "base_uri": "https://localhost:8080/"
        },
        "id": "4fIwW3HVb02S",
        "outputId": "27e9f085-aed6-4e51-dc27-7a4f807da710"
      },
      "outputs": [
        {
          "output_type": "stream",
          "name": "stdout",
          "text": [
            "\u001b[K     |████████████████████████████████| 281.4 MB 32 kB/s \n",
            "\u001b[K     |████████████████████████████████| 198 kB 47.4 MB/s \n",
            "\u001b[?25h  Building wheel for pyspark (setup.py) ... \u001b[?25l\u001b[?25hdone\n"
          ]
        }
      ],
      "source": [
        "!pip install pyspark --quiet\n",
        "!pip install -U -q PyDrive --quiet \n",
        "!apt install openjdk-8-jdk-headless &> /dev/null"
      ]
    },
    {
      "cell_type": "code",
      "source": [
        "import os\n",
        "os.environ[\"JAVA_HOME\"] = \"/usr/lib/jvm/java-8-openjdk-amd64\""
      ],
      "metadata": {
        "id": "uqpEbUAwWaHT"
      },
      "execution_count": 2,
      "outputs": []
    },
    {
      "cell_type": "code",
      "source": [
        "\n",
        "!pip install gdown\n",
        "!pip install --upgrade --no-cache-dir gdown\n",
        "!gdown --id 1IDIE0Om9Wp59v4Ekjp-Naqtd_HtkLRfY"
      ],
      "metadata": {
        "colab": {
          "base_uri": "https://localhost:8080/"
        },
        "id": "syiTISQQXRB_",
        "outputId": "fcba23af-cc2b-4897-ac79-1774e7c87540"
      },
      "execution_count": 3,
      "outputs": [
        {
          "output_type": "stream",
          "name": "stdout",
          "text": [
            "Looking in indexes: https://pypi.org/simple, https://us-python.pkg.dev/colab-wheels/public/simple/\n",
            "Requirement already satisfied: gdown in /usr/local/lib/python3.7/dist-packages (4.4.0)\n",
            "Requirement already satisfied: filelock in /usr/local/lib/python3.7/dist-packages (from gdown) (3.7.0)\n",
            "Requirement already satisfied: six in /usr/local/lib/python3.7/dist-packages (from gdown) (1.15.0)\n",
            "Requirement already satisfied: tqdm in /usr/local/lib/python3.7/dist-packages (from gdown) (4.64.0)\n",
            "Requirement already satisfied: requests[socks] in /usr/local/lib/python3.7/dist-packages (from gdown) (2.23.0)\n",
            "Requirement already satisfied: beautifulsoup4 in /usr/local/lib/python3.7/dist-packages (from gdown) (4.6.3)\n",
            "Requirement already satisfied: certifi>=2017.4.17 in /usr/local/lib/python3.7/dist-packages (from requests[socks]->gdown) (2022.5.18.1)\n",
            "Requirement already satisfied: idna<3,>=2.5 in /usr/local/lib/python3.7/dist-packages (from requests[socks]->gdown) (2.10)\n",
            "Requirement already satisfied: chardet<4,>=3.0.2 in /usr/local/lib/python3.7/dist-packages (from requests[socks]->gdown) (3.0.4)\n",
            "Requirement already satisfied: urllib3!=1.25.0,!=1.25.1,<1.26,>=1.21.1 in /usr/local/lib/python3.7/dist-packages (from requests[socks]->gdown) (1.24.3)\n",
            "Requirement already satisfied: PySocks!=1.5.7,>=1.5.6 in /usr/local/lib/python3.7/dist-packages (from requests[socks]->gdown) (1.7.1)\n",
            "Looking in indexes: https://pypi.org/simple, https://us-python.pkg.dev/colab-wheels/public/simple/\n",
            "Requirement already satisfied: gdown in /usr/local/lib/python3.7/dist-packages (4.4.0)\n",
            "Requirement already satisfied: filelock in /usr/local/lib/python3.7/dist-packages (from gdown) (3.7.0)\n",
            "Requirement already satisfied: beautifulsoup4 in /usr/local/lib/python3.7/dist-packages (from gdown) (4.6.3)\n",
            "Requirement already satisfied: six in /usr/local/lib/python3.7/dist-packages (from gdown) (1.15.0)\n",
            "Requirement already satisfied: requests[socks] in /usr/local/lib/python3.7/dist-packages (from gdown) (2.23.0)\n",
            "Requirement already satisfied: tqdm in /usr/local/lib/python3.7/dist-packages (from gdown) (4.64.0)\n",
            "Requirement already satisfied: chardet<4,>=3.0.2 in /usr/local/lib/python3.7/dist-packages (from requests[socks]->gdown) (3.0.4)\n",
            "Requirement already satisfied: certifi>=2017.4.17 in /usr/local/lib/python3.7/dist-packages (from requests[socks]->gdown) (2022.5.18.1)\n",
            "Requirement already satisfied: urllib3!=1.25.0,!=1.25.1,<1.26,>=1.21.1 in /usr/local/lib/python3.7/dist-packages (from requests[socks]->gdown) (1.24.3)\n",
            "Requirement already satisfied: idna<3,>=2.5 in /usr/local/lib/python3.7/dist-packages (from requests[socks]->gdown) (2.10)\n",
            "Requirement already satisfied: PySocks!=1.5.7,>=1.5.6 in /usr/local/lib/python3.7/dist-packages (from requests[socks]->gdown) (1.7.1)\n",
            "/usr/local/lib/python3.7/dist-packages/gdown/cli.py:131: FutureWarning: Option `--id` was deprecated in version 4.3.1 and will be removed in 5.0. You don't need to pass it anymore to use a file ID.\n",
            "  category=FutureWarning,\n",
            "Downloading...\n",
            "From: https://drive.google.com/uc?id=1IDIE0Om9Wp59v4Ekjp-Naqtd_HtkLRfY\n",
            "To: /content/Copy of data.csv\n",
            "100% 32.7M/32.7M [00:00<00:00, 106MB/s] \n"
          ]
        }
      ]
    },
    {
      "cell_type": "code",
      "source": [
        "from pyspark.context import SparkContext\n",
        "from pyspark.sql import SQLContext\n",
        "from pyspark.sql.session import SparkSession\n",
        "from pyspark.sql.functions import *\n",
        "from pyspark.sql.functions import col,isnan, when, count\n",
        "\n",
        "sc = SparkContext.getOrCreate();('local')\n",
        "spark = SparkSession(sc)\n",
        "raw_data = spark.read.options(inferSchema='True',header='True').csv(\"/content/Copy of data.csv\")\n",
        "#raw_data.select([count(when(isnan(c) | col(c).isNull(), c)).alias(c) for c in raw_data.columns]).show()\n",
        "for col in raw_data.columns:\n",
        "  print(col, \"\\t\", \"with null values: \", raw_data.filter(raw_data[col].isNull()).count())\n",
        "raw_data.show()\n"
      ],
      "metadata": {
        "colab": {
          "base_uri": "https://localhost:8080/"
        },
        "id": "uP2D7bt4f4sf",
        "outputId": "2a48c59e-aca5-4b41-8368-0b52f2dcec3b"
      },
      "execution_count": 23,
      "outputs": [
        {
          "output_type": "stream",
          "name": "stdout",
          "text": [
            "customerID \t with null values:  253\n",
            "gender \t with null values:  235\n",
            "SeniorCitizen \t with null values:  266\n",
            "Partner \t with null values:  225\n",
            "Dependents \t with null values:  242\n",
            "tenure \t with null values:  225\n",
            "PhoneService \t with null values:  269\n",
            "MultipleLines \t with null values:  263\n",
            "InternetService \t with null values:  230\n",
            "OnlineSecurity \t with null values:  230\n",
            "OnlineBackup \t with null values:  243\n",
            "DeviceProtection \t with null values:  254\n",
            "TechSupport \t with null values:  264\n",
            "StreamingTV \t with null values:  249\n",
            "StreamingMovies \t with null values:  219\n",
            "Contract \t with null values:  230\n",
            "PaperlessBilling \t with null values:  257\n",
            "PaymentMethod \t with null values:  246\n",
            "MonthlyCharges \t with null values:  243\n",
            "TotalCharges \t with null values:  251\n",
            "Label \t with null values:  208\n",
            "+----------+------+-------------+-------+----------+------+------------+----------------+---------------+-------------------+-------------------+-------------------+-------------------+-------------------+-------------------+--------------+----------------+--------------------+--------------+------------+-----+\n",
            "|customerID|gender|SeniorCitizen|Partner|Dependents|tenure|PhoneService|   MultipleLines|InternetService|     OnlineSecurity|       OnlineBackup|   DeviceProtection|        TechSupport|        StreamingTV|    StreamingMovies|      Contract|PaperlessBilling|       PaymentMethod|MonthlyCharges|TotalCharges|Label|\n",
            "+----------+------+-------------+-------+----------+------+------------+----------------+---------------+-------------------+-------------------+-------------------+-------------------+-------------------+-------------------+--------------+----------------+--------------------+--------------+------------+-----+\n",
            "|5331-RGMTT|  Male|          1.0|    Yes|        No|  54.0|         Yes|             Yes|    Fiber optic|                 No|                 No|                Yes|                 No|                Yes|                Yes|Month-to-month|             Yes|Credit card (auto...|         99.05|      5295.7|   No|\n",
            "|5161-XEUVX|  Male|          0.0|    Yes|        No|  37.0|         Yes|             Yes|    Fiber optic|                 No|                 No|                Yes|                Yes|                Yes|                 No|      Two year|              No|        Mailed check|          94.3|     3460.95|   No|\n",
            "|0336-PIKEI|  Male|          1.0|    Yes|        No|  72.0|         Yes|              No|            DSL|                Yes|                Yes|                Yes|                Yes|                Yes|                 No|      Two year|              No|Bank transfer (au...|          74.4|     5360.75|   No|\n",
            "|3345-PBBFH|  Male|          0.0|    Yes|        No|   8.0|         Yes|              No|            DSL|                 No|                Yes|                 No|                 No|                 No|                 No|Month-to-month|             Yes|Bank transfer (au...|         49.55|      393.45|   No|\n",
            "|5067-XJQFU|  Male|          1.0|    Yes|       Yes|  66.0|         Yes|             Yes|    Fiber optic|                 No|                Yes|                Yes|                Yes|                Yes|                Yes|      One year|             Yes|    Electronic check|        108.45|     7076.35|   No|\n",
            "|4056-QHXHZ|Female|          0.0|    Yes|       Yes|  72.0|         Yes|             Yes|    Fiber optic|                Yes|                 No|                Yes|                Yes|                Yes|                Yes|      Two year|              No|        Mailed check|        107.45|      7576.7|   No|\n",
            "|8028-PNXHQ|  Male|          0.0|    Yes|       Yes|  62.0|         Yes|             Yes|             No|No internet service|No internet service|No internet service|No internet service|No internet service|No internet service|      Two year|             Yes|Bank transfer (au...|         24.25|      1424.6|   No|\n",
            "|8181-YHCMF|Female|          0.0|    Yes|       Yes|  68.0|          No|No phone service|            DSL|                 No|                Yes|                Yes|                Yes|                Yes|                Yes|      Two year|              No|Credit card (auto...|          60.3|      4109.0|   No|\n",
            "|6734-PSBAW|  Male|          0.0|    Yes|        No|  72.0|         Yes|             Yes|             No|No internet service|No internet service|No internet service|No internet service|No internet service|No internet service|      Two year|             Yes|Bank transfer (au...|         23.55|     1723.95|   No|\n",
            "|3655-SNQYZ|Female|          0.0|    Yes|       Yes|  69.0|         Yes|             Yes|    Fiber optic|                Yes|                Yes|                Yes|                Yes|                Yes|                Yes|      Two year|              No|Credit card (auto...|        113.25|     7895.15|   No|\n",
            "|9508-ILZDG|Female|          1.0|     No|        No|  34.0|         Yes|             Yes|    Fiber optic|                 No|                Yes|                 No|                Yes|                Yes|                 No|Month-to-month|             Yes|    Electronic check|         96.35|     3190.25|   No|\n",
            "|3620-EHIMZ|Female|          0.0|    Yes|       Yes|  52.0|         Yes|              No|             No|No internet service|No internet service|No internet service|No internet service|No internet service|No internet service|      Two year|              No|        Mailed check|         19.35|      1031.7|   No|\n",
            "|4178-EGMON|  Male|          0.0|    Yes|        No|  70.0|         Yes|             Yes|    Fiber optic|                Yes|                Yes|                 No|                Yes|                 No|                 No|      Two year|             Yes|Credit card (auto...|          88.0|     5986.45|   No|\n",
            "|0036-IHMOT|Female|          0.0|    Yes|       Yes|  55.0|         Yes|              No|    Fiber optic|                 No|                Yes|                Yes|                Yes|                Yes|                Yes|      One year|             Yes|Bank transfer (au...|         103.7|     5656.75|   No|\n",
            "|0281-CNTZX|  Male|          0.0|    Yes|        No|  63.0|         Yes|              No|             No|No internet service|No internet service|No internet service|No internet service|No internet service|No internet service|      Two year|             Yes|Bank transfer (au...|         19.95|      1234.8|   No|\n",
            "|0530-IJVDB|  Male|          0.0|     No|       Yes|  70.0|         Yes|             Yes|    Fiber optic|                Yes|                Yes|                Yes|                Yes|                Yes|                Yes|      Two year|             Yes|    Electronic check|         114.6|      7882.5|   No|\n",
            "|7251-XFOIL|Female|          0.0|     No|        No|  61.0|         Yes|             Yes|    Fiber optic|                 No|                 No|                Yes|                 No|                 No|                Yes|Month-to-month|              No|        Mailed check|          89.2|      5500.6|   No|\n",
            "|7079-QRCBC|Female|          0.0|     No|        No|  24.0|         Yes|             Yes|    Fiber optic|                 No|                 No|                Yes|                 No|                Yes|                Yes|Month-to-month|             Yes|    Electronic check|         98.75|      2407.3|  Yes|\n",
            "|2908-ZTPNF|Female|          0.0|     No|        No|  36.0|          No|No phone service|            DSL|                 No|                Yes|                 No|                Yes|                 No|                 No|Month-to-month|             Yes|Bank transfer (au...|         34.85|      1267.2|   No|\n",
            "|0640-YJTPY|  Male|          0.0|    Yes|       Yes|  72.0|         Yes|              No|             No|No internet service|No internet service|No internet service|No internet service|No internet service|No internet service|      Two year|              No|Bank transfer (au...|          21.0|     1493.75|   No|\n",
            "+----------+------+-------------+-------+----------+------+------------+----------------+---------------+-------------------+-------------------+-------------------+-------------------+-------------------+-------------------+--------------+----------------+--------------------+--------------+------------+-----+\n",
            "only showing top 20 rows\n",
            "\n"
          ]
        }
      ]
    },
    {
      "cell_type": "code",
      "source": [
        "for col in raw_data.columns:\n",
        "  if(col != \"customerID\" and col !=\"tenure\" and col!=\"MonthlyCharges\" and col!=\"TotalCharges\"):\n",
        "    distinct_cat=raw_data.select(col).distinct().rdd.map(lambda r: r[0]).collect()\n",
        "    print(col , \"values: \", distinct_cat)"
      ],
      "metadata": {
        "colab": {
          "base_uri": "https://localhost:8080/"
        },
        "id": "t2UkyUx6xyum",
        "outputId": "6e04b68b-286a-4526-ed63-8415d098ef6a"
      },
      "execution_count": 24,
      "outputs": [
        {
          "output_type": "stream",
          "name": "stdout",
          "text": [
            "gender values:  [None, 'Female', 'Male']\n",
            "SeniorCitizen values:  [0.0, None, 1.0, 14.0, 17.0]\n",
            "Partner values:  [None, 'No', 'Yes']\n",
            "Dependents values:  [None, 'No', 'Yes']\n",
            "PhoneService values:  [None, 'No', 'Yes']\n",
            "MultipleLines values:  ['No phone service', None, 'No', 'Yes']\n",
            "InternetService values:  [None, 'Fiber optic', 'No', 'DSL']\n",
            "OnlineSecurity values:  [None, 'No', 'Yes', 'No internet service']\n",
            "OnlineBackup values:  [None, 'No', 'Yes', 'No internet service']\n",
            "DeviceProtection values:  [None, 'No', 'Yes', 'No internet service']\n",
            "TechSupport values:  [None, 'No', 'Yes', 'No internet service']\n",
            "StreamingTV values:  [None, 'No', 'Yes', 'No internet service']\n",
            "StreamingMovies values:  [None, 'No', 'Yes', 'No internet service']\n",
            "Contract values:  ['Month-to-month', None, 'One year', 'Two year']\n",
            "PaperlessBilling values:  [None, 'No', 'Yes']\n",
            "PaymentMethod values:  ['Credit card (automatic)', None, 'Mailed check', 'Bank transfer (automatic)', 'Electronic check']\n",
            "Label values:  [None, 'No', 'Yes']\n"
          ]
        }
      ]
    },
    {
      "cell_type": "code",
      "source": [
        "print(raw_data.count())\n",
        "raw_data_withoutMV=raw_data.na.drop()\n",
        "print(raw_data_withoutMV.count())"
      ],
      "metadata": {
        "colab": {
          "base_uri": "https://localhost:8080/"
        },
        "id": "Pm7WM9pCEHZG",
        "outputId": "9c468fd1-6267-4e25-e8ad-94fac48bc393"
      },
      "execution_count": 28,
      "outputs": [
        {
          "output_type": "stream",
          "name": "stdout",
          "text": [
            "229990\n",
            "229190\n"
          ]
        }
      ]
    },
    {
      "cell_type": "code",
      "source": [
        "from pyspark.sql.functions import when, lit\n",
        "\n",
        "def mode_of_pyspark_columns(df, cat_col_list):\n",
        "    col_with_mode=[]\n",
        "    for col in cat_col_list:\n",
        "        #Filter null\n",
        "        df = df.filter(df[col].isNull()==False)\n",
        "        #Find unique_values_with_count\n",
        "        unique_classes = df.select(col).distinct().rdd.map(lambda x: x[0]).collect()\n",
        "        unique_values_with_count=[]\n",
        "        for uc in unique_classes:\n",
        "             unique_values_with_count.append([uc, df.filter(df[col]==uc).count()])\n",
        "        #sort unique values w.r.t their count values\n",
        "        sorted_unique_values_with_count= sorted(unique_values_with_count, key = lambda x: x[1], reverse =True)\n",
        "        \n",
        "        col_with_mode.append([col, sorted_unique_values_with_count[0][0]])\n",
        "    return col_with_mode\n",
        "\n",
        "def fill_missing_with_mode(df, cat_col_list):\n",
        "    col_with_mode =mode_of_pyspark_columns(df, cat_col_list)\n",
        "    \n",
        "    for col, mode in col_with_mode:\n",
        "        df = df.withColumn(col, when(df[col].isNull()==True, \n",
        "        lit(mode)).otherwise(df[col]))\n",
        "        \n",
        "    return df\n",
        "\n",
        "cat_col_list=['gender','Partner','Dependents','PhoneService','MultipleLines','InternetService','OnlineSecurity','OnlineBackup','DeviceProtection','TechSupport','StreamingTV','StreamingMovies','Contract','PaperlessBilling','PaymentMethod','Label']\n",
        "FEdataset = fill_missing_with_mode(raw_data, cat_col_list)\n",
        "for col in FEdataset.columns:\n",
        "  print(col, \"\\t\", \"with null values: \", FEdataset.filter(FEdataset[col].isNull()).count())"
      ],
      "metadata": {
        "colab": {
          "base_uri": "https://localhost:8080/"
        },
        "id": "x4aoHMYp9zdZ",
        "outputId": "fbb11f30-a0cd-4c46-e022-74da7ea091e4"
      },
      "execution_count": 93,
      "outputs": [
        {
          "output_type": "stream",
          "name": "stdout",
          "text": [
            "customerID \t with null values:  253\n",
            "gender \t with null values:  0\n",
            "SeniorCitizen \t with null values:  266\n",
            "Partner \t with null values:  0\n",
            "Dependents \t with null values:  0\n",
            "tenure \t with null values:  225\n",
            "PhoneService \t with null values:  0\n",
            "MultipleLines \t with null values:  0\n",
            "InternetService \t with null values:  0\n",
            "OnlineSecurity \t with null values:  0\n",
            "OnlineBackup \t with null values:  0\n",
            "DeviceProtection \t with null values:  0\n",
            "TechSupport \t with null values:  0\n",
            "StreamingTV \t with null values:  0\n",
            "StreamingMovies \t with null values:  0\n",
            "Contract \t with null values:  0\n",
            "PaperlessBilling \t with null values:  0\n",
            "PaymentMethod \t with null values:  0\n",
            "MonthlyCharges \t with null values:  243\n",
            "TotalCharges \t with null values:  251\n",
            "Label \t with null values:  0\n"
          ]
        }
      ]
    },
    {
      "cell_type": "code",
      "source": [
        "from pyspark.ml.feature import Imputer\n",
        "from pyspark.sql.functions import col, trim, lower\n",
        "\n",
        "meanimputer = Imputer(\n",
        "    inputCols=['tenure','MonthlyCharges','TotalCharges'], \n",
        "    outputCols= ['tenure','MonthlyCharges','TotalCharges']\n",
        "    ).setStrategy(\"mean\")\n",
        "FEdataset = meanimputer.fit(FEdataset).transform(FEdataset)\n",
        "FEdataset.select([count(when(isnan(c) | col(c).isNull(), c)).alias(c) for c in FEdataset.columns]).show()\n",
        "modeimputer = Imputer(\n",
        "    inputCols=['SeniorCitizen'], \n",
        "    outputCols= ['SeniorCitizen']\n",
        "    ).setStrategy(\"mode\")\n",
        "FEdataset = modeimputer.fit(FEdataset).transform(FEdataset)\n",
        "FEdataset.select([count(when(isnan(c) | col(c).isNull(), c)).alias(c) for c in FEdataset.columns]).show()\n",
        "for col in FEdataset.columns:\n",
        "  print(col, \"\\t\", \"with null values: \", FEdataset.filter(FEdataset[col].isNull()).count())"
      ],
      "metadata": {
        "colab": {
          "base_uri": "https://localhost:8080/"
        },
        "id": "FixFqSU7osZr",
        "outputId": "5310a6f4-6c12-4d17-f928-a6a0c99514e3"
      },
      "execution_count": 94,
      "outputs": [
        {
          "output_type": "stream",
          "name": "stdout",
          "text": [
            "+----------+------+-------------+-------+----------+------+------------+-------------+---------------+--------------+------------+----------------+-----------+-----------+---------------+--------+----------------+-------------+--------------+------------+-----+\n",
            "|customerID|gender|SeniorCitizen|Partner|Dependents|tenure|PhoneService|MultipleLines|InternetService|OnlineSecurity|OnlineBackup|DeviceProtection|TechSupport|StreamingTV|StreamingMovies|Contract|PaperlessBilling|PaymentMethod|MonthlyCharges|TotalCharges|Label|\n",
            "+----------+------+-------------+-------+----------+------+------------+-------------+---------------+--------------+------------+----------------+-----------+-----------+---------------+--------+----------------+-------------+--------------+------------+-----+\n",
            "|       253|     0|          266|      0|         0|     0|           0|            0|              0|             0|           0|               0|          0|          0|              0|       0|               0|            0|             0|           0|    0|\n",
            "+----------+------+-------------+-------+----------+------+------------+-------------+---------------+--------------+------------+----------------+-----------+-----------+---------------+--------+----------------+-------------+--------------+------------+-----+\n",
            "\n",
            "+----------+------+-------------+-------+----------+------+------------+-------------+---------------+--------------+------------+----------------+-----------+-----------+---------------+--------+----------------+-------------+--------------+------------+-----+\n",
            "|customerID|gender|SeniorCitizen|Partner|Dependents|tenure|PhoneService|MultipleLines|InternetService|OnlineSecurity|OnlineBackup|DeviceProtection|TechSupport|StreamingTV|StreamingMovies|Contract|PaperlessBilling|PaymentMethod|MonthlyCharges|TotalCharges|Label|\n",
            "+----------+------+-------------+-------+----------+------+------------+-------------+---------------+--------------+------------+----------------+-----------+-----------+---------------+--------+----------------+-------------+--------------+------------+-----+\n",
            "|       253|     0|            0|      0|         0|     0|           0|            0|              0|             0|           0|               0|          0|          0|              0|       0|               0|            0|             0|           0|    0|\n",
            "+----------+------+-------------+-------+----------+------+------------+-------------+---------------+--------------+------------+----------------+-----------+-----------+---------------+--------+----------------+-------------+--------------+------------+-----+\n",
            "\n",
            "customerID \t with null values:  253\n",
            "gender \t with null values:  0\n",
            "SeniorCitizen \t with null values:  0\n",
            "Partner \t with null values:  0\n",
            "Dependents \t with null values:  0\n",
            "tenure \t with null values:  0\n",
            "PhoneService \t with null values:  0\n",
            "MultipleLines \t with null values:  0\n",
            "InternetService \t with null values:  0\n",
            "OnlineSecurity \t with null values:  0\n",
            "OnlineBackup \t with null values:  0\n",
            "DeviceProtection \t with null values:  0\n",
            "TechSupport \t with null values:  0\n",
            "StreamingTV \t with null values:  0\n",
            "StreamingMovies \t with null values:  0\n",
            "Contract \t with null values:  0\n",
            "PaperlessBilling \t with null values:  0\n",
            "PaymentMethod \t with null values:  0\n",
            "MonthlyCharges \t with null values:  0\n",
            "TotalCharges \t with null values:  0\n",
            "Label \t with null values:  0\n"
          ]
        }
      ]
    },
    {
      "cell_type": "code",
      "source": [
        "from pyspark.ml.feature import Imputer\n",
        "from pyspark.sql.functions import col, trim, lower\n",
        "def highDependents_column(Partner,Dependents):\n",
        "    if (Partner=='Yes' and Dependents=='Yes'):\n",
        "        highDependents='Yes' \n",
        "    else:\n",
        "        highDependents='No' \n",
        "    return highDependents\n",
        "highDependents_column_UDF = udf( highDependents_column) \n",
        "dataset=FEdataset.withColumn(\"highDependents\", highDependents_column_UDF(col(\"Partner\"),col(\"Dependents\")))\n",
        "dataset.show()\n",
        "\n",
        "dataset.select(dataset[\"Partner\"],dataset[\"Dependents\"],dataset[\"highDependents\"]).show()"
      ],
      "metadata": {
        "colab": {
          "base_uri": "https://localhost:8080/"
        },
        "id": "11YrWmHT5g0I",
        "outputId": "0d7d912c-37f9-4b16-be3b-88abf060db82"
      },
      "execution_count": 97,
      "outputs": [
        {
          "output_type": "stream",
          "name": "stdout",
          "text": [
            "+----------+------+-------------+-------+----------+------+------------+----------------+---------------+-------------------+-------------------+-------------------+-------------------+-------------------+-------------------+--------------+----------------+--------------------+--------------+------------+-----+--------------+\n",
            "|customerID|gender|SeniorCitizen|Partner|Dependents|tenure|PhoneService|   MultipleLines|InternetService|     OnlineSecurity|       OnlineBackup|   DeviceProtection|        TechSupport|        StreamingTV|    StreamingMovies|      Contract|PaperlessBilling|       PaymentMethod|MonthlyCharges|TotalCharges|Label|highDependents|\n",
            "+----------+------+-------------+-------+----------+------+------------+----------------+---------------+-------------------+-------------------+-------------------+-------------------+-------------------+-------------------+--------------+----------------+--------------------+--------------+------------+-----+--------------+\n",
            "|5331-RGMTT|  Male|          1.0|    Yes|        No|  54.0|         Yes|             Yes|    Fiber optic|                 No|                 No|                Yes|                 No|                Yes|                Yes|Month-to-month|             Yes|Credit card (auto...|         99.05|      5295.7|   No|            No|\n",
            "|5161-XEUVX|  Male|          0.0|    Yes|        No|  37.0|         Yes|             Yes|    Fiber optic|                 No|                 No|                Yes|                Yes|                Yes|                 No|      Two year|              No|        Mailed check|          94.3|     3460.95|   No|            No|\n",
            "|0336-PIKEI|  Male|          1.0|    Yes|        No|  72.0|         Yes|              No|            DSL|                Yes|                Yes|                Yes|                Yes|                Yes|                 No|      Two year|              No|Bank transfer (au...|          74.4|     5360.75|   No|            No|\n",
            "|3345-PBBFH|  Male|          0.0|    Yes|        No|   8.0|         Yes|              No|            DSL|                 No|                Yes|                 No|                 No|                 No|                 No|Month-to-month|             Yes|Bank transfer (au...|         49.55|      393.45|   No|            No|\n",
            "|5067-XJQFU|  Male|          1.0|    Yes|       Yes|  66.0|         Yes|             Yes|    Fiber optic|                 No|                Yes|                Yes|                Yes|                Yes|                Yes|      One year|             Yes|    Electronic check|        108.45|     7076.35|   No|           Yes|\n",
            "|4056-QHXHZ|Female|          0.0|    Yes|       Yes|  72.0|         Yes|             Yes|    Fiber optic|                Yes|                 No|                Yes|                Yes|                Yes|                Yes|      Two year|              No|        Mailed check|        107.45|      7576.7|   No|           Yes|\n",
            "|8028-PNXHQ|  Male|          0.0|    Yes|       Yes|  62.0|         Yes|             Yes|             No|No internet service|No internet service|No internet service|No internet service|No internet service|No internet service|      Two year|             Yes|Bank transfer (au...|         24.25|      1424.6|   No|           Yes|\n",
            "|8181-YHCMF|Female|          0.0|    Yes|       Yes|  68.0|          No|No phone service|            DSL|                 No|                Yes|                Yes|                Yes|                Yes|                Yes|      Two year|              No|Credit card (auto...|          60.3|      4109.0|   No|           Yes|\n",
            "|6734-PSBAW|  Male|          0.0|    Yes|        No|  72.0|         Yes|             Yes|             No|No internet service|No internet service|No internet service|No internet service|No internet service|No internet service|      Two year|             Yes|Bank transfer (au...|         23.55|     1723.95|   No|            No|\n",
            "|3655-SNQYZ|Female|          0.0|    Yes|       Yes|  69.0|         Yes|             Yes|    Fiber optic|                Yes|                Yes|                Yes|                Yes|                Yes|                Yes|      Two year|              No|Credit card (auto...|        113.25|     7895.15|   No|           Yes|\n",
            "|9508-ILZDG|Female|          1.0|     No|        No|  34.0|         Yes|             Yes|    Fiber optic|                 No|                Yes|                 No|                Yes|                Yes|                 No|Month-to-month|             Yes|    Electronic check|         96.35|     3190.25|   No|            No|\n",
            "|3620-EHIMZ|Female|          0.0|    Yes|       Yes|  52.0|         Yes|              No|             No|No internet service|No internet service|No internet service|No internet service|No internet service|No internet service|      Two year|              No|        Mailed check|         19.35|      1031.7|   No|           Yes|\n",
            "|4178-EGMON|  Male|          0.0|    Yes|        No|  70.0|         Yes|             Yes|    Fiber optic|                Yes|                Yes|                 No|                Yes|                 No|                 No|      Two year|             Yes|Credit card (auto...|          88.0|     5986.45|   No|            No|\n",
            "|0036-IHMOT|Female|          0.0|    Yes|       Yes|  55.0|         Yes|              No|    Fiber optic|                 No|                Yes|                Yes|                Yes|                Yes|                Yes|      One year|             Yes|Bank transfer (au...|         103.7|     5656.75|   No|           Yes|\n",
            "|0281-CNTZX|  Male|          0.0|    Yes|        No|  63.0|         Yes|              No|             No|No internet service|No internet service|No internet service|No internet service|No internet service|No internet service|      Two year|             Yes|Bank transfer (au...|         19.95|      1234.8|   No|            No|\n",
            "|0530-IJVDB|  Male|          0.0|     No|       Yes|  70.0|         Yes|             Yes|    Fiber optic|                Yes|                Yes|                Yes|                Yes|                Yes|                Yes|      Two year|             Yes|    Electronic check|         114.6|      7882.5|   No|            No|\n",
            "|7251-XFOIL|Female|          0.0|     No|        No|  61.0|         Yes|             Yes|    Fiber optic|                 No|                 No|                Yes|                 No|                 No|                Yes|Month-to-month|              No|        Mailed check|          89.2|      5500.6|   No|            No|\n",
            "|7079-QRCBC|Female|          0.0|     No|        No|  24.0|         Yes|             Yes|    Fiber optic|                 No|                 No|                Yes|                 No|                Yes|                Yes|Month-to-month|             Yes|    Electronic check|         98.75|      2407.3|  Yes|            No|\n",
            "|2908-ZTPNF|Female|          0.0|     No|        No|  36.0|          No|No phone service|            DSL|                 No|                Yes|                 No|                Yes|                 No|                 No|Month-to-month|             Yes|Bank transfer (au...|         34.85|      1267.2|   No|            No|\n",
            "|0640-YJTPY|  Male|          0.0|    Yes|       Yes|  72.0|         Yes|              No|             No|No internet service|No internet service|No internet service|No internet service|No internet service|No internet service|      Two year|              No|Bank transfer (au...|          21.0|     1493.75|   No|           Yes|\n",
            "+----------+------+-------------+-------+----------+------+------------+----------------+---------------+-------------------+-------------------+-------------------+-------------------+-------------------+-------------------+--------------+----------------+--------------------+--------------+------------+-----+--------------+\n",
            "only showing top 20 rows\n",
            "\n",
            "+-------+----------+--------------+\n",
            "|Partner|Dependents|highDependents|\n",
            "+-------+----------+--------------+\n",
            "|    Yes|        No|            No|\n",
            "|    Yes|        No|            No|\n",
            "|    Yes|        No|            No|\n",
            "|    Yes|        No|            No|\n",
            "|    Yes|       Yes|           Yes|\n",
            "|    Yes|       Yes|           Yes|\n",
            "|    Yes|       Yes|           Yes|\n",
            "|    Yes|       Yes|           Yes|\n",
            "|    Yes|        No|            No|\n",
            "|    Yes|       Yes|           Yes|\n",
            "|     No|        No|            No|\n",
            "|    Yes|       Yes|           Yes|\n",
            "|    Yes|        No|            No|\n",
            "|    Yes|       Yes|           Yes|\n",
            "|    Yes|        No|            No|\n",
            "|     No|       Yes|            No|\n",
            "|     No|        No|            No|\n",
            "|     No|        No|            No|\n",
            "|     No|        No|            No|\n",
            "|    Yes|       Yes|           Yes|\n",
            "+-------+----------+--------------+\n",
            "only showing top 20 rows\n",
            "\n"
          ]
        }
      ]
    },
    {
      "cell_type": "code",
      "source": [
        "def Cautious_column(OnlineSecurity,OnlineBackup,DeviceProtection,TechSupport):\n",
        "    CautiousScore=0\n",
        "    if (OnlineSecurity=='Yes' ):\n",
        "        CautiousScore +=1\n",
        "    if (OnlineBackup=='Yes' ):\n",
        "        CautiousScore +=1\n",
        "    if (DeviceProtection=='Yes' ):\n",
        "        CautiousScore +=1\n",
        "    if (TechSupport=='Yes' ):\n",
        "        CautiousScore +=1\n",
        "    Cautious='No'\n",
        "    if (CautiousScore>2):\n",
        "        Cautious='Yes'\n",
        "    return Cautious\n",
        "Cautious_column_UDF = udf( Cautious_column)\n",
        "\n",
        "dataset=dataset.withColumn(\"Cautious\", Cautious_column_UDF(col(\"OnlineSecurity\"),col(\"OnlineBackup\"),col(\"DeviceProtection\"),col(\"TechSupport\")))\n",
        "dataset.select(dataset[\"OnlineSecurity\"],dataset[\"OnlineBackup\"],dataset[\"DeviceProtection\"],dataset[\"TechSupport\"],dataset[\"Cautious\"]).show()\n"
      ],
      "metadata": {
        "colab": {
          "base_uri": "https://localhost:8080/"
        },
        "id": "82j8TOZe9KxU",
        "outputId": "c6d15913-3694-456d-9f2c-202c5ec2a9bb"
      },
      "execution_count": 98,
      "outputs": [
        {
          "output_type": "stream",
          "name": "stdout",
          "text": [
            "+-------------------+-------------------+-------------------+-------------------+--------+\n",
            "|     OnlineSecurity|       OnlineBackup|   DeviceProtection|        TechSupport|Cautious|\n",
            "+-------------------+-------------------+-------------------+-------------------+--------+\n",
            "|                 No|                 No|                Yes|                 No|      No|\n",
            "|                 No|                 No|                Yes|                Yes|      No|\n",
            "|                Yes|                Yes|                Yes|                Yes|     Yes|\n",
            "|                 No|                Yes|                 No|                 No|      No|\n",
            "|                 No|                Yes|                Yes|                Yes|     Yes|\n",
            "|                Yes|                 No|                Yes|                Yes|     Yes|\n",
            "|No internet service|No internet service|No internet service|No internet service|      No|\n",
            "|                 No|                Yes|                Yes|                Yes|     Yes|\n",
            "|No internet service|No internet service|No internet service|No internet service|      No|\n",
            "|                Yes|                Yes|                Yes|                Yes|     Yes|\n",
            "|                 No|                Yes|                 No|                Yes|      No|\n",
            "|No internet service|No internet service|No internet service|No internet service|      No|\n",
            "|                Yes|                Yes|                 No|                Yes|     Yes|\n",
            "|                 No|                Yes|                Yes|                Yes|     Yes|\n",
            "|No internet service|No internet service|No internet service|No internet service|      No|\n",
            "|                Yes|                Yes|                Yes|                Yes|     Yes|\n",
            "|                 No|                 No|                Yes|                 No|      No|\n",
            "|                 No|                 No|                Yes|                 No|      No|\n",
            "|                 No|                Yes|                 No|                Yes|      No|\n",
            "|No internet service|No internet service|No internet service|No internet service|      No|\n",
            "+-------------------+-------------------+-------------------+-------------------+--------+\n",
            "only showing top 20 rows\n",
            "\n"
          ]
        }
      ]
    },
    {
      "cell_type": "code",
      "source": [
        "def FullTech_column(PhoneService,InternetService,StreamingTV,StreamingMovies):\n",
        "    FullTech='No'\n",
        "    if (PhoneService=='Yes' and  InternetService!='No' and StreamingTV=='Yes' and StreamingMovies=='Yes'):\n",
        "        FullTech ='Yes'\n",
        "    return FullTech\n",
        "FullTech_column_UDF = udf( FullTech_column)\n",
        "\n",
        "dataset=dataset.withColumn(\"FullTech\", FullTech_column_UDF(col(\"PhoneService\"),col(\"InternetService\"),col(\"StreamingTV\"),col(\"StreamingMovies\")))\n",
        "dataset.select(dataset[\"PhoneService\"],dataset[\"InternetService\"],dataset[\"StreamingTV\"],dataset[\"StreamingMovies\"],dataset[\"FullTech\"]).show()\n"
      ],
      "metadata": {
        "colab": {
          "base_uri": "https://localhost:8080/"
        },
        "id": "CJNHHzfaJS1k",
        "outputId": "c7d46062-f2c6-4cdd-9e01-1035f8b9cb47"
      },
      "execution_count": 99,
      "outputs": [
        {
          "output_type": "stream",
          "name": "stdout",
          "text": [
            "+------------+---------------+-------------------+-------------------+--------+\n",
            "|PhoneService|InternetService|        StreamingTV|    StreamingMovies|FullTech|\n",
            "+------------+---------------+-------------------+-------------------+--------+\n",
            "|         Yes|    Fiber optic|                Yes|                Yes|     Yes|\n",
            "|         Yes|    Fiber optic|                Yes|                 No|      No|\n",
            "|         Yes|            DSL|                Yes|                 No|      No|\n",
            "|         Yes|            DSL|                 No|                 No|      No|\n",
            "|         Yes|    Fiber optic|                Yes|                Yes|     Yes|\n",
            "|         Yes|    Fiber optic|                Yes|                Yes|     Yes|\n",
            "|         Yes|             No|No internet service|No internet service|      No|\n",
            "|          No|            DSL|                Yes|                Yes|      No|\n",
            "|         Yes|             No|No internet service|No internet service|      No|\n",
            "|         Yes|    Fiber optic|                Yes|                Yes|     Yes|\n",
            "|         Yes|    Fiber optic|                Yes|                 No|      No|\n",
            "|         Yes|             No|No internet service|No internet service|      No|\n",
            "|         Yes|    Fiber optic|                 No|                 No|      No|\n",
            "|         Yes|    Fiber optic|                Yes|                Yes|     Yes|\n",
            "|         Yes|             No|No internet service|No internet service|      No|\n",
            "|         Yes|    Fiber optic|                Yes|                Yes|     Yes|\n",
            "|         Yes|    Fiber optic|                 No|                Yes|      No|\n",
            "|         Yes|    Fiber optic|                Yes|                Yes|     Yes|\n",
            "|          No|            DSL|                 No|                 No|      No|\n",
            "|         Yes|             No|No internet service|No internet service|      No|\n",
            "+------------+---------------+-------------------+-------------------+--------+\n",
            "only showing top 20 rows\n",
            "\n"
          ]
        }
      ]
    },
    {
      "cell_type": "code",
      "source": [
        "dataset=dataset.drop('ContractInMonth')\n",
        "from pyspark.sql.types import IntegerType\n",
        "from pyspark.sql.functions import col, trim, lower\n",
        "def ContractInMonth_column(Contract):\n",
        "    if(Contract=='Two year'):\n",
        "        ContractInMonth=24\n",
        "    elif(Contract=='One year'):\n",
        "        ContractInMonth=12\n",
        "    else:\n",
        "        ContractInMonth=1\n",
        "    return int(ContractInMonth)\n",
        "ContractInMonth_column_UDF = udf( ContractInMonth_column, IntegerType())\n",
        "dataset=dataset.withColumn(\"ContractInMonth\", ContractInMonth_column_UDF(col(\"Contract\")))\n",
        "dataset.printSchema()"
      ],
      "metadata": {
        "colab": {
          "base_uri": "https://localhost:8080/"
        },
        "id": "QVHiBdsYMRl6",
        "outputId": "e1ba20c2-2b83-4ac5-e9b1-575a792ecd18"
      },
      "execution_count": 100,
      "outputs": [
        {
          "output_type": "stream",
          "name": "stdout",
          "text": [
            "root\n",
            " |-- customerID: string (nullable = true)\n",
            " |-- gender: string (nullable = true)\n",
            " |-- SeniorCitizen: double (nullable = true)\n",
            " |-- Partner: string (nullable = true)\n",
            " |-- Dependents: string (nullable = true)\n",
            " |-- tenure: double (nullable = true)\n",
            " |-- PhoneService: string (nullable = true)\n",
            " |-- MultipleLines: string (nullable = true)\n",
            " |-- InternetService: string (nullable = true)\n",
            " |-- OnlineSecurity: string (nullable = true)\n",
            " |-- OnlineBackup: string (nullable = true)\n",
            " |-- DeviceProtection: string (nullable = true)\n",
            " |-- TechSupport: string (nullable = true)\n",
            " |-- StreamingTV: string (nullable = true)\n",
            " |-- StreamingMovies: string (nullable = true)\n",
            " |-- Contract: string (nullable = true)\n",
            " |-- PaperlessBilling: string (nullable = true)\n",
            " |-- PaymentMethod: string (nullable = true)\n",
            " |-- MonthlyCharges: double (nullable = true)\n",
            " |-- TotalCharges: double (nullable = true)\n",
            " |-- Label: string (nullable = true)\n",
            " |-- highDependents: string (nullable = true)\n",
            " |-- Cautious: string (nullable = true)\n",
            " |-- FullTech: string (nullable = true)\n",
            " |-- ContractInMonth: integer (nullable = true)\n",
            "\n"
          ]
        }
      ]
    },
    {
      "cell_type": "code",
      "source": [
        "print(dataset.columns)\n",
        "for col in dataset.columns:\n",
        "  if(col != \"customerID\" and col !=\"tenure\" and col!=\"MonthlyCharges\" and col!=\"TotalCharges\"):\n",
        "    distinct_cat=dataset.select(col).distinct().rdd.map(lambda r: r[0]).collect()\n",
        "    print(col , \"values: \", distinct_cat)"
      ],
      "metadata": {
        "colab": {
          "base_uri": "https://localhost:8080/"
        },
        "id": "g40cYdJmTtqM",
        "outputId": "dd5b61fb-5149-48a2-ab4e-e6d9fca3af84"
      },
      "execution_count": 11,
      "outputs": [
        {
          "output_type": "stream",
          "name": "stdout",
          "text": [
            "['customerID', 'gender', 'SeniorCitizen', 'Partner', 'Dependents', 'tenure', 'PhoneService', 'MultipleLines', 'InternetService', 'OnlineSecurity', 'OnlineBackup', 'DeviceProtection', 'TechSupport', 'StreamingTV', 'StreamingMovies', 'Contract', 'PaperlessBilling', 'PaymentMethod', 'MonthlyCharges', 'TotalCharges', 'Label', 'highDependents', 'Cautious', 'FullTech', 'ContractInMonth']\n",
            "gender values:  ['Female', 'Male']\n",
            "SeniorCitizen values:  [0.0, 1.0, 14.0, 17.0]\n",
            "Partner values:  ['No', 'Yes']\n",
            "Dependents values:  ['No', 'Yes']\n",
            "PhoneService values:  ['No', 'Yes']\n",
            "MultipleLines values:  ['No phone service', 'No', 'Yes']\n",
            "InternetService values:  ['Fiber optic', 'No', 'DSL']\n",
            "OnlineSecurity values:  ['No', 'Yes', 'No internet service']\n",
            "OnlineBackup values:  ['No', 'Yes', 'No internet service']\n",
            "DeviceProtection values:  ['No', 'Yes', 'No internet service']\n",
            "TechSupport values:  ['No', 'Yes', 'No internet service']\n",
            "StreamingTV values:  ['No', 'Yes', 'No internet service']\n",
            "StreamingMovies values:  ['No', 'Yes', 'No internet service']\n",
            "Contract values:  ['Month-to-month', 'One year', 'Two year']\n",
            "PaperlessBilling values:  ['No', 'Yes']\n",
            "PaymentMethod values:  ['Credit card (automatic)', 'Mailed check', 'Bank transfer (automatic)', 'Electronic check']\n",
            "Label values:  ['No', 'Yes']\n",
            "highDependents values:  ['No', 'Yes']\n",
            "Cautious values:  ['No', 'Yes']\n",
            "FullTech values:  ['No', 'Yes']\n",
            "ContractInMonth values:  [12, 1, 24]\n"
          ]
        }
      ]
    },
    {
      "cell_type": "code",
      "source": [
        "from pyspark.ml.feature import StringIndexer\n",
        "all_cat_col_list=['gender','Partner','Dependents','PhoneService','MultipleLines','InternetService','OnlineSecurity','OnlineBackup','DeviceProtection','TechSupport','StreamingTV','StreamingMovies','Contract','PaperlessBilling','PaymentMethod','highDependents','Cautious','FullTech']\n",
        "for col in all_cat_col_list:\n",
        "  outCol='i'+col\n",
        "  dataset=dataset.drop(outCol)\n",
        "  dataset = StringIndexer(inputCol=col,outputCol=outCol,handleInvalid='keep').fit(dataset).transform(dataset)\n",
        "\n",
        "dataset.show()"
      ],
      "metadata": {
        "colab": {
          "base_uri": "https://localhost:8080/"
        },
        "id": "JDO4DIoAng24",
        "outputId": "7086c3f1-2d23-4f21-e486-012b25c719d6"
      },
      "execution_count": 101,
      "outputs": [
        {
          "output_type": "stream",
          "name": "stdout",
          "text": [
            "+----------+------+-------------+-------+----------+------+------------+----------------+---------------+-------------------+-------------------+-------------------+-------------------+-------------------+-------------------+--------------+----------------+--------------------+--------------+------------+-----+--------------+--------+--------+---------------+-------+--------+-----------+-------------+--------------+----------------+---------------+-------------+-----------------+------------+------------+----------------+---------+-----------------+--------------+---------------+---------+---------+\n",
            "|customerID|gender|SeniorCitizen|Partner|Dependents|tenure|PhoneService|   MultipleLines|InternetService|     OnlineSecurity|       OnlineBackup|   DeviceProtection|        TechSupport|        StreamingTV|    StreamingMovies|      Contract|PaperlessBilling|       PaymentMethod|MonthlyCharges|TotalCharges|Label|highDependents|Cautious|FullTech|ContractInMonth|igender|iPartner|iDependents|iPhoneService|iMultipleLines|iInternetService|iOnlineSecurity|iOnlineBackup|iDeviceProtection|iTechSupport|iStreamingTV|iStreamingMovies|iContract|iPaperlessBilling|iPaymentMethod|ihighDependents|iCautious|iFullTech|\n",
            "+----------+------+-------------+-------+----------+------+------------+----------------+---------------+-------------------+-------------------+-------------------+-------------------+-------------------+-------------------+--------------+----------------+--------------------+--------------+------------+-----+--------------+--------+--------+---------------+-------+--------+-----------+-------------+--------------+----------------+---------------+-------------+-----------------+------------+------------+----------------+---------+-----------------+--------------+---------------+---------+---------+\n",
            "|5331-RGMTT|  Male|          1.0|    Yes|        No|  54.0|         Yes|             Yes|    Fiber optic|                 No|                 No|                Yes|                 No|                Yes|                Yes|Month-to-month|             Yes|Credit card (auto...|         99.05|      5295.7|   No|            No|      No|     Yes|              1|    0.0|     0.0|        0.0|          0.0|           0.0|             0.0|            1.0|          1.0|              0.0|         1.0|         0.0|             0.0|      1.0|              0.0|           1.0|            0.0|      0.0|      1.0|\n",
            "|5161-XEUVX|  Male|          0.0|    Yes|        No|  37.0|         Yes|             Yes|    Fiber optic|                 No|                 No|                Yes|                Yes|                Yes|                 No|      Two year|              No|        Mailed check|          94.3|     3460.95|   No|            No|      No|      No|             24|    0.0|     0.0|        0.0|          0.0|           0.0|             0.0|            1.0|          1.0|              0.0|         0.0|         0.0|             1.0|      0.0|              1.0|           3.0|            0.0|      0.0|      0.0|\n",
            "|0336-PIKEI|  Male|          1.0|    Yes|        No|  72.0|         Yes|              No|            DSL|                Yes|                Yes|                Yes|                Yes|                Yes|                 No|      Two year|              No|Bank transfer (au...|          74.4|     5360.75|   No|            No|     Yes|      No|             24|    0.0|     0.0|        0.0|          0.0|           1.0|             1.0|            0.0|          0.0|              0.0|         0.0|         0.0|             1.0|      0.0|              1.0|           0.0|            0.0|      1.0|      0.0|\n",
            "|3345-PBBFH|  Male|          0.0|    Yes|        No|   8.0|         Yes|              No|            DSL|                 No|                Yes|                 No|                 No|                 No|                 No|Month-to-month|             Yes|Bank transfer (au...|         49.55|      393.45|   No|            No|      No|      No|              1|    0.0|     0.0|        0.0|          0.0|           1.0|             1.0|            1.0|          0.0|              1.0|         1.0|         1.0|             1.0|      1.0|              0.0|           0.0|            0.0|      0.0|      0.0|\n",
            "|5067-XJQFU|  Male|          1.0|    Yes|       Yes|  66.0|         Yes|             Yes|    Fiber optic|                 No|                Yes|                Yes|                Yes|                Yes|                Yes|      One year|             Yes|    Electronic check|        108.45|     7076.35|   No|           Yes|     Yes|     Yes|             12|    0.0|     0.0|        1.0|          0.0|           0.0|             0.0|            1.0|          0.0|              0.0|         0.0|         0.0|             0.0|      2.0|              0.0|           2.0|            1.0|      1.0|      1.0|\n",
            "|4056-QHXHZ|Female|          0.0|    Yes|       Yes|  72.0|         Yes|             Yes|    Fiber optic|                Yes|                 No|                Yes|                Yes|                Yes|                Yes|      Two year|              No|        Mailed check|        107.45|      7576.7|   No|           Yes|     Yes|     Yes|             24|    1.0|     0.0|        1.0|          0.0|           0.0|             0.0|            0.0|          1.0|              0.0|         0.0|         0.0|             0.0|      0.0|              1.0|           3.0|            1.0|      1.0|      1.0|\n",
            "|8028-PNXHQ|  Male|          0.0|    Yes|       Yes|  62.0|         Yes|             Yes|             No|No internet service|No internet service|No internet service|No internet service|No internet service|No internet service|      Two year|             Yes|Bank transfer (au...|         24.25|      1424.6|   No|           Yes|      No|      No|             24|    0.0|     0.0|        1.0|          0.0|           0.0|             2.0|            2.0|          2.0|              2.0|         2.0|         2.0|             2.0|      0.0|              0.0|           0.0|            1.0|      0.0|      0.0|\n",
            "|8181-YHCMF|Female|          0.0|    Yes|       Yes|  68.0|          No|No phone service|            DSL|                 No|                Yes|                Yes|                Yes|                Yes|                Yes|      Two year|              No|Credit card (auto...|          60.3|      4109.0|   No|           Yes|     Yes|      No|             24|    1.0|     0.0|        1.0|          1.0|           2.0|             1.0|            1.0|          0.0|              0.0|         0.0|         0.0|             0.0|      0.0|              1.0|           1.0|            1.0|      1.0|      0.0|\n",
            "|6734-PSBAW|  Male|          0.0|    Yes|        No|  72.0|         Yes|             Yes|             No|No internet service|No internet service|No internet service|No internet service|No internet service|No internet service|      Two year|             Yes|Bank transfer (au...|         23.55|     1723.95|   No|            No|      No|      No|             24|    0.0|     0.0|        0.0|          0.0|           0.0|             2.0|            2.0|          2.0|              2.0|         2.0|         2.0|             2.0|      0.0|              0.0|           0.0|            0.0|      0.0|      0.0|\n",
            "|3655-SNQYZ|Female|          0.0|    Yes|       Yes|  69.0|         Yes|             Yes|    Fiber optic|                Yes|                Yes|                Yes|                Yes|                Yes|                Yes|      Two year|              No|Credit card (auto...|        113.25|     7895.15|   No|           Yes|     Yes|     Yes|             24|    1.0|     0.0|        1.0|          0.0|           0.0|             0.0|            0.0|          0.0|              0.0|         0.0|         0.0|             0.0|      0.0|              1.0|           1.0|            1.0|      1.0|      1.0|\n",
            "|9508-ILZDG|Female|          1.0|     No|        No|  34.0|         Yes|             Yes|    Fiber optic|                 No|                Yes|                 No|                Yes|                Yes|                 No|Month-to-month|             Yes|    Electronic check|         96.35|     3190.25|   No|            No|      No|      No|              1|    1.0|     1.0|        0.0|          0.0|           0.0|             0.0|            1.0|          0.0|              1.0|         0.0|         0.0|             1.0|      1.0|              0.0|           2.0|            0.0|      0.0|      0.0|\n",
            "|3620-EHIMZ|Female|          0.0|    Yes|       Yes|  52.0|         Yes|              No|             No|No internet service|No internet service|No internet service|No internet service|No internet service|No internet service|      Two year|              No|        Mailed check|         19.35|      1031.7|   No|           Yes|      No|      No|             24|    1.0|     0.0|        1.0|          0.0|           1.0|             2.0|            2.0|          2.0|              2.0|         2.0|         2.0|             2.0|      0.0|              1.0|           3.0|            1.0|      0.0|      0.0|\n",
            "|4178-EGMON|  Male|          0.0|    Yes|        No|  70.0|         Yes|             Yes|    Fiber optic|                Yes|                Yes|                 No|                Yes|                 No|                 No|      Two year|             Yes|Credit card (auto...|          88.0|     5986.45|   No|            No|     Yes|      No|             24|    0.0|     0.0|        0.0|          0.0|           0.0|             0.0|            0.0|          0.0|              1.0|         0.0|         1.0|             1.0|      0.0|              0.0|           1.0|            0.0|      1.0|      0.0|\n",
            "|0036-IHMOT|Female|          0.0|    Yes|       Yes|  55.0|         Yes|              No|    Fiber optic|                 No|                Yes|                Yes|                Yes|                Yes|                Yes|      One year|             Yes|Bank transfer (au...|         103.7|     5656.75|   No|           Yes|     Yes|     Yes|             12|    1.0|     0.0|        1.0|          0.0|           1.0|             0.0|            1.0|          0.0|              0.0|         0.0|         0.0|             0.0|      2.0|              0.0|           0.0|            1.0|      1.0|      1.0|\n",
            "|0281-CNTZX|  Male|          0.0|    Yes|        No|  63.0|         Yes|              No|             No|No internet service|No internet service|No internet service|No internet service|No internet service|No internet service|      Two year|             Yes|Bank transfer (au...|         19.95|      1234.8|   No|            No|      No|      No|             24|    0.0|     0.0|        0.0|          0.0|           1.0|             2.0|            2.0|          2.0|              2.0|         2.0|         2.0|             2.0|      0.0|              0.0|           0.0|            0.0|      0.0|      0.0|\n",
            "|0530-IJVDB|  Male|          0.0|     No|       Yes|  70.0|         Yes|             Yes|    Fiber optic|                Yes|                Yes|                Yes|                Yes|                Yes|                Yes|      Two year|             Yes|    Electronic check|         114.6|      7882.5|   No|            No|     Yes|     Yes|             24|    0.0|     1.0|        1.0|          0.0|           0.0|             0.0|            0.0|          0.0|              0.0|         0.0|         0.0|             0.0|      0.0|              0.0|           2.0|            0.0|      1.0|      1.0|\n",
            "|7251-XFOIL|Female|          0.0|     No|        No|  61.0|         Yes|             Yes|    Fiber optic|                 No|                 No|                Yes|                 No|                 No|                Yes|Month-to-month|              No|        Mailed check|          89.2|      5500.6|   No|            No|      No|      No|              1|    1.0|     1.0|        0.0|          0.0|           0.0|             0.0|            1.0|          1.0|              0.0|         1.0|         1.0|             0.0|      1.0|              1.0|           3.0|            0.0|      0.0|      0.0|\n",
            "|7079-QRCBC|Female|          0.0|     No|        No|  24.0|         Yes|             Yes|    Fiber optic|                 No|                 No|                Yes|                 No|                Yes|                Yes|Month-to-month|             Yes|    Electronic check|         98.75|      2407.3|  Yes|            No|      No|     Yes|              1|    1.0|     1.0|        0.0|          0.0|           0.0|             0.0|            1.0|          1.0|              0.0|         1.0|         0.0|             0.0|      1.0|              0.0|           2.0|            0.0|      0.0|      1.0|\n",
            "|2908-ZTPNF|Female|          0.0|     No|        No|  36.0|          No|No phone service|            DSL|                 No|                Yes|                 No|                Yes|                 No|                 No|Month-to-month|             Yes|Bank transfer (au...|         34.85|      1267.2|   No|            No|      No|      No|              1|    1.0|     1.0|        0.0|          1.0|           2.0|             1.0|            1.0|          0.0|              1.0|         0.0|         1.0|             1.0|      1.0|              0.0|           0.0|            0.0|      0.0|      0.0|\n",
            "|0640-YJTPY|  Male|          0.0|    Yes|       Yes|  72.0|         Yes|              No|             No|No internet service|No internet service|No internet service|No internet service|No internet service|No internet service|      Two year|              No|Bank transfer (au...|          21.0|     1493.75|   No|           Yes|      No|      No|             24|    0.0|     0.0|        1.0|          0.0|           1.0|             2.0|            2.0|          2.0|              2.0|         2.0|         2.0|             2.0|      0.0|              1.0|           0.0|            1.0|      0.0|      0.0|\n",
            "+----------+------+-------------+-------+----------+------+------------+----------------+---------------+-------------------+-------------------+-------------------+-------------------+-------------------+-------------------+--------------+----------------+--------------------+--------------+------------+-----+--------------+--------+--------+---------------+-------+--------+-----------+-------------+--------------+----------------+---------------+-------------+-----------------+------------+------------+----------------+---------+-----------------+--------------+---------------+---------+---------+\n",
            "only showing top 20 rows\n",
            "\n"
          ]
        }
      ]
    },
    {
      "cell_type": "code",
      "source": [
        "\n",
        "dataset = StringIndexer(inputCol='Label',outputCol='iLabel',handleInvalid='keep').fit(dataset).transform(dataset)\n",
        "dataset.show()"
      ],
      "metadata": {
        "colab": {
          "base_uri": "https://localhost:8080/"
        },
        "id": "l2uymIHTWIf2",
        "outputId": "37b34e75-057c-425d-836a-0130ceb8738d"
      },
      "execution_count": 102,
      "outputs": [
        {
          "output_type": "stream",
          "name": "stdout",
          "text": [
            "+----------+------+-------------+-------+----------+------+------------+----------------+---------------+-------------------+-------------------+-------------------+-------------------+-------------------+-------------------+--------------+----------------+--------------------+--------------+------------+-----+--------------+--------+--------+---------------+-------+--------+-----------+-------------+--------------+----------------+---------------+-------------+-----------------+------------+------------+----------------+---------+-----------------+--------------+---------------+---------+---------+------+\n",
            "|customerID|gender|SeniorCitizen|Partner|Dependents|tenure|PhoneService|   MultipleLines|InternetService|     OnlineSecurity|       OnlineBackup|   DeviceProtection|        TechSupport|        StreamingTV|    StreamingMovies|      Contract|PaperlessBilling|       PaymentMethod|MonthlyCharges|TotalCharges|Label|highDependents|Cautious|FullTech|ContractInMonth|igender|iPartner|iDependents|iPhoneService|iMultipleLines|iInternetService|iOnlineSecurity|iOnlineBackup|iDeviceProtection|iTechSupport|iStreamingTV|iStreamingMovies|iContract|iPaperlessBilling|iPaymentMethod|ihighDependents|iCautious|iFullTech|iLabel|\n",
            "+----------+------+-------------+-------+----------+------+------------+----------------+---------------+-------------------+-------------------+-------------------+-------------------+-------------------+-------------------+--------------+----------------+--------------------+--------------+------------+-----+--------------+--------+--------+---------------+-------+--------+-----------+-------------+--------------+----------------+---------------+-------------+-----------------+------------+------------+----------------+---------+-----------------+--------------+---------------+---------+---------+------+\n",
            "|5331-RGMTT|  Male|          1.0|    Yes|        No|  54.0|         Yes|             Yes|    Fiber optic|                 No|                 No|                Yes|                 No|                Yes|                Yes|Month-to-month|             Yes|Credit card (auto...|         99.05|      5295.7|   No|            No|      No|     Yes|              1|    0.0|     0.0|        0.0|          0.0|           0.0|             0.0|            1.0|          1.0|              0.0|         1.0|         0.0|             0.0|      1.0|              0.0|           1.0|            0.0|      0.0|      1.0|   0.0|\n",
            "|5161-XEUVX|  Male|          0.0|    Yes|        No|  37.0|         Yes|             Yes|    Fiber optic|                 No|                 No|                Yes|                Yes|                Yes|                 No|      Two year|              No|        Mailed check|          94.3|     3460.95|   No|            No|      No|      No|             24|    0.0|     0.0|        0.0|          0.0|           0.0|             0.0|            1.0|          1.0|              0.0|         0.0|         0.0|             1.0|      0.0|              1.0|           3.0|            0.0|      0.0|      0.0|   0.0|\n",
            "|0336-PIKEI|  Male|          1.0|    Yes|        No|  72.0|         Yes|              No|            DSL|                Yes|                Yes|                Yes|                Yes|                Yes|                 No|      Two year|              No|Bank transfer (au...|          74.4|     5360.75|   No|            No|     Yes|      No|             24|    0.0|     0.0|        0.0|          0.0|           1.0|             1.0|            0.0|          0.0|              0.0|         0.0|         0.0|             1.0|      0.0|              1.0|           0.0|            0.0|      1.0|      0.0|   0.0|\n",
            "|3345-PBBFH|  Male|          0.0|    Yes|        No|   8.0|         Yes|              No|            DSL|                 No|                Yes|                 No|                 No|                 No|                 No|Month-to-month|             Yes|Bank transfer (au...|         49.55|      393.45|   No|            No|      No|      No|              1|    0.0|     0.0|        0.0|          0.0|           1.0|             1.0|            1.0|          0.0|              1.0|         1.0|         1.0|             1.0|      1.0|              0.0|           0.0|            0.0|      0.0|      0.0|   0.0|\n",
            "|5067-XJQFU|  Male|          1.0|    Yes|       Yes|  66.0|         Yes|             Yes|    Fiber optic|                 No|                Yes|                Yes|                Yes|                Yes|                Yes|      One year|             Yes|    Electronic check|        108.45|     7076.35|   No|           Yes|     Yes|     Yes|             12|    0.0|     0.0|        1.0|          0.0|           0.0|             0.0|            1.0|          0.0|              0.0|         0.0|         0.0|             0.0|      2.0|              0.0|           2.0|            1.0|      1.0|      1.0|   0.0|\n",
            "|4056-QHXHZ|Female|          0.0|    Yes|       Yes|  72.0|         Yes|             Yes|    Fiber optic|                Yes|                 No|                Yes|                Yes|                Yes|                Yes|      Two year|              No|        Mailed check|        107.45|      7576.7|   No|           Yes|     Yes|     Yes|             24|    1.0|     0.0|        1.0|          0.0|           0.0|             0.0|            0.0|          1.0|              0.0|         0.0|         0.0|             0.0|      0.0|              1.0|           3.0|            1.0|      1.0|      1.0|   0.0|\n",
            "|8028-PNXHQ|  Male|          0.0|    Yes|       Yes|  62.0|         Yes|             Yes|             No|No internet service|No internet service|No internet service|No internet service|No internet service|No internet service|      Two year|             Yes|Bank transfer (au...|         24.25|      1424.6|   No|           Yes|      No|      No|             24|    0.0|     0.0|        1.0|          0.0|           0.0|             2.0|            2.0|          2.0|              2.0|         2.0|         2.0|             2.0|      0.0|              0.0|           0.0|            1.0|      0.0|      0.0|   0.0|\n",
            "|8181-YHCMF|Female|          0.0|    Yes|       Yes|  68.0|          No|No phone service|            DSL|                 No|                Yes|                Yes|                Yes|                Yes|                Yes|      Two year|              No|Credit card (auto...|          60.3|      4109.0|   No|           Yes|     Yes|      No|             24|    1.0|     0.0|        1.0|          1.0|           2.0|             1.0|            1.0|          0.0|              0.0|         0.0|         0.0|             0.0|      0.0|              1.0|           1.0|            1.0|      1.0|      0.0|   0.0|\n",
            "|6734-PSBAW|  Male|          0.0|    Yes|        No|  72.0|         Yes|             Yes|             No|No internet service|No internet service|No internet service|No internet service|No internet service|No internet service|      Two year|             Yes|Bank transfer (au...|         23.55|     1723.95|   No|            No|      No|      No|             24|    0.0|     0.0|        0.0|          0.0|           0.0|             2.0|            2.0|          2.0|              2.0|         2.0|         2.0|             2.0|      0.0|              0.0|           0.0|            0.0|      0.0|      0.0|   0.0|\n",
            "|3655-SNQYZ|Female|          0.0|    Yes|       Yes|  69.0|         Yes|             Yes|    Fiber optic|                Yes|                Yes|                Yes|                Yes|                Yes|                Yes|      Two year|              No|Credit card (auto...|        113.25|     7895.15|   No|           Yes|     Yes|     Yes|             24|    1.0|     0.0|        1.0|          0.0|           0.0|             0.0|            0.0|          0.0|              0.0|         0.0|         0.0|             0.0|      0.0|              1.0|           1.0|            1.0|      1.0|      1.0|   0.0|\n",
            "|9508-ILZDG|Female|          1.0|     No|        No|  34.0|         Yes|             Yes|    Fiber optic|                 No|                Yes|                 No|                Yes|                Yes|                 No|Month-to-month|             Yes|    Electronic check|         96.35|     3190.25|   No|            No|      No|      No|              1|    1.0|     1.0|        0.0|          0.0|           0.0|             0.0|            1.0|          0.0|              1.0|         0.0|         0.0|             1.0|      1.0|              0.0|           2.0|            0.0|      0.0|      0.0|   0.0|\n",
            "|3620-EHIMZ|Female|          0.0|    Yes|       Yes|  52.0|         Yes|              No|             No|No internet service|No internet service|No internet service|No internet service|No internet service|No internet service|      Two year|              No|        Mailed check|         19.35|      1031.7|   No|           Yes|      No|      No|             24|    1.0|     0.0|        1.0|          0.0|           1.0|             2.0|            2.0|          2.0|              2.0|         2.0|         2.0|             2.0|      0.0|              1.0|           3.0|            1.0|      0.0|      0.0|   0.0|\n",
            "|4178-EGMON|  Male|          0.0|    Yes|        No|  70.0|         Yes|             Yes|    Fiber optic|                Yes|                Yes|                 No|                Yes|                 No|                 No|      Two year|             Yes|Credit card (auto...|          88.0|     5986.45|   No|            No|     Yes|      No|             24|    0.0|     0.0|        0.0|          0.0|           0.0|             0.0|            0.0|          0.0|              1.0|         0.0|         1.0|             1.0|      0.0|              0.0|           1.0|            0.0|      1.0|      0.0|   0.0|\n",
            "|0036-IHMOT|Female|          0.0|    Yes|       Yes|  55.0|         Yes|              No|    Fiber optic|                 No|                Yes|                Yes|                Yes|                Yes|                Yes|      One year|             Yes|Bank transfer (au...|         103.7|     5656.75|   No|           Yes|     Yes|     Yes|             12|    1.0|     0.0|        1.0|          0.0|           1.0|             0.0|            1.0|          0.0|              0.0|         0.0|         0.0|             0.0|      2.0|              0.0|           0.0|            1.0|      1.0|      1.0|   0.0|\n",
            "|0281-CNTZX|  Male|          0.0|    Yes|        No|  63.0|         Yes|              No|             No|No internet service|No internet service|No internet service|No internet service|No internet service|No internet service|      Two year|             Yes|Bank transfer (au...|         19.95|      1234.8|   No|            No|      No|      No|             24|    0.0|     0.0|        0.0|          0.0|           1.0|             2.0|            2.0|          2.0|              2.0|         2.0|         2.0|             2.0|      0.0|              0.0|           0.0|            0.0|      0.0|      0.0|   0.0|\n",
            "|0530-IJVDB|  Male|          0.0|     No|       Yes|  70.0|         Yes|             Yes|    Fiber optic|                Yes|                Yes|                Yes|                Yes|                Yes|                Yes|      Two year|             Yes|    Electronic check|         114.6|      7882.5|   No|            No|     Yes|     Yes|             24|    0.0|     1.0|        1.0|          0.0|           0.0|             0.0|            0.0|          0.0|              0.0|         0.0|         0.0|             0.0|      0.0|              0.0|           2.0|            0.0|      1.0|      1.0|   0.0|\n",
            "|7251-XFOIL|Female|          0.0|     No|        No|  61.0|         Yes|             Yes|    Fiber optic|                 No|                 No|                Yes|                 No|                 No|                Yes|Month-to-month|              No|        Mailed check|          89.2|      5500.6|   No|            No|      No|      No|              1|    1.0|     1.0|        0.0|          0.0|           0.0|             0.0|            1.0|          1.0|              0.0|         1.0|         1.0|             0.0|      1.0|              1.0|           3.0|            0.0|      0.0|      0.0|   0.0|\n",
            "|7079-QRCBC|Female|          0.0|     No|        No|  24.0|         Yes|             Yes|    Fiber optic|                 No|                 No|                Yes|                 No|                Yes|                Yes|Month-to-month|             Yes|    Electronic check|         98.75|      2407.3|  Yes|            No|      No|     Yes|              1|    1.0|     1.0|        0.0|          0.0|           0.0|             0.0|            1.0|          1.0|              0.0|         1.0|         0.0|             0.0|      1.0|              0.0|           2.0|            0.0|      0.0|      1.0|   1.0|\n",
            "|2908-ZTPNF|Female|          0.0|     No|        No|  36.0|          No|No phone service|            DSL|                 No|                Yes|                 No|                Yes|                 No|                 No|Month-to-month|             Yes|Bank transfer (au...|         34.85|      1267.2|   No|            No|      No|      No|              1|    1.0|     1.0|        0.0|          1.0|           2.0|             1.0|            1.0|          0.0|              1.0|         0.0|         1.0|             1.0|      1.0|              0.0|           0.0|            0.0|      0.0|      0.0|   0.0|\n",
            "|0640-YJTPY|  Male|          0.0|    Yes|       Yes|  72.0|         Yes|              No|             No|No internet service|No internet service|No internet service|No internet service|No internet service|No internet service|      Two year|              No|Bank transfer (au...|          21.0|     1493.75|   No|           Yes|      No|      No|             24|    0.0|     0.0|        1.0|          0.0|           1.0|             2.0|            2.0|          2.0|              2.0|         2.0|         2.0|             2.0|      0.0|              1.0|           0.0|            1.0|      0.0|      0.0|   0.0|\n",
            "+----------+------+-------------+-------+----------+------+------------+----------------+---------------+-------------------+-------------------+-------------------+-------------------+-------------------+-------------------+--------------+----------------+--------------------+--------------+------------+-----+--------------+--------+--------+---------------+-------+--------+-----------+-------------+--------------+----------------+---------------+-------------+-----------------+------------+------------+----------------+---------+-----------------+--------------+---------------+---------+---------+------+\n",
            "only showing top 20 rows\n",
            "\n"
          ]
        }
      ]
    },
    {
      "cell_type": "code",
      "source": [
        "dataset=dataset.drop('gender','Partner','Dependents','PhoneService','MultipleLines','InternetService','OnlineSecurity','OnlineBackup','DeviceProtection','TechSupport','StreamingTV','StreamingMovies','Contract','PaperlessBilling','PaymentMethod','highDependents','Cautious','FullTech','Label')\n",
        "\n",
        "dataset.show()"
      ],
      "metadata": {
        "colab": {
          "base_uri": "https://localhost:8080/"
        },
        "id": "XiDYobIAYK2m",
        "outputId": "d1c54e4f-468e-48bb-9156-d83a80df2299"
      },
      "execution_count": 110,
      "outputs": [
        {
          "output_type": "stream",
          "name": "stdout",
          "text": [
            "+----------+-------------+------+--------------+------------+---------------+-------+--------+-----------+-------------+--------------+----------------+---------------+-------------+-----------------+------------+------------+----------------+---------+-----------------+--------------+---------------+---------+---------+------+\n",
            "|customerID|SeniorCitizen|tenure|MonthlyCharges|TotalCharges|ContractInMonth|igender|iPartner|iDependents|iPhoneService|iMultipleLines|iInternetService|iOnlineSecurity|iOnlineBackup|iDeviceProtection|iTechSupport|iStreamingTV|iStreamingMovies|iContract|iPaperlessBilling|iPaymentMethod|ihighDependents|iCautious|iFullTech|iLabel|\n",
            "+----------+-------------+------+--------------+------------+---------------+-------+--------+-----------+-------------+--------------+----------------+---------------+-------------+-----------------+------------+------------+----------------+---------+-----------------+--------------+---------------+---------+---------+------+\n",
            "|5331-RGMTT|          1.0|  54.0|         99.05|      5295.7|              1|    0.0|     0.0|        0.0|          0.0|           0.0|             0.0|            1.0|          1.0|              0.0|         1.0|         0.0|             0.0|      1.0|              0.0|           1.0|            0.0|      0.0|      1.0|   0.0|\n",
            "|5161-XEUVX|          0.0|  37.0|          94.3|     3460.95|             24|    0.0|     0.0|        0.0|          0.0|           0.0|             0.0|            1.0|          1.0|              0.0|         0.0|         0.0|             1.0|      0.0|              1.0|           3.0|            0.0|      0.0|      0.0|   0.0|\n",
            "|0336-PIKEI|          1.0|  72.0|          74.4|     5360.75|             24|    0.0|     0.0|        0.0|          0.0|           1.0|             1.0|            0.0|          0.0|              0.0|         0.0|         0.0|             1.0|      0.0|              1.0|           0.0|            0.0|      1.0|      0.0|   0.0|\n",
            "|3345-PBBFH|          0.0|   8.0|         49.55|      393.45|              1|    0.0|     0.0|        0.0|          0.0|           1.0|             1.0|            1.0|          0.0|              1.0|         1.0|         1.0|             1.0|      1.0|              0.0|           0.0|            0.0|      0.0|      0.0|   0.0|\n",
            "|5067-XJQFU|          1.0|  66.0|        108.45|     7076.35|             12|    0.0|     0.0|        1.0|          0.0|           0.0|             0.0|            1.0|          0.0|              0.0|         0.0|         0.0|             0.0|      2.0|              0.0|           2.0|            1.0|      1.0|      1.0|   0.0|\n",
            "|4056-QHXHZ|          0.0|  72.0|        107.45|      7576.7|             24|    1.0|     0.0|        1.0|          0.0|           0.0|             0.0|            0.0|          1.0|              0.0|         0.0|         0.0|             0.0|      0.0|              1.0|           3.0|            1.0|      1.0|      1.0|   0.0|\n",
            "|8028-PNXHQ|          0.0|  62.0|         24.25|      1424.6|             24|    0.0|     0.0|        1.0|          0.0|           0.0|             2.0|            2.0|          2.0|              2.0|         2.0|         2.0|             2.0|      0.0|              0.0|           0.0|            1.0|      0.0|      0.0|   0.0|\n",
            "|8181-YHCMF|          0.0|  68.0|          60.3|      4109.0|             24|    1.0|     0.0|        1.0|          1.0|           2.0|             1.0|            1.0|          0.0|              0.0|         0.0|         0.0|             0.0|      0.0|              1.0|           1.0|            1.0|      1.0|      0.0|   0.0|\n",
            "|6734-PSBAW|          0.0|  72.0|         23.55|     1723.95|             24|    0.0|     0.0|        0.0|          0.0|           0.0|             2.0|            2.0|          2.0|              2.0|         2.0|         2.0|             2.0|      0.0|              0.0|           0.0|            0.0|      0.0|      0.0|   0.0|\n",
            "|3655-SNQYZ|          0.0|  69.0|        113.25|     7895.15|             24|    1.0|     0.0|        1.0|          0.0|           0.0|             0.0|            0.0|          0.0|              0.0|         0.0|         0.0|             0.0|      0.0|              1.0|           1.0|            1.0|      1.0|      1.0|   0.0|\n",
            "|9508-ILZDG|          1.0|  34.0|         96.35|     3190.25|              1|    1.0|     1.0|        0.0|          0.0|           0.0|             0.0|            1.0|          0.0|              1.0|         0.0|         0.0|             1.0|      1.0|              0.0|           2.0|            0.0|      0.0|      0.0|   0.0|\n",
            "|3620-EHIMZ|          0.0|  52.0|         19.35|      1031.7|             24|    1.0|     0.0|        1.0|          0.0|           1.0|             2.0|            2.0|          2.0|              2.0|         2.0|         2.0|             2.0|      0.0|              1.0|           3.0|            1.0|      0.0|      0.0|   0.0|\n",
            "|4178-EGMON|          0.0|  70.0|          88.0|     5986.45|             24|    0.0|     0.0|        0.0|          0.0|           0.0|             0.0|            0.0|          0.0|              1.0|         0.0|         1.0|             1.0|      0.0|              0.0|           1.0|            0.0|      1.0|      0.0|   0.0|\n",
            "|0036-IHMOT|          0.0|  55.0|         103.7|     5656.75|             12|    1.0|     0.0|        1.0|          0.0|           1.0|             0.0|            1.0|          0.0|              0.0|         0.0|         0.0|             0.0|      2.0|              0.0|           0.0|            1.0|      1.0|      1.0|   0.0|\n",
            "|0281-CNTZX|          0.0|  63.0|         19.95|      1234.8|             24|    0.0|     0.0|        0.0|          0.0|           1.0|             2.0|            2.0|          2.0|              2.0|         2.0|         2.0|             2.0|      0.0|              0.0|           0.0|            0.0|      0.0|      0.0|   0.0|\n",
            "|0530-IJVDB|          0.0|  70.0|         114.6|      7882.5|             24|    0.0|     1.0|        1.0|          0.0|           0.0|             0.0|            0.0|          0.0|              0.0|         0.0|         0.0|             0.0|      0.0|              0.0|           2.0|            0.0|      1.0|      1.0|   0.0|\n",
            "|7251-XFOIL|          0.0|  61.0|          89.2|      5500.6|              1|    1.0|     1.0|        0.0|          0.0|           0.0|             0.0|            1.0|          1.0|              0.0|         1.0|         1.0|             0.0|      1.0|              1.0|           3.0|            0.0|      0.0|      0.0|   0.0|\n",
            "|7079-QRCBC|          0.0|  24.0|         98.75|      2407.3|              1|    1.0|     1.0|        0.0|          0.0|           0.0|             0.0|            1.0|          1.0|              0.0|         1.0|         0.0|             0.0|      1.0|              0.0|           2.0|            0.0|      0.0|      1.0|   1.0|\n",
            "|2908-ZTPNF|          0.0|  36.0|         34.85|      1267.2|              1|    1.0|     1.0|        0.0|          1.0|           2.0|             1.0|            1.0|          0.0|              1.0|         0.0|         1.0|             1.0|      1.0|              0.0|           0.0|            0.0|      0.0|      0.0|   0.0|\n",
            "|0640-YJTPY|          0.0|  72.0|          21.0|     1493.75|             24|    0.0|     0.0|        1.0|          0.0|           1.0|             2.0|            2.0|          2.0|              2.0|         2.0|         2.0|             2.0|      0.0|              1.0|           0.0|            1.0|      0.0|      0.0|   0.0|\n",
            "+----------+-------------+------+--------------+------------+---------------+-------+--------+-----------+-------------+--------------+----------------+---------------+-------------+-----------------+------------+------------+----------------+---------+-----------------+--------------+---------------+---------+---------+------+\n",
            "only showing top 20 rows\n",
            "\n"
          ]
        }
      ]
    },
    {
      "cell_type": "code",
      "source": [
        "\n",
        "from pyspark.ml.feature import VectorAssembler\n",
        "all_features=['SeniorCitizen','tenure','MonthlyCharges','TotalCharges','ContractInMonth','igender','iPartner','iDependents','iPhoneService','iMultipleLines','iInternetService','iOnlineSecurity','iOnlineBackup','iDeviceProtection','iTechSupport','iStreamingTV','iStreamingMovies','iContract','iPaperlessBilling','iPaymentMethod','ihighDependents','iCautious','iFullTech']\n",
        "all_features_assembler = VectorAssembler(inputCols=all_features, outputCol='AllFeatures')\n",
        "af_transformed_dataset = all_features_assembler.transform(dataset)\n",
        "af_transformed_dataset.select(af_transformed_dataset[\"AllFeatures\"]).show(truncate=False)\n"
      ],
      "metadata": {
        "colab": {
          "base_uri": "https://localhost:8080/"
        },
        "id": "2FweQavybxAd",
        "outputId": "de2a6454-39d6-4acf-dab4-3031f2b4b836"
      },
      "execution_count": 83,
      "outputs": [
        {
          "output_type": "stream",
          "name": "stdout",
          "text": [
            "+--------------------------------------------------------------------------------------------------------+\n",
            "|AllFeatures                                                                                             |\n",
            "+--------------------------------------------------------------------------------------------------------+\n",
            "|(23,[0,1,2,3,4,11,12,14,17,19,22],[1.0,54.0,99.05,5295.7,1.0,1.0,1.0,1.0,1.0,1.0,1.0])                  |\n",
            "|(23,[1,2,3,4,11,12,16,18,19],[37.0,94.3,3460.95,24.0,1.0,1.0,1.0,1.0,3.0])                              |\n",
            "|(23,[0,1,2,3,4,9,10,16,18,21],[1.0,72.0,74.4,5360.75,24.0,1.0,1.0,1.0,1.0,1.0])                         |\n",
            "|(23,[1,2,3,4,9,10,11,13,14,15,16,17],[8.0,49.55,393.45,1.0,1.0,1.0,1.0,1.0,1.0,1.0,1.0,1.0])            |\n",
            "|(23,[0,1,2,3,4,7,11,17,19,20,21,22],[1.0,66.0,108.45,7076.35,12.0,1.0,1.0,2.0,2.0,1.0,1.0,1.0])         |\n",
            "|(23,[1,2,3,4,5,7,12,18,19,20,21,22],[72.0,107.45,7576.7,24.0,1.0,1.0,1.0,1.0,3.0,1.0,1.0,1.0])          |\n",
            "|(23,[1,2,3,4,7,10,11,12,13,14,15,16,20],[62.0,24.25,1424.6,24.0,1.0,2.0,2.0,2.0,2.0,2.0,2.0,2.0,1.0])   |\n",
            "|(23,[1,2,3,4,5,7,8,9,10,11,18,19,20,21],[68.0,60.3,4109.0,24.0,1.0,1.0,1.0,2.0,1.0,1.0,1.0,1.0,1.0,1.0])|\n",
            "|(23,[1,2,3,4,10,11,12,13,14,15,16],[72.0,23.55,1723.95,24.0,2.0,2.0,2.0,2.0,2.0,2.0,2.0])               |\n",
            "|(23,[1,2,3,4,5,7,18,19,20,21,22],[69.0,113.25,7895.15,24.0,1.0,1.0,1.0,1.0,1.0,1.0,1.0])                |\n",
            "|(23,[0,1,2,3,4,5,6,11,13,16,17,19],[1.0,34.0,96.35,3190.25,1.0,1.0,1.0,1.0,1.0,1.0,1.0,2.0])            |\n",
            "|[0.0,52.0,19.35,1031.7,24.0,1.0,0.0,1.0,0.0,1.0,2.0,2.0,2.0,2.0,2.0,2.0,2.0,0.0,1.0,3.0,1.0,0.0,0.0]    |\n",
            "|(23,[1,2,3,4,13,15,16,19,21],[70.0,88.0,5986.45,24.0,1.0,1.0,1.0,1.0,1.0])                              |\n",
            "|(23,[1,2,3,4,5,7,9,11,17,20,21,22],[55.0,103.7,5656.75,12.0,1.0,1.0,1.0,1.0,2.0,1.0,1.0,1.0])           |\n",
            "|(23,[1,2,3,4,9,10,11,12,13,14,15,16],[63.0,19.95,1234.8,24.0,1.0,2.0,2.0,2.0,2.0,2.0,2.0,2.0])          |\n",
            "|(23,[1,2,3,4,6,7,19,21,22],[70.0,114.6,7882.5,24.0,1.0,1.0,2.0,1.0,1.0])                                |\n",
            "|(23,[1,2,3,4,5,6,11,12,14,15,17,18,19],[61.0,89.2,5500.6,1.0,1.0,1.0,1.0,1.0,1.0,1.0,1.0,1.0,3.0])      |\n",
            "|(23,[1,2,3,4,5,6,11,12,14,17,19,22],[24.0,98.75,2407.3,1.0,1.0,1.0,1.0,1.0,1.0,1.0,2.0,1.0])            |\n",
            "|(23,[1,2,3,4,5,6,8,9,10,11,13,15,16,17],[36.0,34.85,1267.2,1.0,1.0,1.0,1.0,2.0,1.0,1.0,1.0,1.0,1.0,1.0])|\n",
            "|[0.0,72.0,21.0,1493.75,24.0,0.0,0.0,1.0,0.0,1.0,2.0,2.0,2.0,2.0,2.0,2.0,2.0,0.0,1.0,0.0,1.0,0.0,0.0]    |\n",
            "+--------------------------------------------------------------------------------------------------------+\n",
            "only showing top 20 rows\n",
            "\n"
          ]
        }
      ]
    },
    {
      "cell_type": "code",
      "source": [
        "from pyspark.ml.stat import Correlation\n",
        "pearsonCorrOnFEdataset = Correlation.corr(af_transformed_dataset, 'AllFeatures', 'pearson').collect()[0][0]\n",
        "print(str(pearsonCorrOnFEdataset))\n",
        "af_transformed_dataset.show(truncate=0)"
      ],
      "metadata": {
        "colab": {
          "base_uri": "https://localhost:8080/"
        },
        "id": "0QsYZ1bUahwH",
        "outputId": "bd0b2d6b-503d-44f6-d7a1-af0e8f39c14e"
      },
      "execution_count": 62,
      "outputs": [
        {
          "output_type": "stream",
          "name": "stderr",
          "text": [
            "/usr/local/lib/python3.7/dist-packages/pyspark/sql/context.py:127: FutureWarning: Deprecated in 3.0.0. Use SparkSession.builder.getOrCreate() instead.\n",
            "  FutureWarning\n"
          ]
        },
        {
          "output_type": "stream",
          "name": "stdout",
          "text": [
            "DenseMatrix([[ 1.00000000e+00,  2.19843834e-02, -2.12519570e-04,\n",
            "               7.04876234e-02, -7.29700281e-02, -1.29094003e-02,\n",
            "              -4.36918455e-03, -9.57397960e-02, -4.50762537e-03,\n",
            "              -4.73911416e-02, -1.11620345e-01, -3.58329775e-02,\n",
            "              -6.02669441e-02, -4.00309111e-02, -1.42234477e-02,\n",
            "              -7.21402763e-02, -6.55293653e-02,  5.59644165e-02,\n",
            "              -5.15962274e-02,  6.07553124e-03, -8.08842759e-02,\n",
            "              -2.03275030e-02,  5.25887850e-02],\n",
            "             [ 2.19843834e-02,  1.00000000e+00,  1.50840444e-02,\n",
            "               3.55201299e-01,  3.20563575e-01, -7.42275087e-03,\n",
            "              -1.42150748e-01,  1.36529470e-02,  6.72260788e-03,\n",
            "              -1.02924610e-01, -3.99258977e-03, -7.78994093e-02,\n",
            "              -9.19304969e-02, -8.66608005e-02, -9.47695563e-02,\n",
            "              -6.05974448e-02, -6.71895492e-02, -1.76577701e-01,\n",
            "              -1.01906411e-02, -1.62104538e-01,  3.82808679e-02,\n",
            "               1.76690334e-01,  9.87079227e-02],\n",
            "             [-2.12519570e-04,  1.50840444e-02,  1.00000000e+00,\n",
            "               6.14240338e-02,  3.78553771e-03,  1.70743863e-02,\n",
            "              -3.10600164e-02,  6.69766590e-03, -2.96115356e-02,\n",
            "              -4.05006179e-02, -5.53170083e-02, -6.27430666e-02,\n",
            "              -7.57550264e-02, -4.00550121e-02, -6.78647781e-02,\n",
            "              -4.41605452e-02, -2.97412302e-02, -2.58254124e-02,\n",
            "              -2.45108907e-02, -1.80617951e-02,  9.27070375e-03,\n",
            "               5.31713802e-02,  1.83907740e-02],\n",
            "             [ 7.04876234e-02,  3.55201299e-01,  6.14240338e-02,\n",
            "               1.00000000e+00,  2.46447375e-01,  2.72883595e-03,\n",
            "              -2.14253216e-01, -2.40311279e-02, -1.71014956e-01,\n",
            "              -4.28719352e-01, -6.41547802e-01, -5.65192637e-01,\n",
            "              -6.35605935e-01, -6.38497496e-01, -5.84106523e-01,\n",
            "              -6.63246916e-01, -6.64421621e-01, -9.62904062e-02,\n",
            "              -2.36431309e-01, -2.20234838e-01,  1.89358329e-02,\n",
            "               5.17558071e-01,  6.09720577e-01],\n",
            "             [-7.29700281e-02,  3.20563575e-01,  3.78553771e-03,\n",
            "               2.46447375e-01,  1.00000000e+00, -2.61377230e-03,\n",
            "              -2.03610362e-01,  1.87538296e-01, -1.05403975e-02,\n",
            "              -1.78504504e-02,  3.39704751e-01,  2.30909643e-02,\n",
            "               1.06268351e-01,  5.02141553e-02, -2.26223263e-02,\n",
            "               1.17077070e-01,  1.18202591e-01, -6.02945346e-01,\n",
            "               1.95312301e-01, -1.75301190e-01,  1.99027141e-01,\n",
            "               3.31193609e-01,  7.70606007e-02],\n",
            "             [-1.29094003e-02, -7.42275087e-03,  1.70743863e-02,\n",
            "               2.72883595e-03, -2.61377230e-03,  1.00000000e+00,\n",
            "              -2.02179251e-03, -1.30360730e-02, -1.61496111e-02,\n",
            "              -1.79661696e-02,  2.91025552e-05, -8.76065601e-03,\n",
            "               2.80371105e-03, -6.34491605e-03, -7.32704808e-03,\n",
            "              -3.12443125e-03, -2.85128450e-03,  1.31952867e-03,\n",
            "              -1.79862840e-02, -1.77419521e-02,  6.19896756e-03,\n",
            "               2.03266500e-02,  1.44394104e-02],\n",
            "             [-4.36918455e-03, -1.42150748e-01, -3.10600164e-02,\n",
            "              -2.14253216e-01, -2.03610362e-01, -2.02179251e-03,\n",
            "               1.00000000e+00, -4.09305089e-01,  3.31603377e-02,\n",
            "               8.44826755e-02, -4.95252930e-04,  6.16541832e-02,\n",
            "               6.06107713e-02,  5.99586479e-02,  4.46363185e-02,\n",
            "               5.14285119e-02,  4.97021244e-02,  1.22935666e-01,\n",
            "              -1.17948742e-02,  9.01122281e-02, -5.25776943e-01,\n",
            "              -1.22636380e-01, -7.84190931e-02],\n",
            "             [-9.57397960e-02,  1.36529470e-02,  6.69766590e-03,\n",
            "              -2.40311279e-02,  1.87538296e-01, -1.30360730e-02,\n",
            "              -4.09305089e-01,  1.00000000e+00, -2.65412659e-03,\n",
            "               4.84686243e-02,  1.72056055e-01,  3.65697357e-02,\n",
            "               8.25047415e-02,  8.87602734e-02,  5.16767433e-02,\n",
            "               9.18098953e-02,  1.12967986e-01, -1.00441698e-01,\n",
            "               1.05467757e-01, -1.71926974e-02,  9.19062695e-01,\n",
            "               4.57277052e-02, -4.85624680e-02],\n",
            "             [-4.50762537e-03,  6.72260788e-03, -2.96115356e-02,\n",
            "              -1.71014956e-01, -1.05403975e-02, -1.61496111e-02,\n",
            "               3.31603377e-02, -2.65412659e-03,  1.00000000e+00,\n",
            "               7.08564071e-01,  1.01636884e-01, -1.47746371e-01,\n",
            "              -1.12597572e-01, -1.36664319e-01, -1.48255642e-01,\n",
            "              -1.08874474e-01, -1.12245000e-01,  2.74927506e-03,\n",
            "               1.06651774e-02, -8.47831598e-03, -9.68265069e-03,\n",
            "               6.29481493e-02, -2.33345307e-01],\n",
            "             [-4.73911416e-02, -1.02924610e-01, -4.05006179e-02,\n",
            "              -4.28719352e-01, -1.78504504e-02, -1.79661696e-02,\n",
            "               8.44826755e-02,  4.84686243e-02,  7.08564071e-01,\n",
            "               1.00000000e+00,  3.11825372e-01,  5.04826142e-02,\n",
            "               1.16469865e-01,  1.03996439e-01,  5.52103467e-02,\n",
            "               1.41741275e-01,  1.41940633e-01,  3.67661850e-02,\n",
            "               1.16854410e-01,  7.41148746e-02,  2.51485994e-02,\n",
            "              -5.24486131e-02, -3.41636837e-01],\n",
            "             [-1.11620345e-01, -3.99258977e-03, -5.53170083e-02,\n",
            "              -6.41547802e-01,  3.39704751e-01,  2.91025552e-05,\n",
            "              -4.95252930e-04,  1.72056055e-01,  1.01636884e-01,\n",
            "               3.11825372e-01,  1.00000000e+00,  5.76176172e-01,\n",
            "               6.75875149e-01,  6.67671236e-01,  5.80860915e-01,\n",
            "               7.31895534e-01,  7.30212938e-01, -1.99422700e-01,\n",
            "               3.65233473e-01,  6.55549635e-02,  1.44940582e-01,\n",
            "              -1.91663917e-01, -4.56160656e-01],\n",
            "             [-3.58329775e-02, -7.78994093e-02, -6.27430666e-02,\n",
            "              -5.65192637e-01,  2.30909643e-02, -8.76065601e-03,\n",
            "               6.16541832e-02,  3.65697357e-02, -1.47746371e-01,\n",
            "               5.04826142e-02,  5.76176172e-01,  1.00000000e+00,\n",
            "               7.01961868e-01,  7.02326934e-01,  7.28808526e-01,\n",
            "               6.61034725e-01,  6.63662389e-01, -4.49889382e-02,\n",
            "               1.69740663e-01,  1.10270348e-01,  1.81735125e-02,\n",
            "              -5.90978315e-01, -2.83016631e-01],\n",
            "             [-6.02669441e-02, -9.19304969e-02, -7.57550264e-02,\n",
            "              -6.35605935e-01,  1.06268351e-01,  2.80371105e-03,\n",
            "               6.06107713e-02,  8.25047415e-02, -1.12597572e-01,\n",
            "               1.16469865e-01,  6.75875149e-01,  7.01961868e-01,\n",
            "               1.00000000e+00,  7.17189950e-01,  7.07863823e-01,\n",
            "               7.19385998e-01,  7.11467163e-01, -9.36429773e-02,\n",
            "               2.62621484e-01,  1.18656752e-01,  6.19077596e-02,\n",
            "              -5.19551869e-01, -3.51041044e-01],\n",
            "             [-4.00309111e-02, -8.66608005e-02, -4.00550121e-02,\n",
            "              -6.38497496e-01,  5.02141553e-02, -6.34491605e-03,\n",
            "               5.99586479e-02,  8.87602734e-02, -1.36664319e-01,\n",
            "               1.03996439e-01,  6.67671236e-01,  7.02326934e-01,\n",
            "               7.17189950e-01,  1.00000000e+00,  7.24527917e-01,\n",
            "               7.55737637e-01,  7.64368788e-01, -6.29412993e-02,\n",
            "               2.45328109e-01,  1.22552700e-01,  5.79133533e-02,\n",
            "              -5.42972154e-01, -4.22817427e-01],\n",
            "             [-1.42234477e-02, -9.47695563e-02, -6.78647781e-02,\n",
            "              -5.84106523e-01, -2.26223263e-02, -7.32704808e-03,\n",
            "               4.46363185e-02,  5.16767433e-02, -1.48255642e-01,\n",
            "               5.52103467e-02,  5.80860915e-01,  7.28808526e-01,\n",
            "               7.07863823e-01,  7.24527917e-01,  1.00000000e+00,\n",
            "               7.07011022e-01,  7.08712547e-01, -1.17759767e-02,\n",
            "               1.98125709e-01,  1.25274796e-01,  3.40606724e-02,\n",
            "              -6.09627213e-01, -3.63542190e-01],\n",
            "             [-7.21402763e-02, -6.05974448e-02, -4.41605452e-02,\n",
            "              -6.63246916e-01,  1.17077070e-01, -3.12443125e-03,\n",
            "               5.14285119e-02,  9.18098953e-02, -1.08874474e-01,\n",
            "               1.41741275e-01,  7.31895534e-01,  6.61034725e-01,\n",
            "               7.19385998e-01,  7.55737637e-01,  7.07011022e-01,\n",
            "               1.00000000e+00,  8.20662390e-01, -9.24242255e-02,\n",
            "               3.18008508e-01,  9.55031692e-02,  6.73368254e-02,\n",
            "              -3.65668899e-01, -6.59915470e-01],\n",
            "             [-6.55293653e-02, -6.71895492e-02, -2.97412302e-02,\n",
            "              -6.64421621e-01,  1.18202591e-01, -2.85128450e-03,\n",
            "               4.97021244e-02,  1.12967986e-01, -1.12245000e-01,\n",
            "               1.41940633e-01,  7.30212938e-01,  6.63662389e-01,\n",
            "               7.11467163e-01,  7.64368788e-01,  7.08712547e-01,\n",
            "               8.20662390e-01,  1.00000000e+00, -9.52091477e-02,\n",
            "               3.09940157e-01,  9.86334962e-02,  8.31707453e-02,\n",
            "              -3.63747789e-01, -6.54016881e-01],\n",
            "             [ 5.59644165e-02, -1.76577701e-01, -2.58254124e-02,\n",
            "              -9.62904062e-02, -6.02945346e-01,  1.31952867e-03,\n",
            "               1.22935666e-01, -1.00441698e-01,  2.74927506e-03,\n",
            "               3.67661850e-02, -1.99422700e-01, -4.49889382e-02,\n",
            "              -9.36429773e-02, -6.29412993e-02, -1.17759767e-02,\n",
            "              -9.24242255e-02, -9.52091477e-02,  1.00000000e+00,\n",
            "              -1.04189571e-01,  9.74567634e-02, -1.16035812e-01,\n",
            "              -1.85192171e-01, -2.43914620e-02],\n",
            "             [-5.15962274e-02, -1.01906411e-02, -2.45108907e-02,\n",
            "              -2.36431309e-01,  1.95312301e-01, -1.79862840e-02,\n",
            "              -1.17948742e-02,  1.05467757e-01,  1.06651774e-02,\n",
            "               1.16854410e-01,  3.65233473e-01,  1.69740663e-01,\n",
            "               2.62621484e-01,  2.45328109e-01,  1.98125709e-01,\n",
            "               3.18008508e-01,  3.09940157e-01, -1.04189571e-01,\n",
            "               1.00000000e+00,  3.33740147e-02,  9.44916086e-02,\n",
            "              -2.88297889e-02, -2.21715664e-01],\n",
            "             [ 6.07553124e-03, -1.62104538e-01, -1.80617951e-02,\n",
            "              -2.20234838e-01, -1.75301190e-01, -1.77419521e-02,\n",
            "               9.01122281e-02, -1.71926974e-02, -8.47831598e-03,\n",
            "               7.41148746e-02,  6.55549635e-02,  1.10270348e-01,\n",
            "               1.18656752e-01,  1.22552700e-01,  1.25274796e-01,\n",
            "               9.55031692e-02,  9.86334962e-02,  9.74567634e-02,\n",
            "               3.33740147e-02,  1.00000000e+00, -3.68965744e-02,\n",
            "              -1.45484046e-01, -6.52251575e-02],\n",
            "             [-8.08842759e-02,  3.82808679e-02,  9.27070375e-03,\n",
            "               1.89358329e-02,  1.99027141e-01,  6.19896756e-03,\n",
            "              -5.25776943e-01,  9.19062695e-01, -9.68265069e-03,\n",
            "               2.51485994e-02,  1.44940582e-01,  1.81735125e-02,\n",
            "               6.19077596e-02,  5.79133533e-02,  3.40606724e-02,\n",
            "               6.73368254e-02,  8.31707453e-02, -1.16035812e-01,\n",
            "               9.44916086e-02, -3.68965744e-02,  1.00000000e+00,\n",
            "               6.15637950e-02, -2.96458058e-02],\n",
            "             [-2.03275030e-02,  1.76690334e-01,  5.31713802e-02,\n",
            "               5.17558071e-01,  3.31193609e-01,  2.03266500e-02,\n",
            "              -1.22636380e-01,  4.57277052e-02,  6.29481493e-02,\n",
            "              -5.24486131e-02, -1.91663917e-01, -5.90978315e-01,\n",
            "              -5.19551869e-01, -5.42972154e-01, -6.09627213e-01,\n",
            "              -3.65668899e-01, -3.63747789e-01, -1.85192171e-01,\n",
            "              -2.88297889e-02, -1.45484046e-01,  6.15637950e-02,\n",
            "               1.00000000e+00,  2.50693156e-01],\n",
            "             [ 5.25887850e-02,  9.87079227e-02,  1.83907740e-02,\n",
            "               6.09720577e-01,  7.70606007e-02,  1.44394104e-02,\n",
            "              -7.84190931e-02, -4.85624680e-02, -2.33345307e-01,\n",
            "              -3.41636837e-01, -4.56160656e-01, -2.83016631e-01,\n",
            "              -3.51041044e-01, -4.22817427e-01, -3.63542190e-01,\n",
            "              -6.59915470e-01, -6.54016881e-01, -2.43914620e-02,\n",
            "              -2.21715664e-01, -6.52251575e-02, -2.96458058e-02,\n",
            "               2.50693156e-01,  1.00000000e+00]])\n",
            "+----------+-------------+------+--------------+------------+---------------+-------+--------+-----------+-------------+--------------+----------------+---------------+-------------+-----------------+------------+------------+----------------+---------+-----------------+--------------+---------------+---------+---------+------+--------------------------------------------------------------------------------------------------------+\n",
            "|customerID|SeniorCitizen|tenure|MonthlyCharges|TotalCharges|ContractInMonth|igender|iPartner|iDependents|iPhoneService|iMultipleLines|iInternetService|iOnlineSecurity|iOnlineBackup|iDeviceProtection|iTechSupport|iStreamingTV|iStreamingMovies|iContract|iPaperlessBilling|iPaymentMethod|ihighDependents|iCautious|iFullTech|iLabel|AllFeatures                                                                                             |\n",
            "+----------+-------------+------+--------------+------------+---------------+-------+--------+-----------+-------------+--------------+----------------+---------------+-------------+-----------------+------------+------------+----------------+---------+-----------------+--------------+---------------+---------+---------+------+--------------------------------------------------------------------------------------------------------+\n",
            "|5331-RGMTT|1.0          |54.0  |99.05         |5295.7      |1              |0.0    |0.0     |0.0        |0.0          |0.0           |0.0             |1.0            |1.0          |0.0              |1.0         |0.0         |0.0             |1.0      |0.0              |1.0           |0.0            |0.0      |1.0      |0.0   |(23,[0,1,2,3,4,11,12,14,17,19,22],[1.0,54.0,99.05,5295.7,1.0,1.0,1.0,1.0,1.0,1.0,1.0])                  |\n",
            "|5161-XEUVX|0.0          |37.0  |94.3          |3460.95     |24             |0.0    |0.0     |0.0        |0.0          |0.0           |0.0             |1.0            |1.0          |0.0              |0.0         |0.0         |1.0             |0.0      |1.0              |3.0           |0.0            |0.0      |0.0      |0.0   |(23,[1,2,3,4,11,12,16,18,19],[37.0,94.3,3460.95,24.0,1.0,1.0,1.0,1.0,3.0])                              |\n",
            "|0336-PIKEI|1.0          |72.0  |74.4          |5360.75     |24             |0.0    |0.0     |0.0        |0.0          |1.0           |1.0             |0.0            |0.0          |0.0              |0.0         |0.0         |1.0             |0.0      |1.0              |0.0           |0.0            |1.0      |0.0      |0.0   |(23,[0,1,2,3,4,9,10,16,18,21],[1.0,72.0,74.4,5360.75,24.0,1.0,1.0,1.0,1.0,1.0])                         |\n",
            "|3345-PBBFH|0.0          |8.0   |49.55         |393.45      |1              |0.0    |0.0     |0.0        |0.0          |1.0           |1.0             |1.0            |0.0          |1.0              |1.0         |1.0         |1.0             |1.0      |0.0              |0.0           |0.0            |0.0      |0.0      |0.0   |(23,[1,2,3,4,9,10,11,13,14,15,16,17],[8.0,49.55,393.45,1.0,1.0,1.0,1.0,1.0,1.0,1.0,1.0,1.0])            |\n",
            "|5067-XJQFU|1.0          |66.0  |108.45        |7076.35     |12             |0.0    |0.0     |1.0        |0.0          |0.0           |0.0             |1.0            |0.0          |0.0              |0.0         |0.0         |0.0             |2.0      |0.0              |2.0           |1.0            |1.0      |1.0      |0.0   |(23,[0,1,2,3,4,7,11,17,19,20,21,22],[1.0,66.0,108.45,7076.35,12.0,1.0,1.0,2.0,2.0,1.0,1.0,1.0])         |\n",
            "|4056-QHXHZ|0.0          |72.0  |107.45        |7576.7      |24             |1.0    |0.0     |1.0        |0.0          |0.0           |0.0             |0.0            |1.0          |0.0              |0.0         |0.0         |0.0             |0.0      |1.0              |3.0           |1.0            |1.0      |1.0      |0.0   |(23,[1,2,3,4,5,7,12,18,19,20,21,22],[72.0,107.45,7576.7,24.0,1.0,1.0,1.0,1.0,3.0,1.0,1.0,1.0])          |\n",
            "|8028-PNXHQ|0.0          |62.0  |24.25         |1424.6      |24             |0.0    |0.0     |1.0        |0.0          |0.0           |2.0             |2.0            |2.0          |2.0              |2.0         |2.0         |2.0             |0.0      |0.0              |0.0           |1.0            |0.0      |0.0      |0.0   |(23,[1,2,3,4,7,10,11,12,13,14,15,16,20],[62.0,24.25,1424.6,24.0,1.0,2.0,2.0,2.0,2.0,2.0,2.0,2.0,1.0])   |\n",
            "|8181-YHCMF|0.0          |68.0  |60.3          |4109.0      |24             |1.0    |0.0     |1.0        |1.0          |2.0           |1.0             |1.0            |0.0          |0.0              |0.0         |0.0         |0.0             |0.0      |1.0              |1.0           |1.0            |1.0      |0.0      |0.0   |(23,[1,2,3,4,5,7,8,9,10,11,18,19,20,21],[68.0,60.3,4109.0,24.0,1.0,1.0,1.0,2.0,1.0,1.0,1.0,1.0,1.0,1.0])|\n",
            "|6734-PSBAW|0.0          |72.0  |23.55         |1723.95     |24             |0.0    |0.0     |0.0        |0.0          |0.0           |2.0             |2.0            |2.0          |2.0              |2.0         |2.0         |2.0             |0.0      |0.0              |0.0           |0.0            |0.0      |0.0      |0.0   |(23,[1,2,3,4,10,11,12,13,14,15,16],[72.0,23.55,1723.95,24.0,2.0,2.0,2.0,2.0,2.0,2.0,2.0])               |\n",
            "|3655-SNQYZ|0.0          |69.0  |113.25        |7895.15     |24             |1.0    |0.0     |1.0        |0.0          |0.0           |0.0             |0.0            |0.0          |0.0              |0.0         |0.0         |0.0             |0.0      |1.0              |1.0           |1.0            |1.0      |1.0      |0.0   |(23,[1,2,3,4,5,7,18,19,20,21,22],[69.0,113.25,7895.15,24.0,1.0,1.0,1.0,1.0,1.0,1.0,1.0])                |\n",
            "|9508-ILZDG|1.0          |34.0  |96.35         |3190.25     |1              |1.0    |1.0     |0.0        |0.0          |0.0           |0.0             |1.0            |0.0          |1.0              |0.0         |0.0         |1.0             |1.0      |0.0              |2.0           |0.0            |0.0      |0.0      |0.0   |(23,[0,1,2,3,4,5,6,11,13,16,17,19],[1.0,34.0,96.35,3190.25,1.0,1.0,1.0,1.0,1.0,1.0,1.0,2.0])            |\n",
            "|3620-EHIMZ|0.0          |52.0  |19.35         |1031.7      |24             |1.0    |0.0     |1.0        |0.0          |1.0           |2.0             |2.0            |2.0          |2.0              |2.0         |2.0         |2.0             |0.0      |1.0              |3.0           |1.0            |0.0      |0.0      |0.0   |[0.0,52.0,19.35,1031.7,24.0,1.0,0.0,1.0,0.0,1.0,2.0,2.0,2.0,2.0,2.0,2.0,2.0,0.0,1.0,3.0,1.0,0.0,0.0]    |\n",
            "|4178-EGMON|0.0          |70.0  |88.0          |5986.45     |24             |0.0    |0.0     |0.0        |0.0          |0.0           |0.0             |0.0            |0.0          |1.0              |0.0         |1.0         |1.0             |0.0      |0.0              |1.0           |0.0            |1.0      |0.0      |0.0   |(23,[1,2,3,4,13,15,16,19,21],[70.0,88.0,5986.45,24.0,1.0,1.0,1.0,1.0,1.0])                              |\n",
            "|0036-IHMOT|0.0          |55.0  |103.7         |5656.75     |12             |1.0    |0.0     |1.0        |0.0          |1.0           |0.0             |1.0            |0.0          |0.0              |0.0         |0.0         |0.0             |2.0      |0.0              |0.0           |1.0            |1.0      |1.0      |0.0   |(23,[1,2,3,4,5,7,9,11,17,20,21,22],[55.0,103.7,5656.75,12.0,1.0,1.0,1.0,1.0,2.0,1.0,1.0,1.0])           |\n",
            "|0281-CNTZX|0.0          |63.0  |19.95         |1234.8      |24             |0.0    |0.0     |0.0        |0.0          |1.0           |2.0             |2.0            |2.0          |2.0              |2.0         |2.0         |2.0             |0.0      |0.0              |0.0           |0.0            |0.0      |0.0      |0.0   |(23,[1,2,3,4,9,10,11,12,13,14,15,16],[63.0,19.95,1234.8,24.0,1.0,2.0,2.0,2.0,2.0,2.0,2.0,2.0])          |\n",
            "|0530-IJVDB|0.0          |70.0  |114.6         |7882.5      |24             |0.0    |1.0     |1.0        |0.0          |0.0           |0.0             |0.0            |0.0          |0.0              |0.0         |0.0         |0.0             |0.0      |0.0              |2.0           |0.0            |1.0      |1.0      |0.0   |(23,[1,2,3,4,6,7,19,21,22],[70.0,114.6,7882.5,24.0,1.0,1.0,2.0,1.0,1.0])                                |\n",
            "|7251-XFOIL|0.0          |61.0  |89.2          |5500.6      |1              |1.0    |1.0     |0.0        |0.0          |0.0           |0.0             |1.0            |1.0          |0.0              |1.0         |1.0         |0.0             |1.0      |1.0              |3.0           |0.0            |0.0      |0.0      |0.0   |(23,[1,2,3,4,5,6,11,12,14,15,17,18,19],[61.0,89.2,5500.6,1.0,1.0,1.0,1.0,1.0,1.0,1.0,1.0,1.0,3.0])      |\n",
            "|7079-QRCBC|0.0          |24.0  |98.75         |2407.3      |1              |1.0    |1.0     |0.0        |0.0          |0.0           |0.0             |1.0            |1.0          |0.0              |1.0         |0.0         |0.0             |1.0      |0.0              |2.0           |0.0            |0.0      |1.0      |1.0   |(23,[1,2,3,4,5,6,11,12,14,17,19,22],[24.0,98.75,2407.3,1.0,1.0,1.0,1.0,1.0,1.0,1.0,2.0,1.0])            |\n",
            "|2908-ZTPNF|0.0          |36.0  |34.85         |1267.2      |1              |1.0    |1.0     |0.0        |1.0          |2.0           |1.0             |1.0            |0.0          |1.0              |0.0         |1.0         |1.0             |1.0      |0.0              |0.0           |0.0            |0.0      |0.0      |0.0   |(23,[1,2,3,4,5,6,8,9,10,11,13,15,16,17],[36.0,34.85,1267.2,1.0,1.0,1.0,1.0,2.0,1.0,1.0,1.0,1.0,1.0,1.0])|\n",
            "|0640-YJTPY|0.0          |72.0  |21.0          |1493.75     |24             |0.0    |0.0     |1.0        |0.0          |1.0           |2.0             |2.0            |2.0          |2.0              |2.0         |2.0         |2.0             |0.0      |1.0              |0.0           |1.0            |0.0      |0.0      |0.0   |[0.0,72.0,21.0,1493.75,24.0,0.0,0.0,1.0,0.0,1.0,2.0,2.0,2.0,2.0,2.0,2.0,2.0,0.0,1.0,0.0,1.0,0.0,0.0]    |\n",
            "+----------+-------------+------+--------------+------------+---------------+-------+--------+-----------+-------------+--------------+----------------+---------------+-------------+-----------------+------------+------------+----------------+---------+-----------------+--------------+---------------+---------+---------+------+--------------------------------------------------------------------------------------------------------+\n",
            "only showing top 20 rows\n",
            "\n"
          ]
        }
      ]
    },
    {
      "cell_type": "code",
      "source": [
        "import matplotlib.pyplot as plt\n",
        "import numpy as np\n",
        "\n",
        "fig = plt.figure(figsize=(len(all_features),len(all_features)))\n",
        "ax=fig.add_subplot(1,1,1)\n",
        "ax.set_title(\"Correlation Matrix \")\n",
        "ax.set_xticks(np.arange(len(all_features)))\n",
        "ax.set_yticks(np.arange(len(all_features)))\n",
        "ax.set_xticklabels(all_features)\n",
        "ax.set_yticklabels(all_features)\n",
        "cax=ax.matshow(pearsonCorrOnFEdataset,vmax=1,vmin=-1)\n",
        "fig.colorbar(cax)\n",
        "plt.show()\n",
        "\n"
      ],
      "metadata": {
        "colab": {
          "base_uri": "https://localhost:8080/",
          "height": 1000
        },
        "id": "ofKO8C_9cEWu",
        "outputId": "5d2d1c5c-8a7d-438b-a8d8-a6050a9b9759"
      },
      "execution_count": 78,
      "outputs": [
        {
          "output_type": "stream",
          "name": "stdout",
          "text": [
            "[[ 1.00000000e+00  2.19843834e-02 -2.12519570e-04  7.04876234e-02\n",
            "  -7.29700281e-02 -1.29094003e-02 -4.36918455e-03 -9.57397960e-02\n",
            "  -4.50762537e-03 -4.73911416e-02 -1.11620345e-01 -3.58329775e-02\n",
            "  -6.02669441e-02 -4.00309111e-02 -1.42234477e-02 -7.21402763e-02\n",
            "  -6.55293653e-02  5.59644165e-02 -5.15962274e-02  6.07553124e-03\n",
            "  -8.08842759e-02 -2.03275030e-02  5.25887850e-02]\n",
            " [ 2.19843834e-02  1.00000000e+00  1.50840444e-02  3.55201299e-01\n",
            "   3.20563575e-01 -7.42275087e-03 -1.42150748e-01  1.36529470e-02\n",
            "   6.72260788e-03 -1.02924610e-01 -3.99258977e-03 -7.78994093e-02\n",
            "  -9.19304969e-02 -8.66608005e-02 -9.47695563e-02 -6.05974448e-02\n",
            "  -6.71895492e-02 -1.76577701e-01 -1.01906411e-02 -1.62104538e-01\n",
            "   3.82808679e-02  1.76690334e-01  9.87079227e-02]\n",
            " [-2.12519570e-04  1.50840444e-02  1.00000000e+00  6.14240338e-02\n",
            "   3.78553771e-03  1.70743863e-02 -3.10600164e-02  6.69766590e-03\n",
            "  -2.96115356e-02 -4.05006179e-02 -5.53170083e-02 -6.27430666e-02\n",
            "  -7.57550264e-02 -4.00550121e-02 -6.78647781e-02 -4.41605452e-02\n",
            "  -2.97412302e-02 -2.58254124e-02 -2.45108907e-02 -1.80617951e-02\n",
            "   9.27070375e-03  5.31713802e-02  1.83907740e-02]\n",
            " [ 7.04876234e-02  3.55201299e-01  6.14240338e-02  1.00000000e+00\n",
            "   2.46447375e-01  2.72883595e-03 -2.14253216e-01 -2.40311279e-02\n",
            "  -1.71014956e-01 -4.28719352e-01 -6.41547802e-01 -5.65192637e-01\n",
            "  -6.35605935e-01 -6.38497496e-01 -5.84106523e-01 -6.63246916e-01\n",
            "  -6.64421621e-01 -9.62904062e-02 -2.36431309e-01 -2.20234838e-01\n",
            "   1.89358329e-02  5.17558071e-01  6.09720577e-01]\n",
            " [-7.29700281e-02  3.20563575e-01  3.78553771e-03  2.46447375e-01\n",
            "   1.00000000e+00 -2.61377230e-03 -2.03610362e-01  1.87538296e-01\n",
            "  -1.05403975e-02 -1.78504504e-02  3.39704751e-01  2.30909643e-02\n",
            "   1.06268351e-01  5.02141553e-02 -2.26223263e-02  1.17077070e-01\n",
            "   1.18202591e-01 -6.02945346e-01  1.95312301e-01 -1.75301190e-01\n",
            "   1.99027141e-01  3.31193609e-01  7.70606007e-02]\n",
            " [-1.29094003e-02 -7.42275087e-03  1.70743863e-02  2.72883595e-03\n",
            "  -2.61377230e-03  1.00000000e+00 -2.02179251e-03 -1.30360730e-02\n",
            "  -1.61496111e-02 -1.79661696e-02  2.91025552e-05 -8.76065601e-03\n",
            "   2.80371105e-03 -6.34491605e-03 -7.32704808e-03 -3.12443125e-03\n",
            "  -2.85128450e-03  1.31952867e-03 -1.79862840e-02 -1.77419521e-02\n",
            "   6.19896756e-03  2.03266500e-02  1.44394104e-02]\n",
            " [-4.36918455e-03 -1.42150748e-01 -3.10600164e-02 -2.14253216e-01\n",
            "  -2.03610362e-01 -2.02179251e-03  1.00000000e+00 -4.09305089e-01\n",
            "   3.31603377e-02  8.44826755e-02 -4.95252930e-04  6.16541832e-02\n",
            "   6.06107713e-02  5.99586479e-02  4.46363185e-02  5.14285119e-02\n",
            "   4.97021244e-02  1.22935666e-01 -1.17948742e-02  9.01122281e-02\n",
            "  -5.25776943e-01 -1.22636380e-01 -7.84190931e-02]\n",
            " [-9.57397960e-02  1.36529470e-02  6.69766590e-03 -2.40311279e-02\n",
            "   1.87538296e-01 -1.30360730e-02 -4.09305089e-01  1.00000000e+00\n",
            "  -2.65412659e-03  4.84686243e-02  1.72056055e-01  3.65697357e-02\n",
            "   8.25047415e-02  8.87602734e-02  5.16767433e-02  9.18098953e-02\n",
            "   1.12967986e-01 -1.00441698e-01  1.05467757e-01 -1.71926974e-02\n",
            "   9.19062695e-01  4.57277052e-02 -4.85624680e-02]\n",
            " [-4.50762537e-03  6.72260788e-03 -2.96115356e-02 -1.71014956e-01\n",
            "  -1.05403975e-02 -1.61496111e-02  3.31603377e-02 -2.65412659e-03\n",
            "   1.00000000e+00  7.08564071e-01  1.01636884e-01 -1.47746371e-01\n",
            "  -1.12597572e-01 -1.36664319e-01 -1.48255642e-01 -1.08874474e-01\n",
            "  -1.12245000e-01  2.74927506e-03  1.06651774e-02 -8.47831598e-03\n",
            "  -9.68265069e-03  6.29481493e-02 -2.33345307e-01]\n",
            " [-4.73911416e-02 -1.02924610e-01 -4.05006179e-02 -4.28719352e-01\n",
            "  -1.78504504e-02 -1.79661696e-02  8.44826755e-02  4.84686243e-02\n",
            "   7.08564071e-01  1.00000000e+00  3.11825372e-01  5.04826142e-02\n",
            "   1.16469865e-01  1.03996439e-01  5.52103467e-02  1.41741275e-01\n",
            "   1.41940633e-01  3.67661850e-02  1.16854410e-01  7.41148746e-02\n",
            "   2.51485994e-02 -5.24486131e-02 -3.41636837e-01]\n",
            " [-1.11620345e-01 -3.99258977e-03 -5.53170083e-02 -6.41547802e-01\n",
            "   3.39704751e-01  2.91025552e-05 -4.95252930e-04  1.72056055e-01\n",
            "   1.01636884e-01  3.11825372e-01  1.00000000e+00  5.76176172e-01\n",
            "   6.75875149e-01  6.67671236e-01  5.80860915e-01  7.31895534e-01\n",
            "   7.30212938e-01 -1.99422700e-01  3.65233473e-01  6.55549635e-02\n",
            "   1.44940582e-01 -1.91663917e-01 -4.56160656e-01]\n",
            " [-3.58329775e-02 -7.78994093e-02 -6.27430666e-02 -5.65192637e-01\n",
            "   2.30909643e-02 -8.76065601e-03  6.16541832e-02  3.65697357e-02\n",
            "  -1.47746371e-01  5.04826142e-02  5.76176172e-01  1.00000000e+00\n",
            "   7.01961868e-01  7.02326934e-01  7.28808526e-01  6.61034725e-01\n",
            "   6.63662389e-01 -4.49889382e-02  1.69740663e-01  1.10270348e-01\n",
            "   1.81735125e-02 -5.90978315e-01 -2.83016631e-01]\n",
            " [-6.02669441e-02 -9.19304969e-02 -7.57550264e-02 -6.35605935e-01\n",
            "   1.06268351e-01  2.80371105e-03  6.06107713e-02  8.25047415e-02\n",
            "  -1.12597572e-01  1.16469865e-01  6.75875149e-01  7.01961868e-01\n",
            "   1.00000000e+00  7.17189950e-01  7.07863823e-01  7.19385998e-01\n",
            "   7.11467163e-01 -9.36429773e-02  2.62621484e-01  1.18656752e-01\n",
            "   6.19077596e-02 -5.19551869e-01 -3.51041044e-01]\n",
            " [-4.00309111e-02 -8.66608005e-02 -4.00550121e-02 -6.38497496e-01\n",
            "   5.02141553e-02 -6.34491605e-03  5.99586479e-02  8.87602734e-02\n",
            "  -1.36664319e-01  1.03996439e-01  6.67671236e-01  7.02326934e-01\n",
            "   7.17189950e-01  1.00000000e+00  7.24527917e-01  7.55737637e-01\n",
            "   7.64368788e-01 -6.29412993e-02  2.45328109e-01  1.22552700e-01\n",
            "   5.79133533e-02 -5.42972154e-01 -4.22817427e-01]\n",
            " [-1.42234477e-02 -9.47695563e-02 -6.78647781e-02 -5.84106523e-01\n",
            "  -2.26223263e-02 -7.32704808e-03  4.46363185e-02  5.16767433e-02\n",
            "  -1.48255642e-01  5.52103467e-02  5.80860915e-01  7.28808526e-01\n",
            "   7.07863823e-01  7.24527917e-01  1.00000000e+00  7.07011022e-01\n",
            "   7.08712547e-01 -1.17759767e-02  1.98125709e-01  1.25274796e-01\n",
            "   3.40606724e-02 -6.09627213e-01 -3.63542190e-01]\n",
            " [-7.21402763e-02 -6.05974448e-02 -4.41605452e-02 -6.63246916e-01\n",
            "   1.17077070e-01 -3.12443125e-03  5.14285119e-02  9.18098953e-02\n",
            "  -1.08874474e-01  1.41741275e-01  7.31895534e-01  6.61034725e-01\n",
            "   7.19385998e-01  7.55737637e-01  7.07011022e-01  1.00000000e+00\n",
            "   8.20662390e-01 -9.24242255e-02  3.18008508e-01  9.55031692e-02\n",
            "   6.73368254e-02 -3.65668899e-01 -6.59915470e-01]\n",
            " [-6.55293653e-02 -6.71895492e-02 -2.97412302e-02 -6.64421621e-01\n",
            "   1.18202591e-01 -2.85128450e-03  4.97021244e-02  1.12967986e-01\n",
            "  -1.12245000e-01  1.41940633e-01  7.30212938e-01  6.63662389e-01\n",
            "   7.11467163e-01  7.64368788e-01  7.08712547e-01  8.20662390e-01\n",
            "   1.00000000e+00 -9.52091477e-02  3.09940157e-01  9.86334962e-02\n",
            "   8.31707453e-02 -3.63747789e-01 -6.54016881e-01]\n",
            " [ 5.59644165e-02 -1.76577701e-01 -2.58254124e-02 -9.62904062e-02\n",
            "  -6.02945346e-01  1.31952867e-03  1.22935666e-01 -1.00441698e-01\n",
            "   2.74927506e-03  3.67661850e-02 -1.99422700e-01 -4.49889382e-02\n",
            "  -9.36429773e-02 -6.29412993e-02 -1.17759767e-02 -9.24242255e-02\n",
            "  -9.52091477e-02  1.00000000e+00 -1.04189571e-01  9.74567634e-02\n",
            "  -1.16035812e-01 -1.85192171e-01 -2.43914620e-02]\n",
            " [-5.15962274e-02 -1.01906411e-02 -2.45108907e-02 -2.36431309e-01\n",
            "   1.95312301e-01 -1.79862840e-02 -1.17948742e-02  1.05467757e-01\n",
            "   1.06651774e-02  1.16854410e-01  3.65233473e-01  1.69740663e-01\n",
            "   2.62621484e-01  2.45328109e-01  1.98125709e-01  3.18008508e-01\n",
            "   3.09940157e-01 -1.04189571e-01  1.00000000e+00  3.33740147e-02\n",
            "   9.44916086e-02 -2.88297889e-02 -2.21715664e-01]\n",
            " [ 6.07553124e-03 -1.62104538e-01 -1.80617951e-02 -2.20234838e-01\n",
            "  -1.75301190e-01 -1.77419521e-02  9.01122281e-02 -1.71926974e-02\n",
            "  -8.47831598e-03  7.41148746e-02  6.55549635e-02  1.10270348e-01\n",
            "   1.18656752e-01  1.22552700e-01  1.25274796e-01  9.55031692e-02\n",
            "   9.86334962e-02  9.74567634e-02  3.33740147e-02  1.00000000e+00\n",
            "  -3.68965744e-02 -1.45484046e-01 -6.52251575e-02]\n",
            " [-8.08842759e-02  3.82808679e-02  9.27070375e-03  1.89358329e-02\n",
            "   1.99027141e-01  6.19896756e-03 -5.25776943e-01  9.19062695e-01\n",
            "  -9.68265069e-03  2.51485994e-02  1.44940582e-01  1.81735125e-02\n",
            "   6.19077596e-02  5.79133533e-02  3.40606724e-02  6.73368254e-02\n",
            "   8.31707453e-02 -1.16035812e-01  9.44916086e-02 -3.68965744e-02\n",
            "   1.00000000e+00  6.15637950e-02 -2.96458058e-02]\n",
            " [-2.03275030e-02  1.76690334e-01  5.31713802e-02  5.17558071e-01\n",
            "   3.31193609e-01  2.03266500e-02 -1.22636380e-01  4.57277052e-02\n",
            "   6.29481493e-02 -5.24486131e-02 -1.91663917e-01 -5.90978315e-01\n",
            "  -5.19551869e-01 -5.42972154e-01 -6.09627213e-01 -3.65668899e-01\n",
            "  -3.63747789e-01 -1.85192171e-01 -2.88297889e-02 -1.45484046e-01\n",
            "   6.15637950e-02  1.00000000e+00  2.50693156e-01]\n",
            " [ 5.25887850e-02  9.87079227e-02  1.83907740e-02  6.09720577e-01\n",
            "   7.70606007e-02  1.44394104e-02 -7.84190931e-02 -4.85624680e-02\n",
            "  -2.33345307e-01 -3.41636837e-01 -4.56160656e-01 -2.83016631e-01\n",
            "  -3.51041044e-01 -4.22817427e-01 -3.63542190e-01 -6.59915470e-01\n",
            "  -6.54016881e-01 -2.43914620e-02 -2.21715664e-01 -6.52251575e-02\n",
            "  -2.96458058e-02  2.50693156e-01  1.00000000e+00]]\n"
          ]
        },
        {
          "output_type": "display_data",
          "data": {
            "text/plain": [
              "<Figure size 1656x1656 with 2 Axes>"
            ],
            "image/png": "[encoded data removed]"
          },
          "metadata": {
            "needs_background": "light"
          }
        }
      ]
    },
    {
      "cell_type": "markdown",
      "source": [
        "**MEthod 1:**"
      ],
      "metadata": {
        "id": "vbrwkkunK0GJ"
      }
    },
    {
      "cell_type": "code",
      "source": [
        "from pyspark.ml.classification import LogisticRegression\n",
        "\n",
        "(training_data, test_data) = af_transformed_dataset.randomSplit([0.8,0.2])\n",
        "print('Training Dataset Count: ' , training_data.count())\n",
        "print('Training Dataset Count: ' , test_data.count())\n",
        "\n",
        "lrOnFE1=LogisticRegression(featuresCol='AllFeatures',labelCol='iLabel',maxIter=10)\n",
        "lrOnFE1Model=lrOnFE1.fit(training_data)\n",
        "FE1Predictions=lrOnFE1Model.transform(test_data)\n",
        "FE1Predictions.show()\n",
        "FE1Predictions.select(FE1Predictions[\"rawPrediction\"],FE1Predictions[\"probability\"],FE1Predictions[\"prediction\"]).show(truncate=False)\n"
      ],
      "metadata": {
        "colab": {
          "base_uri": "https://localhost:8080/"
        },
        "id": "1WFJLH3-f6Mc",
        "outputId": "eb496b6e-a596-4bd4-a09a-c3ceb8c025d4"
      },
      "execution_count": 85,
      "outputs": [
        {
          "output_type": "stream",
          "name": "stdout",
          "text": [
            "Training Dataset Count:  183901\n",
            "Training Dataset Count:  46089\n"
          ]
        }
      ]
    },
    {
      "cell_type": "code",
      "source": [
        "FE1accuracy = FE1Predictions.filter(FE1Predictions.iLabel == FE1Predictions.prediction).count() / float(FE1Predictions.count())\n",
        "print(\"Accuracy : \",FE1accuracy)"
      ],
      "metadata": {
        "colab": {
          "base_uri": "https://localhost:8080/"
        },
        "id": "XP1eRhMeiz_k",
        "outputId": "2344c650-ef7b-4e5d-bcf0-e1bdc19032a6"
      },
      "execution_count": 21,
      "outputs": [
        {
          "output_type": "stream",
          "name": "stdout",
          "text": [
            "Accuracy :  0.8669487847222223\n"
          ]
        }
      ]
    },
    {
      "cell_type": "markdown",
      "source": [
        "**Method 2:**"
      ],
      "metadata": {
        "id": "4B5m-c16EF0T"
      }
    },
    {
      "cell_type": "code",
      "source": [
        "from pyspark.ml.stat import Correlation\n",
        "selectedFeatureDataset = dataset\n",
        "for col in selectedFeatureDataset.columns:\n",
        "  if(col!=\"customerID\" and col !=\"AllFeatures\"):\n",
        "        corr=selectedFeatureDataset.stat.corr(col, \"iLabel\")\n",
        "        print(\"\\n\\n\",col,\"feature correlation width customer churn var: \",corr)\n",
        "        if(corr<0.1 and corr>-0.1):\n",
        "            selectedFeatureDataset=selectedFeatureDataset.drop(col)\n",
        "selectedFeatureDataset.show()\n",
        "#pearsonCorrOnFEdataset = Correlation.corr(af_transformed_dataset, 'AllFeatures', 'pearson').collect()[0][0]\n",
        "#print(str(pearsonCorrOnFEdataset))\n",
        "#af_transformed_dataset.show(truncate=0)\n"
      ],
      "metadata": {
        "id": "GY1GNpPKyHTd"
      },
      "execution_count": null,
      "outputs": []
    },
    {
      "cell_type": "code",
      "source": [
        "from pyspark.ml.feature import VectorAssembler\n",
        "m2dataset=dataset\n",
        "m2dataset=m2dataset.drop(\"ihighDependents\")\n",
        "m2dataset=m2dataset.drop(\"iOnlineSecurity\")\n",
        "m2dataset=m2dataset.drop(\"iOnlineBackup\")\n",
        "m2dataset=m2dataset.drop(\"iDeviceProtection\")\n",
        "m2dataset=m2dataset.drop(\"iTechSupport\")\n",
        "m2dataset.show()\n",
        "all_features=['SeniorCitizen','tenure','MonthlyCharges','TotalCharges','ContractInMonth','igender','iPartner','iDependents','iPhoneService','iMultipleLines','iInternetService','iStreamingTV','iStreamingMovies','iContract','iPaperlessBilling','iPaymentMethod','iCautious','iFullTech']\n",
        "all_features_assembler = VectorAssembler(inputCols=all_features, outputCol='AllFeatures')\n",
        "af_transformed_datasetm2 = all_features_assembler.transform(m2dataset)\n",
        "af_transformed_datasetm2.select(af_transformed_datasetm2[\"AllFeatures\"]).show(truncate=False)"
      ],
      "metadata": {
        "colab": {
          "base_uri": "https://localhost:8080/"
        },
        "id": "CiEb9fdNEPf8",
        "outputId": "361a8146-3c68-4e5f-cd49-3a316559aa7a"
      },
      "execution_count": 104,
      "outputs": [
        {
          "output_type": "stream",
          "name": "stdout",
          "text": [
            "+----------+------+-------------+-------+----------+------+------------+----------------+---------------+-------------------+-------------------+-------------------+-------------------+-------------------+-------------------+--------------+----------------+--------------------+--------------+------------+-----+--------------+--------+--------+---------------+-------+--------+-----------+-------------+--------------+----------------+------------+----------------+---------+-----------------+--------------+---------+---------+------+\n",
            "|customerID|gender|SeniorCitizen|Partner|Dependents|tenure|PhoneService|   MultipleLines|InternetService|     OnlineSecurity|       OnlineBackup|   DeviceProtection|        TechSupport|        StreamingTV|    StreamingMovies|      Contract|PaperlessBilling|       PaymentMethod|MonthlyCharges|TotalCharges|Label|highDependents|Cautious|FullTech|ContractInMonth|igender|iPartner|iDependents|iPhoneService|iMultipleLines|iInternetService|iStreamingTV|iStreamingMovies|iContract|iPaperlessBilling|iPaymentMethod|iCautious|iFullTech|iLabel|\n",
            "+----------+------+-------------+-------+----------+------+------------+----------------+---------------+-------------------+-------------------+-------------------+-------------------+-------------------+-------------------+--------------+----------------+--------------------+--------------+------------+-----+--------------+--------+--------+---------------+-------+--------+-----------+-------------+--------------+----------------+------------+----------------+---------+-----------------+--------------+---------+---------+------+\n",
            "|5331-RGMTT|  Male|          1.0|    Yes|        No|  54.0|         Yes|             Yes|    Fiber optic|                 No|                 No|                Yes|                 No|                Yes|                Yes|Month-to-month|             Yes|Credit card (auto...|         99.05|      5295.7|   No|            No|      No|     Yes|              1|    0.0|     0.0|        0.0|          0.0|           0.0|             0.0|         0.0|             0.0|      1.0|              0.0|           1.0|      0.0|      1.0|   0.0|\n",
            "|5161-XEUVX|  Male|          0.0|    Yes|        No|  37.0|         Yes|             Yes|    Fiber optic|                 No|                 No|                Yes|                Yes|                Yes|                 No|      Two year|              No|        Mailed check|          94.3|     3460.95|   No|            No|      No|      No|             24|    0.0|     0.0|        0.0|          0.0|           0.0|             0.0|         0.0|             1.0|      0.0|              1.0|           3.0|      0.0|      0.0|   0.0|\n",
            "|0336-PIKEI|  Male|          1.0|    Yes|        No|  72.0|         Yes|              No|            DSL|                Yes|                Yes|                Yes|                Yes|                Yes|                 No|      Two year|              No|Bank transfer (au...|          74.4|     5360.75|   No|            No|     Yes|      No|             24|    0.0|     0.0|        0.0|          0.0|           1.0|             1.0|         0.0|             1.0|      0.0|              1.0|           0.0|      1.0|      0.0|   0.0|\n",
            "|3345-PBBFH|  Male|          0.0|    Yes|        No|   8.0|         Yes|              No|            DSL|                 No|                Yes|                 No|                 No|                 No|                 No|Month-to-month|             Yes|Bank transfer (au...|         49.55|      393.45|   No|            No|      No|      No|              1|    0.0|     0.0|        0.0|          0.0|           1.0|             1.0|         1.0|             1.0|      1.0|              0.0|           0.0|      0.0|      0.0|   0.0|\n",
            "|5067-XJQFU|  Male|          1.0|    Yes|       Yes|  66.0|         Yes|             Yes|    Fiber optic|                 No|                Yes|                Yes|                Yes|                Yes|                Yes|      One year|             Yes|    Electronic check|        108.45|     7076.35|   No|           Yes|     Yes|     Yes|             12|    0.0|     0.0|        1.0|          0.0|           0.0|             0.0|         0.0|             0.0|      2.0|              0.0|           2.0|      1.0|      1.0|   0.0|\n",
            "|4056-QHXHZ|Female|          0.0|    Yes|       Yes|  72.0|         Yes|             Yes|    Fiber optic|                Yes|                 No|                Yes|                Yes|                Yes|                Yes|      Two year|              No|        Mailed check|        107.45|      7576.7|   No|           Yes|     Yes|     Yes|             24|    1.0|     0.0|        1.0|          0.0|           0.0|             0.0|         0.0|             0.0|      0.0|              1.0|           3.0|      1.0|      1.0|   0.0|\n",
            "|8028-PNXHQ|  Male|          0.0|    Yes|       Yes|  62.0|         Yes|             Yes|             No|No internet service|No internet service|No internet service|No internet service|No internet service|No internet service|      Two year|             Yes|Bank transfer (au...|         24.25|      1424.6|   No|           Yes|      No|      No|             24|    0.0|     0.0|        1.0|          0.0|           0.0|             2.0|         2.0|             2.0|      0.0|              0.0|           0.0|      0.0|      0.0|   0.0|\n",
            "|8181-YHCMF|Female|          0.0|    Yes|       Yes|  68.0|          No|No phone service|            DSL|                 No|                Yes|                Yes|                Yes|                Yes|                Yes|      Two year|              No|Credit card (auto...|          60.3|      4109.0|   No|           Yes|     Yes|      No|             24|    1.0|     0.0|        1.0|          1.0|           2.0|             1.0|         0.0|             0.0|      0.0|              1.0|           1.0|      1.0|      0.0|   0.0|\n",
            "|6734-PSBAW|  Male|          0.0|    Yes|        No|  72.0|         Yes|             Yes|             No|No internet service|No internet service|No internet service|No internet service|No internet service|No internet service|      Two year|             Yes|Bank transfer (au...|         23.55|     1723.95|   No|            No|      No|      No|             24|    0.0|     0.0|        0.0|          0.0|           0.0|             2.0|         2.0|             2.0|      0.0|              0.0|           0.0|      0.0|      0.0|   0.0|\n",
            "|3655-SNQYZ|Female|          0.0|    Yes|       Yes|  69.0|         Yes|             Yes|    Fiber optic|                Yes|                Yes|                Yes|                Yes|                Yes|                Yes|      Two year|              No|Credit card (auto...|        113.25|     7895.15|   No|           Yes|     Yes|     Yes|             24|    1.0|     0.0|        1.0|          0.0|           0.0|             0.0|         0.0|             0.0|      0.0|              1.0|           1.0|      1.0|      1.0|   0.0|\n",
            "|9508-ILZDG|Female|          1.0|     No|        No|  34.0|         Yes|             Yes|    Fiber optic|                 No|                Yes|                 No|                Yes|                Yes|                 No|Month-to-month|             Yes|    Electronic check|         96.35|     3190.25|   No|            No|      No|      No|              1|    1.0|     1.0|        0.0|          0.0|           0.0|             0.0|         0.0|             1.0|      1.0|              0.0|           2.0|      0.0|      0.0|   0.0|\n",
            "|3620-EHIMZ|Female|          0.0|    Yes|       Yes|  52.0|         Yes|              No|             No|No internet service|No internet service|No internet service|No internet service|No internet service|No internet service|      Two year|              No|        Mailed check|         19.35|      1031.7|   No|           Yes|      No|      No|             24|    1.0|     0.0|        1.0|          0.0|           1.0|             2.0|         2.0|             2.0|      0.0|              1.0|           3.0|      0.0|      0.0|   0.0|\n",
            "|4178-EGMON|  Male|          0.0|    Yes|        No|  70.0|         Yes|             Yes|    Fiber optic|                Yes|                Yes|                 No|                Yes|                 No|                 No|      Two year|             Yes|Credit card (auto...|          88.0|     5986.45|   No|            No|     Yes|      No|             24|    0.0|     0.0|        0.0|          0.0|           0.0|             0.0|         1.0|             1.0|      0.0|              0.0|           1.0|      1.0|      0.0|   0.0|\n",
            "|0036-IHMOT|Female|          0.0|    Yes|       Yes|  55.0|         Yes|              No|    Fiber optic|                 No|                Yes|                Yes|                Yes|                Yes|                Yes|      One year|             Yes|Bank transfer (au...|         103.7|     5656.75|   No|           Yes|     Yes|     Yes|             12|    1.0|     0.0|        1.0|          0.0|           1.0|             0.0|         0.0|             0.0|      2.0|              0.0|           0.0|      1.0|      1.0|   0.0|\n",
            "|0281-CNTZX|  Male|          0.0|    Yes|        No|  63.0|         Yes|              No|             No|No internet service|No internet service|No internet service|No internet service|No internet service|No internet service|      Two year|             Yes|Bank transfer (au...|         19.95|      1234.8|   No|            No|      No|      No|             24|    0.0|     0.0|        0.0|          0.0|           1.0|             2.0|         2.0|             2.0|      0.0|              0.0|           0.0|      0.0|      0.0|   0.0|\n",
            "|0530-IJVDB|  Male|          0.0|     No|       Yes|  70.0|         Yes|             Yes|    Fiber optic|                Yes|                Yes|                Yes|                Yes|                Yes|                Yes|      Two year|             Yes|    Electronic check|         114.6|      7882.5|   No|            No|     Yes|     Yes|             24|    0.0|     1.0|        1.0|          0.0|           0.0|             0.0|         0.0|             0.0|      0.0|              0.0|           2.0|      1.0|      1.0|   0.0|\n",
            "|7251-XFOIL|Female|          0.0|     No|        No|  61.0|         Yes|             Yes|    Fiber optic|                 No|                 No|                Yes|                 No|                 No|                Yes|Month-to-month|              No|        Mailed check|          89.2|      5500.6|   No|            No|      No|      No|              1|    1.0|     1.0|        0.0|          0.0|           0.0|             0.0|         1.0|             0.0|      1.0|              1.0|           3.0|      0.0|      0.0|   0.0|\n",
            "|7079-QRCBC|Female|          0.0|     No|        No|  24.0|         Yes|             Yes|    Fiber optic|                 No|                 No|                Yes|                 No|                Yes|                Yes|Month-to-month|             Yes|    Electronic check|         98.75|      2407.3|  Yes|            No|      No|     Yes|              1|    1.0|     1.0|        0.0|          0.0|           0.0|             0.0|         0.0|             0.0|      1.0|              0.0|           2.0|      0.0|      1.0|   1.0|\n",
            "|2908-ZTPNF|Female|          0.0|     No|        No|  36.0|          No|No phone service|            DSL|                 No|                Yes|                 No|                Yes|                 No|                 No|Month-to-month|             Yes|Bank transfer (au...|         34.85|      1267.2|   No|            No|      No|      No|              1|    1.0|     1.0|        0.0|          1.0|           2.0|             1.0|         1.0|             1.0|      1.0|              0.0|           0.0|      0.0|      0.0|   0.0|\n",
            "|0640-YJTPY|  Male|          0.0|    Yes|       Yes|  72.0|         Yes|              No|             No|No internet service|No internet service|No internet service|No internet service|No internet service|No internet service|      Two year|              No|Bank transfer (au...|          21.0|     1493.75|   No|           Yes|      No|      No|             24|    0.0|     0.0|        1.0|          0.0|           1.0|             2.0|         2.0|             2.0|      0.0|              1.0|           0.0|      0.0|      0.0|   0.0|\n",
            "+----------+------+-------------+-------+----------+------+------------+----------------+---------------+-------------------+-------------------+-------------------+-------------------+-------------------+-------------------+--------------+----------------+--------------------+--------------+------------+-----+--------------+--------+--------+---------------+-------+--------+-----------+-------------+--------------+----------------+------------+----------------+---------+-----------------+--------------+---------+---------+------+\n",
            "only showing top 20 rows\n",
            "\n",
            "+---------------------------------------------------------------------------------+\n",
            "|AllFeatures                                                                      |\n",
            "+---------------------------------------------------------------------------------+\n",
            "|(18,[0,1,2,3,4,13,15,17],[1.0,54.0,99.05,5295.7,1.0,1.0,1.0,1.0])                |\n",
            "|(18,[1,2,3,4,12,14,15],[37.0,94.3,3460.95,24.0,1.0,1.0,3.0])                     |\n",
            "|(18,[0,1,2,3,4,9,10,12,14,16],[1.0,72.0,74.4,5360.75,24.0,1.0,1.0,1.0,1.0,1.0])  |\n",
            "|(18,[1,2,3,4,9,10,11,12,13],[8.0,49.55,393.45,1.0,1.0,1.0,1.0,1.0,1.0])          |\n",
            "|(18,[0,1,2,3,4,7,13,15,16,17],[1.0,66.0,108.45,7076.35,12.0,1.0,2.0,2.0,1.0,1.0])|\n",
            "|(18,[1,2,3,4,5,7,14,15,16,17],[72.0,107.45,7576.7,24.0,1.0,1.0,1.0,3.0,1.0,1.0]) |\n",
            "|(18,[1,2,3,4,7,10,11,12],[62.0,24.25,1424.6,24.0,1.0,2.0,2.0,2.0])               |\n",
            "|[0.0,68.0,60.3,4109.0,24.0,1.0,0.0,1.0,1.0,2.0,1.0,0.0,0.0,0.0,1.0,1.0,1.0,0.0]  |\n",
            "|(18,[1,2,3,4,10,11,12],[72.0,23.55,1723.95,24.0,2.0,2.0,2.0])                    |\n",
            "|(18,[1,2,3,4,5,7,14,15,16,17],[69.0,113.25,7895.15,24.0,1.0,1.0,1.0,1.0,1.0,1.0])|\n",
            "|(18,[0,1,2,3,4,5,6,12,13,15],[1.0,34.0,96.35,3190.25,1.0,1.0,1.0,1.0,1.0,2.0])   |\n",
            "|[0.0,52.0,19.35,1031.7,24.0,1.0,0.0,1.0,0.0,1.0,2.0,2.0,2.0,0.0,1.0,3.0,0.0,0.0] |\n",
            "|(18,[1,2,3,4,11,12,15,16],[70.0,88.0,5986.45,24.0,1.0,1.0,1.0,1.0])              |\n",
            "|(18,[1,2,3,4,5,7,9,13,16,17],[55.0,103.7,5656.75,12.0,1.0,1.0,1.0,2.0,1.0,1.0])  |\n",
            "|(18,[1,2,3,4,9,10,11,12],[63.0,19.95,1234.8,24.0,1.0,2.0,2.0,2.0])               |\n",
            "|(18,[1,2,3,4,6,7,15,16,17],[70.0,114.6,7882.5,24.0,1.0,1.0,2.0,1.0,1.0])         |\n",
            "|(18,[1,2,3,4,5,6,11,13,14,15],[61.0,89.2,5500.6,1.0,1.0,1.0,1.0,1.0,1.0,3.0])    |\n",
            "|(18,[1,2,3,4,5,6,13,15,17],[24.0,98.75,2407.3,1.0,1.0,1.0,1.0,2.0,1.0])          |\n",
            "|[0.0,36.0,34.85,1267.2,1.0,1.0,1.0,0.0,1.0,2.0,1.0,1.0,1.0,1.0,0.0,0.0,0.0,0.0]  |\n",
            "|(18,[1,2,3,4,7,9,10,11,12,14],[72.0,21.0,1493.75,24.0,1.0,1.0,2.0,2.0,2.0,1.0])  |\n",
            "+---------------------------------------------------------------------------------+\n",
            "only showing top 20 rows\n",
            "\n"
          ]
        }
      ]
    },
    {
      "cell_type": "code",
      "source": [
        "from pyspark.ml.classification import LogisticRegression\n",
        "\n",
        "(training_data, test_data) = af_transformed_datasetm2.randomSplit([0.8,0.2])\n",
        "print('Training Dataset Count: ' , training_data.count())\n",
        "print('Training Dataset Count: ' , test_data.count())\n",
        "\n",
        "lrOnFE2=LogisticRegression(featuresCol='AllFeatures',labelCol='iLabel',maxIter=10)\n",
        "lrOnFE2Model=lrOnFE2.fit(training_data)\n",
        "FE2Predictions=lrOnFE2Model.transform(test_data)\n",
        "FE2Predictions.show()\n",
        "FE2Predictions.select(FE2Predictions[\"rawPrediction\"],FE2Predictions[\"probability\"],FE2Predictions[\"prediction\"]).show(truncate=False)\n"
      ],
      "metadata": {
        "colab": {
          "base_uri": "https://localhost:8080/"
        },
        "id": "XfVJLObhGB3q",
        "outputId": "36b4e640-cf4d-45e4-9c8c-e706581c90db"
      },
      "execution_count": 105,
      "outputs": [
        {
          "output_type": "stream",
          "name": "stdout",
          "text": [
            "Training Dataset Count:  183863\n",
            "Training Dataset Count:  46127\n",
            "+----------+------+-------------+-------+----------+-----------------+------------+----------------+---------------+-------------------+-------------------+-------------------+-------------------+-------------------+-------------------+--------------+----------------+--------------------+------------------+------------------+-----+--------------+--------+--------+---------------+-------+--------+-----------+-------------+--------------+----------------+---------------+-------------+-----------------+------------+------------+----------------+---------+-----------------+--------------+---------------+---------+---------+------+--------------------+--------------------+--------------------+----------+\n",
            "|customerID|gender|SeniorCitizen|Partner|Dependents|           tenure|PhoneService|   MultipleLines|InternetService|     OnlineSecurity|       OnlineBackup|   DeviceProtection|        TechSupport|        StreamingTV|    StreamingMovies|      Contract|PaperlessBilling|       PaymentMethod|    MonthlyCharges|      TotalCharges|Label|highDependents|Cautious|FullTech|ContractInMonth|igender|iPartner|iDependents|iPhoneService|iMultipleLines|iInternetService|iOnlineSecurity|iOnlineBackup|iDeviceProtection|iTechSupport|iStreamingTV|iStreamingMovies|iContract|iPaperlessBilling|iPaymentMethod|ihighDependents|iCautious|iFullTech|iLabel|         AllFeatures|       rawPrediction|         probability|prediction|\n",
            "+----------+------+-------------+-------+----------+-----------------+------------+----------------+---------------+-------------------+-------------------+-------------------+-------------------+-------------------+-------------------+--------------+----------------+--------------------+------------------+------------------+-----+--------------+--------+--------+---------------+-------+--------+-----------+-------------+--------------+----------------+---------------+-------------+-----------------+------------+------------+----------------+---------+-----------------+--------------+---------------+---------+---------+------+--------------------+--------------------+--------------------+----------+\n",
            "|      null|Female|          0.0|     No|        No|             13.0|         Yes|             Yes|    Fiber optic|                 No|                 No|                Yes|                Yes|                Yes|                Yes|Month-to-month|             Yes|    Electronic check|126.33354646633663|           1215.65|   No|            No|      No|     Yes|              1|    1.0|     1.0|        0.0|          0.0|           0.0|             0.0|            1.0|          1.0|              0.0|         0.0|         0.0|             0.0|      1.0|              0.0|           2.0|            0.0|      0.0|      1.0|   0.0|(18,[1,2,3,4,5,6,...|[1.71620974160782...|[0.24390791061682...|       1.0|\n",
            "|      null|Female|          0.0|    Yes|        No|             43.0|         Yes|             Yes|    Fiber optic|No internet service|No internet service|                Yes|No internet service|No internet service|No internet service|      Two year|             Yes|Bank transfer (au...|              25.7|3700.3237047256403|   No|            No|      No|      No|             24|    1.0|     0.0|        0.0|          0.0|           0.0|             0.0|            2.0|          2.0|              0.0|         2.0|         2.0|             2.0|      0.0|              0.0|           0.0|            0.0|      0.0|      0.0|   0.0|(18,[1,2,3,4,5,11...|[2.83242221028728...|[0.92431688971548...|       0.0|\n",
            "|      null|Female|          0.0|    Yes|        No|49.43501838835332|         Yes|              No|             No|No internet service|No internet service|No internet service|                Yes|                Yes|                Yes|      Two year|              No|        Mailed check|             20.65|            835.15|   No|            No|      No|      No|             24|    1.0|     0.0|        0.0|          0.0|           1.0|             2.0|            2.0|          2.0|              2.0|         0.0|         0.0|             0.0|      0.0|              1.0|           3.0|            0.0|      0.0|      0.0|   0.0|(18,[1,2,3,4,5,9,...|[3.56192876557364...|[0.97918994982242...|       0.0|\n",
            "|      null|Female|          0.0|    Yes|        No|             64.0|         Yes|              No|             No|                Yes|No internet service|No internet service|No internet service|No internet service|No internet service|      Two year|              No|        Mailed check|              20.2|           1277.75|   No|            No|      No|      No|             24|    1.0|     0.0|        0.0|          0.0|           1.0|             2.0|            0.0|          2.0|              2.0|         2.0|         2.0|             2.0|      0.0|              1.0|           3.0|            0.0|      0.0|      0.0|   0.0|[0.0,64.0,20.2,12...|[3.76949611586485...|[0.99088853018730...|       0.0|\n",
            "|      null|Female|          0.0|    Yes|       Yes|49.43501838835332|          No|No phone service|    Fiber optic|                Yes|                Yes|                Yes|                Yes|                Yes|                Yes|      Two year|             Yes|    Electronic check|              54.6|3700.3237047256403|   No|           Yes|     Yes|      No|             24|    1.0|     0.0|        1.0|          1.0|           2.0|             0.0|            0.0|          0.0|              0.0|         0.0|         0.0|             0.0|      0.0|              0.0|           2.0|            1.0|      1.0|      0.0|   0.0|(18,[1,2,3,4,5,7,...|[2.79464206869649...|[0.86196804117044...|       0.0|\n",
            "|      null|Female|          0.0|    Yes|       Yes|49.43501838835332|         Yes|              No|             No|No internet service|                Yes|No internet service|                Yes|No internet service|                Yes|      Two year|              No|        Mailed check|              20.2|3700.3237047256403|   No|           Yes|      No|      No|             24|    1.0|     0.0|        1.0|          0.0|           1.0|             2.0|            2.0|          0.0|              2.0|         0.0|         2.0|             0.0|      0.0|              1.0|           3.0|            1.0|      0.0|      0.0|   0.0|[0.0,49.435018388...|[4.22757700025244...|[0.99547924234244...|       0.0|\n",
            "|      null|Female|          0.0|    Yes|       Yes|             64.0|          No|No phone service|            DSL|                 No|                Yes|                 No|                Yes|                Yes|                Yes|      Two year|             Yes|Bank transfer (au...|              54.6|            3423.5|   No|           Yes|      No|      No|             24|    1.0|     0.0|        1.0|          1.0|           2.0|             1.0|            1.0|          0.0|              1.0|         0.0|         0.0|             0.0|      0.0|              0.0|           0.0|            1.0|      0.0|      0.0|   0.0|(18,[1,2,3,4,5,7,...|[3.33925363224055...|[0.95592699501881...|       0.0|\n",
            "|      null|Female|          0.0|    Yes|       Yes|             64.0|         Yes|              No|             No|                Yes|No internet service|No internet service|No internet service|                Yes|No internet service|      Two year|              No|        Mailed check|              20.2|3700.3237047256403|   No|           Yes|      No|      No|             24|    1.0|     0.0|        1.0|          0.0|           1.0|             2.0|            0.0|          2.0|              2.0|         2.0|         0.0|             2.0|      0.0|              1.0|           3.0|            1.0|      0.0|      0.0|   0.0|[0.0,64.0,20.2,37...|[4.22878206425813...|[0.99555797234685...|       0.0|\n",
            "|      null|Female|          1.0|    Yes|        No|             37.0|         Yes|             Yes|    Fiber optic|                 No|                Yes|                 No|                 No|                 No|                 No|Month-to-month|             Yes|    Electronic check|              76.5|3700.3237047256403|  Yes|            No|      No|      No|              1|    1.0|     0.0|        0.0|          0.0|           0.0|             0.0|            1.0|          0.0|              1.0|         1.0|         1.0|             1.0|      1.0|              0.0|           2.0|            0.0|      0.0|      0.0|   1.0|(18,[0,1,2,3,4,5,...|[2.40594822213445...|[0.62782294916561...|       0.0|\n",
            "|      null|Female|          1.0|    Yes|        No|             37.0|         Yes|             Yes|    Fiber optic|                 No|                Yes|                 No|                 No|                Yes|                 No|Month-to-month|             Yes|    Electronic check|              76.5|           2868.15|  Yes|            No|      No|      No|              1|    1.0|     0.0|        0.0|          0.0|           0.0|             0.0|            1.0|          0.0|              1.0|         1.0|         0.0|             1.0|      1.0|              0.0|           2.0|            0.0|      0.0|      0.0|   1.0|(18,[0,1,2,3,4,5,...|[2.22620638797147...|[0.50536559014234...|       0.0|\n",
            "|      null|Female|          1.0|    Yes|        No|             37.0|         Yes|             Yes|    Fiber optic|                Yes|                 No|                 No|                Yes|                 No|                Yes|Month-to-month|             Yes|    Electronic check|              76.5|3700.3237047256403|  Yes|            No|      No|      No|              1|    1.0|     0.0|        0.0|          0.0|           0.0|             0.0|            0.0|          1.0|              1.0|         0.0|         1.0|             0.0|      1.0|              0.0|           2.0|            0.0|      0.0|      0.0|   1.0|(18,[0,1,2,3,4,5,...|[2.35973447743452...|[0.57425621955818...|       0.0|\n",
            "|      null|  Male|          0.0|     No|        No|             33.0|         Yes|              No|    Fiber optic|                Yes|                 No|                 No|                Yes|                Yes|                 No|      Two year|             Yes|Bank transfer (au...|             88.95|           3027.65|   No|            No|      No|      No|             24|    0.0|     1.0|        0.0|          0.0|           1.0|             0.0|            0.0|          1.0|              1.0|         0.0|         0.0|             1.0|      0.0|              0.0|           0.0|            0.0|      0.0|      0.0|   0.0|(18,[1,2,3,4,6,9,...|[2.89305674642322...|[0.89582575554578...|       0.0|\n",
            "|      null|  Male|          0.0|     No|        No|             33.0|         Yes|              No|    Fiber optic|                Yes|                Yes|                 No|                Yes|                Yes|                Yes|      Two year|             Yes|Bank transfer (au...|126.33354646633663|           3027.65|   No|            No|     Yes|     Yes|             24|    0.0|     1.0|        0.0|          0.0|           1.0|             0.0|            0.0|          0.0|              1.0|         0.0|         0.0|             0.0|      0.0|              0.0|           0.0|            0.0|      1.0|      1.0|   0.0|(18,[1,2,3,4,6,9,...|[2.55565265797998...|[0.82754505855740...|       0.0|\n",
            "|      null|  Male|          0.0|     No|        No|             41.0|         Yes|              No|    Fiber optic|No internet service|No internet service|No internet service|                Yes|                Yes|                Yes|      Two year|             Yes|Bank transfer (au...|             20.65|            835.15|   No|            No|      No|     Yes|             24|    0.0|     1.0|        0.0|          0.0|           1.0|             0.0|            2.0|          2.0|              2.0|         0.0|         0.0|             0.0|      0.0|              0.0|           0.0|            0.0|      0.0|      1.0|   0.0|(18,[1,2,3,4,6,9,...|[2.14945393219227...|[0.63850663608573...|       0.0|\n",
            "|      null|  Male|          0.0|     No|        No|49.43501838835332|         Yes|             Yes|             No|No internet service|                Yes|No internet service|                Yes|No internet service|No internet service|      Two year|             Yes|Bank transfer (au...|126.33354646633663|3700.3237047256403|   No|            No|      No|      No|             24|    0.0|     1.0|        0.0|          0.0|           0.0|             2.0|            2.0|          0.0|              2.0|         0.0|         2.0|             2.0|      0.0|              0.0|           0.0|            0.0|      0.0|      0.0|   0.0|(18,[1,2,3,4,6,10...|[3.97794747652792...|[0.99361120175683...|       0.0|\n",
            "|      null|  Male|          0.0|     No|        No|             67.0|         Yes|              No|            DSL|                 No|                Yes|                Yes|                Yes|                 No|                 No|      Two year|             Yes|Bank transfer (au...|             50.55|            3260.1|   No|            No|     Yes|      No|             24|    0.0|     1.0|        0.0|          0.0|           1.0|             1.0|            1.0|          0.0|              0.0|         0.0|         1.0|             1.0|      0.0|              0.0|           0.0|            0.0|      1.0|      0.0|   0.0|(18,[1,2,3,4,6,9,...|[3.47560960541801...|[0.97963011981623...|       0.0|\n",
            "|      null|  Male|          0.0|    Yes|        No|              6.0|         Yes|              No|    Fiber optic|No internet service|                Yes|No internet service|                Yes|No internet service|No internet service|Month-to-month|              No|        Mailed check|              20.7|3700.3237047256403|   No|            No|      No|      No|              1|    0.0|     0.0|        0.0|          0.0|           1.0|             0.0|            2.0|          0.0|              2.0|         0.0|         2.0|             2.0|      1.0|              1.0|           3.0|            0.0|      0.0|      0.0|   0.0|(18,[1,2,3,4,9,11...|[2.86790939520474...|[0.84618191073103...|       0.0|\n",
            "|      null|  Male|          0.0|    Yes|        No|             33.0|         Yes|              No|    Fiber optic|                Yes|                Yes|                 No|                Yes|                Yes|                 No|      Two year|             Yes|    Electronic check|             88.95|           3027.65|   No|            No|     Yes|      No|             24|    0.0|     0.0|        0.0|          0.0|           1.0|             0.0|            0.0|          0.0|              1.0|         0.0|         0.0|             1.0|      0.0|              0.0|           2.0|            0.0|      1.0|      0.0|   0.0|(18,[1,2,3,4,9,12...|[2.79844468379937...|[0.88596645061387...|       0.0|\n",
            "|      null|  Male|          0.0|    Yes|        No|49.43501838835332|         Yes|              No|            DSL|                Yes|                 No|                 No|                Yes|                Yes|                 No|      Two year|              No|Bank transfer (au...|             50.55|            3260.1|   No|            No|      No|      No|             24|    0.0|     0.0|        0.0|          0.0|           1.0|             1.0|            0.0|          1.0|              1.0|         0.0|         0.0|             1.0|      0.0|              1.0|           0.0|            0.0|      0.0|      0.0|   0.0|(18,[1,2,3,4,9,10...|[3.52012283946685...|[0.97769083420207...|       0.0|\n",
            "|      null|  Male|          0.0|    Yes|        No|49.43501838835332|         Yes|             Yes|    Fiber optic|                 No|                Yes|                Yes|                 No|                Yes|                Yes|Month-to-month|             Yes|    Electronic check|126.33354646633663|            3954.1|   No|            No|      No|     Yes|              1|    0.0|     0.0|        0.0|          0.0|           0.0|             0.0|            1.0|          0.0|              0.0|         1.0|         0.0|             0.0|      1.0|              0.0|           2.0|            0.0|      0.0|      1.0|   0.0|(18,[1,2,3,4,13,1...|[2.06287468674155...|[0.40379052716661...|       1.0|\n",
            "+----------+------+-------------+-------+----------+-----------------+------------+----------------+---------------+-------------------+-------------------+-------------------+-------------------+-------------------+-------------------+--------------+----------------+--------------------+------------------+------------------+-----+--------------+--------+--------+---------------+-------+--------+-----------+-------------+--------------+----------------+---------------+-------------+-----------------+------------+------------+----------------+---------+-----------------+--------------+---------------+---------+---------+------+--------------------+--------------------+--------------------+----------+\n",
            "only showing top 20 rows\n",
            "\n",
            "+-------------------------------------------------------------+---------------------------------------------------------------+----------+\n",
            "|rawPrediction                                                |probability                                                    |prediction|\n",
            "+-------------------------------------------------------------+---------------------------------------------------------------+----------+\n",
            "|[1.7162097416078204,2.846977294900755,-4.563187036508576]    |[0.2439079106168297,0.7556348764408007,4.57212942369592E-4]    |1.0       |\n",
            "|[2.832422210287289,0.2979991367251005,-3.1304213470123896]   |[0.9243168897154806,0.07330522534955149,0.0023778849349679982] |0.0       |\n",
            "|[3.5619287655736427,-0.3443362031023205,-3.2175925624713217] |[0.9791899498224286,0.019696888505134538,0.0011131616724369701]|0.0       |\n",
            "|[3.769496115864852,-1.1132935151251853,-2.6562026007396664]  |[0.9908885301873083,0.007506823559575652,0.0016046462531162393]|0.0       |\n",
            "|[2.7946420686964917,0.9538765159835505,-3.7485185846800424]  |[0.8619680411704445,0.1367907850337423,0.0012411737958133143]  |0.0       |\n",
            "|[4.227577000252448,-1.3710438005671546,-2.856533199685294]   |[0.9954792423424473,0.0036862271078343138,8.345305497182938E-4]|0.0       |\n",
            "|[3.3392536322405597,0.24074464099013637,-3.5799982732306965] |[0.9559269950188122,0.04312800498958939,9.449999915984752E-4]  |0.0       |\n",
            "|[4.22878206425813,-1.3970692609183337,-2.831712803339797]    |[0.9955579723468583,0.003587487264211616,8.545403889302454E-4] |0.0       |\n",
            "|[2.40594822213445,1.880966227802666,-4.2869144499371155]     |[0.6278229491656104,0.3713987206734473,7.783301609422136E-4]   |0.0       |\n",
            "|[2.22620638797147,2.203427942254205,-4.429634330225675]      |[0.5053655901423426,0.4939842640423213,6.501458153360953E-4]   |0.0       |\n",
            "|[2.359734477434528,2.058960285129943,-4.4186947625644715]    |[0.5742562195581847,0.42509024176773075,6.535386740845651E-4]  |0.0       |\n",
            "|[2.893056746423225,0.7285536057750446,-3.621610352198269]    |[0.8958257555457813,0.1028470346776416,0.0013272097765771582]  |0.0       |\n",
            "|[2.5556526579799845,0.9763691589328962,-3.5320218169128808]  |[0.8275450585574076,0.17057584868934297,0.0018790927532495068] |0.0       |\n",
            "|[2.149453932192277,1.5755895134655753,-3.7250434456578523]   |[0.63850663608573,0.3596990285355735,0.0017943353786966107]    |0.0       |\n",
            "|[3.977947476527924,-1.2894636287001817,-2.688483847827742]   |[0.9936112017568385,0.005123997416289914,0.0012648008268717882]|0.0       |\n",
            "|[3.4756096054180112,-0.4743872394859254,-3.0012223659320867] |[0.9796301198162392,0.018862545320296846,0.0015073348634639767]|0.0       |\n",
            "|[2.8679093952047454,1.1573480341659916,-4.025257429370737]   |[0.8461819107310383,0.1529594723890523,8.586168799094205E-4]   |0.0       |\n",
            "|[2.798444683799378,0.7343334738612368,-3.5327781576606148]   |[0.885966450613876,0.11245665672204375,0.0015768926640802854]  |0.0       |\n",
            "|[3.5201228394668505,-0.31405383725731806,-3.2060690022095324]|[0.9776908342020757,0.021136825907582917,0.0011723398903413379]|0.0       |\n",
            "|[2.062874686741552,2.4516276583801138,-4.514502345121666]    |[0.4037905271666192,0.5956476005931493,5.618722402317122E-4]   |1.0       |\n",
            "+-------------------------------------------------------------+---------------------------------------------------------------+----------+\n",
            "only showing top 20 rows\n",
            "\n"
          ]
        }
      ]
    },
    {
      "cell_type": "code",
      "source": [
        "FE2accuracy = FE2Predictions.filter(FE2Predictions.iLabel == FE2Predictions.prediction).count() / float(FE2Predictions.count())\n",
        "print(\"Accuracy : \",FE2accuracy)"
      ],
      "metadata": {
        "colab": {
          "base_uri": "https://localhost:8080/"
        },
        "id": "JtnpqUtvJJAV",
        "outputId": "34f0e142-8ee3-4051-899b-d47a7928a5bb"
      },
      "execution_count": 106,
      "outputs": [
        {
          "output_type": "stream",
          "name": "stdout",
          "text": [
            "Accuracy :  0.866130465887658\n"
          ]
        }
      ]
    },
    {
      "cell_type": "markdown",
      "source": [
        "**Method 3:**"
      ],
      "metadata": {
        "id": "mdssO4MfK50w"
      }
    },
    {
      "cell_type": "code",
      "source": [
        "dataset.show()\n",
        "from pyspark.ml.stat import Correlation\n",
        "selectedFeatureDataset = dataset\n",
        "for col in selectedFeatureDataset.columns:\n",
        "  if(col!=\"customerID\" and col !=\"AllFeatures\"):\n",
        "        corr=selectedFeatureDataset.stat.corr(col, \"iLabel\")\n",
        "        print(\"\\n\\n\",col,\"feature correlation width customer churn var: \",corr)\n",
        "        if(corr<0.1 and corr>-0.1):\n",
        "            selectedFeatureDataset=selectedFeatureDataset.drop(col)\n",
        "selectedFeatureDataset.show()"
      ],
      "metadata": {
        "colab": {
          "base_uri": "https://localhost:8080/"
        },
        "id": "nYobZtsfK8SG",
        "outputId": "44d3d4b5-c18a-4b10-fe7a-5e11fca7de23"
      },
      "execution_count": 111,
      "outputs": [
        {
          "output_type": "stream",
          "name": "stdout",
          "text": [
            "+----------+-------------+------+--------------+------------+---------------+-------+--------+-----------+-------------+--------------+----------------+---------------+-------------+-----------------+------------+------------+----------------+---------+-----------------+--------------+---------------+---------+---------+------+\n",
            "|customerID|SeniorCitizen|tenure|MonthlyCharges|TotalCharges|ContractInMonth|igender|iPartner|iDependents|iPhoneService|iMultipleLines|iInternetService|iOnlineSecurity|iOnlineBackup|iDeviceProtection|iTechSupport|iStreamingTV|iStreamingMovies|iContract|iPaperlessBilling|iPaymentMethod|ihighDependents|iCautious|iFullTech|iLabel|\n",
            "+----------+-------------+------+--------------+------------+---------------+-------+--------+-----------+-------------+--------------+----------------+---------------+-------------+-----------------+------------+------------+----------------+---------+-----------------+--------------+---------------+---------+---------+------+\n",
            "|5331-RGMTT|          1.0|  54.0|         99.05|      5295.7|              1|    0.0|     0.0|        0.0|          0.0|           0.0|             0.0|            1.0|          1.0|              0.0|         1.0|         0.0|             0.0|      1.0|              0.0|           1.0|            0.0|      0.0|      1.0|   0.0|\n",
            "|5161-XEUVX|          0.0|  37.0|          94.3|     3460.95|             24|    0.0|     0.0|        0.0|          0.0|           0.0|             0.0|            1.0|          1.0|              0.0|         0.0|         0.0|             1.0|      0.0|              1.0|           3.0|            0.0|      0.0|      0.0|   0.0|\n",
            "|0336-PIKEI|          1.0|  72.0|          74.4|     5360.75|             24|    0.0|     0.0|        0.0|          0.0|           1.0|             1.0|            0.0|          0.0|              0.0|         0.0|         0.0|             1.0|      0.0|              1.0|           0.0|            0.0|      1.0|      0.0|   0.0|\n",
            "|3345-PBBFH|          0.0|   8.0|         49.55|      393.45|              1|    0.0|     0.0|        0.0|          0.0|           1.0|             1.0|            1.0|          0.0|              1.0|         1.0|         1.0|             1.0|      1.0|              0.0|           0.0|            0.0|      0.0|      0.0|   0.0|\n",
            "|5067-XJQFU|          1.0|  66.0|        108.45|     7076.35|             12|    0.0|     0.0|        1.0|          0.0|           0.0|             0.0|            1.0|          0.0|              0.0|         0.0|         0.0|             0.0|      2.0|              0.0|           2.0|            1.0|      1.0|      1.0|   0.0|\n",
            "|4056-QHXHZ|          0.0|  72.0|        107.45|      7576.7|             24|    1.0|     0.0|        1.0|          0.0|           0.0|             0.0|            0.0|          1.0|              0.0|         0.0|         0.0|             0.0|      0.0|              1.0|           3.0|            1.0|      1.0|      1.0|   0.0|\n",
            "|8028-PNXHQ|          0.0|  62.0|         24.25|      1424.6|             24|    0.0|     0.0|        1.0|          0.0|           0.0|             2.0|            2.0|          2.0|              2.0|         2.0|         2.0|             2.0|      0.0|              0.0|           0.0|            1.0|      0.0|      0.0|   0.0|\n",
            "|8181-YHCMF|          0.0|  68.0|          60.3|      4109.0|             24|    1.0|     0.0|        1.0|          1.0|           2.0|             1.0|            1.0|          0.0|              0.0|         0.0|         0.0|             0.0|      0.0|              1.0|           1.0|            1.0|      1.0|      0.0|   0.0|\n",
            "|6734-PSBAW|          0.0|  72.0|         23.55|     1723.95|             24|    0.0|     0.0|        0.0|          0.0|           0.0|             2.0|            2.0|          2.0|              2.0|         2.0|         2.0|             2.0|      0.0|              0.0|           0.0|            0.0|      0.0|      0.0|   0.0|\n",
            "|3655-SNQYZ|          0.0|  69.0|        113.25|     7895.15|             24|    1.0|     0.0|        1.0|          0.0|           0.0|             0.0|            0.0|          0.0|              0.0|         0.0|         0.0|             0.0|      0.0|              1.0|           1.0|            1.0|      1.0|      1.0|   0.0|\n",
            "|9508-ILZDG|          1.0|  34.0|         96.35|     3190.25|              1|    1.0|     1.0|        0.0|          0.0|           0.0|             0.0|            1.0|          0.0|              1.0|         0.0|         0.0|             1.0|      1.0|              0.0|           2.0|            0.0|      0.0|      0.0|   0.0|\n",
            "|3620-EHIMZ|          0.0|  52.0|         19.35|      1031.7|             24|    1.0|     0.0|        1.0|          0.0|           1.0|             2.0|            2.0|          2.0|              2.0|         2.0|         2.0|             2.0|      0.0|              1.0|           3.0|            1.0|      0.0|      0.0|   0.0|\n",
            "|4178-EGMON|          0.0|  70.0|          88.0|     5986.45|             24|    0.0|     0.0|        0.0|          0.0|           0.0|             0.0|            0.0|          0.0|              1.0|         0.0|         1.0|             1.0|      0.0|              0.0|           1.0|            0.0|      1.0|      0.0|   0.0|\n",
            "|0036-IHMOT|          0.0|  55.0|         103.7|     5656.75|             12|    1.0|     0.0|        1.0|          0.0|           1.0|             0.0|            1.0|          0.0|              0.0|         0.0|         0.0|             0.0|      2.0|              0.0|           0.0|            1.0|      1.0|      1.0|   0.0|\n",
            "|0281-CNTZX|          0.0|  63.0|         19.95|      1234.8|             24|    0.0|     0.0|        0.0|          0.0|           1.0|             2.0|            2.0|          2.0|              2.0|         2.0|         2.0|             2.0|      0.0|              0.0|           0.0|            0.0|      0.0|      0.0|   0.0|\n",
            "|0530-IJVDB|          0.0|  70.0|         114.6|      7882.5|             24|    0.0|     1.0|        1.0|          0.0|           0.0|             0.0|            0.0|          0.0|              0.0|         0.0|         0.0|             0.0|      0.0|              0.0|           2.0|            0.0|      1.0|      1.0|   0.0|\n",
            "|7251-XFOIL|          0.0|  61.0|          89.2|      5500.6|              1|    1.0|     1.0|        0.0|          0.0|           0.0|             0.0|            1.0|          1.0|              0.0|         1.0|         1.0|             0.0|      1.0|              1.0|           3.0|            0.0|      0.0|      0.0|   0.0|\n",
            "|7079-QRCBC|          0.0|  24.0|         98.75|      2407.3|              1|    1.0|     1.0|        0.0|          0.0|           0.0|             0.0|            1.0|          1.0|              0.0|         1.0|         0.0|             0.0|      1.0|              0.0|           2.0|            0.0|      0.0|      1.0|   1.0|\n",
            "|2908-ZTPNF|          0.0|  36.0|         34.85|      1267.2|              1|    1.0|     1.0|        0.0|          1.0|           2.0|             1.0|            1.0|          0.0|              1.0|         0.0|         1.0|             1.0|      1.0|              0.0|           0.0|            0.0|      0.0|      0.0|   0.0|\n",
            "|0640-YJTPY|          0.0|  72.0|          21.0|     1493.75|             24|    0.0|     0.0|        1.0|          0.0|           1.0|             2.0|            2.0|          2.0|              2.0|         2.0|         2.0|             2.0|      0.0|              1.0|           0.0|            1.0|      0.0|      0.0|   0.0|\n",
            "+----------+-------------+------+--------------+------------+---------------+-------+--------+-----------+-------------+--------------+----------------+---------------+-------------+-----------------+------------+------------+----------------+---------+-----------------+--------------+---------------+---------+---------+------+\n",
            "only showing top 20 rows\n",
            "\n",
            "\n",
            "\n",
            " SeniorCitizen feature correlation width customer churn var:  0.08489853847760222\n",
            "\n",
            "\n",
            " tenure feature correlation width customer churn var:  -0.12676566131807096\n",
            "\n",
            "\n",
            " MonthlyCharges feature correlation width customer churn var:  0.007726072474089307\n",
            "\n",
            "\n",
            " TotalCharges feature correlation width customer churn var:  -0.03629103870213205\n",
            "\n",
            "\n",
            " ContractInMonth feature correlation width customer churn var:  -0.3508796600667237\n",
            "\n",
            "\n",
            " igender feature correlation width customer churn var:  -0.016326515705542194\n",
            "\n",
            "\n",
            " iPartner feature correlation width customer churn var:  0.08204854679463729\n",
            "\n",
            "\n",
            " iDependents feature correlation width customer churn var:  -0.12269058784498946\n",
            "\n",
            "\n",
            " iPhoneService feature correlation width customer churn var:  -0.021268995159031242\n",
            "\n",
            "\n",
            " iMultipleLines feature correlation width customer churn var:  -0.07725986644163231\n",
            "\n",
            "\n",
            " iInternetService feature correlation width customer churn var:  -0.27517341751687435\n",
            "\n",
            "\n",
            " iOnlineSecurity feature correlation width customer churn var:  -0.017938966822475012\n",
            "\n",
            "\n",
            " iOnlineBackup feature correlation width customer churn var:  -0.09086799267118002\n",
            "\n",
            "\n",
            " iDeviceProtection feature correlation width customer churn var:  -0.08858004038681029\n",
            "\n",
            "\n",
            " iTechSupport feature correlation width customer churn var:  -0.021242250645445288\n",
            "\n",
            "\n",
            " iStreamingTV feature correlation width customer churn var:  -0.16797123752486928\n",
            "\n",
            "\n",
            " iStreamingMovies feature correlation width customer churn var:  -0.16678244599638287\n",
            "\n",
            "\n",
            " iContract feature correlation width customer churn var:  0.14326521533931108\n",
            "\n",
            "\n",
            " iPaperlessBilling feature correlation width customer churn var:  -0.15904109323852963\n",
            "\n",
            "\n",
            " iPaymentMethod feature correlation width customer churn var:  0.08154152642290026\n",
            "\n",
            "\n",
            " ihighDependents feature correlation width customer churn var:  -0.1188267434143862\n",
            "\n",
            "\n",
            " iCautious feature correlation width customer churn var:  -0.13691305891969907\n",
            "\n",
            "\n",
            " iFullTech feature correlation width customer churn var:  0.11037355574060145\n",
            "\n",
            "\n",
            " iLabel feature correlation width customer churn var:  1.0\n",
            "+----------+------+---------------+-----------+----------------+------------+----------------+---------+-----------------+---------------+---------+---------+------+\n",
            "|customerID|tenure|ContractInMonth|iDependents|iInternetService|iStreamingTV|iStreamingMovies|iContract|iPaperlessBilling|ihighDependents|iCautious|iFullTech|iLabel|\n",
            "+----------+------+---------------+-----------+----------------+------------+----------------+---------+-----------------+---------------+---------+---------+------+\n",
            "|5331-RGMTT|  54.0|              1|        0.0|             0.0|         0.0|             0.0|      1.0|              0.0|            0.0|      0.0|      1.0|   0.0|\n",
            "|5161-XEUVX|  37.0|             24|        0.0|             0.0|         0.0|             1.0|      0.0|              1.0|            0.0|      0.0|      0.0|   0.0|\n",
            "|0336-PIKEI|  72.0|             24|        0.0|             1.0|         0.0|             1.0|      0.0|              1.0|            0.0|      1.0|      0.0|   0.0|\n",
            "|3345-PBBFH|   8.0|              1|        0.0|             1.0|         1.0|             1.0|      1.0|              0.0|            0.0|      0.0|      0.0|   0.0|\n",
            "|5067-XJQFU|  66.0|             12|        1.0|             0.0|         0.0|             0.0|      2.0|              0.0|            1.0|      1.0|      1.0|   0.0|\n",
            "|4056-QHXHZ|  72.0|             24|        1.0|             0.0|         0.0|             0.0|      0.0|              1.0|            1.0|      1.0|      1.0|   0.0|\n",
            "|8028-PNXHQ|  62.0|             24|        1.0|             2.0|         2.0|             2.0|      0.0|              0.0|            1.0|      0.0|      0.0|   0.0|\n",
            "|8181-YHCMF|  68.0|             24|        1.0|             1.0|         0.0|             0.0|      0.0|              1.0|            1.0|      1.0|      0.0|   0.0|\n",
            "|6734-PSBAW|  72.0|             24|        0.0|             2.0|         2.0|             2.0|      0.0|              0.0|            0.0|      0.0|      0.0|   0.0|\n",
            "|3655-SNQYZ|  69.0|             24|        1.0|             0.0|         0.0|             0.0|      0.0|              1.0|            1.0|      1.0|      1.0|   0.0|\n",
            "|9508-ILZDG|  34.0|              1|        0.0|             0.0|         0.0|             1.0|      1.0|              0.0|            0.0|      0.0|      0.0|   0.0|\n",
            "|3620-EHIMZ|  52.0|             24|        1.0|             2.0|         2.0|             2.0|      0.0|              1.0|            1.0|      0.0|      0.0|   0.0|\n",
            "|4178-EGMON|  70.0|             24|        0.0|             0.0|         1.0|             1.0|      0.0|              0.0|            0.0|      1.0|      0.0|   0.0|\n",
            "|0036-IHMOT|  55.0|             12|        1.0|             0.0|         0.0|             0.0|      2.0|              0.0|            1.0|      1.0|      1.0|   0.0|\n",
            "|0281-CNTZX|  63.0|             24|        0.0|             2.0|         2.0|             2.0|      0.0|              0.0|            0.0|      0.0|      0.0|   0.0|\n",
            "|0530-IJVDB|  70.0|             24|        1.0|             0.0|         0.0|             0.0|      0.0|              0.0|            0.0|      1.0|      1.0|   0.0|\n",
            "|7251-XFOIL|  61.0|              1|        0.0|             0.0|         1.0|             0.0|      1.0|              1.0|            0.0|      0.0|      0.0|   0.0|\n",
            "|7079-QRCBC|  24.0|              1|        0.0|             0.0|         0.0|             0.0|      1.0|              0.0|            0.0|      0.0|      1.0|   1.0|\n",
            "|2908-ZTPNF|  36.0|              1|        0.0|             1.0|         1.0|             1.0|      1.0|              0.0|            0.0|      0.0|      0.0|   0.0|\n",
            "|0640-YJTPY|  72.0|             24|        1.0|             2.0|         2.0|             2.0|      0.0|              1.0|            1.0|      0.0|      0.0|   0.0|\n",
            "+----------+------+---------------+-----------+----------------+------------+----------------+---------+-----------------+---------------+---------+---------+------+\n",
            "only showing top 20 rows\n",
            "\n"
          ]
        }
      ]
    },
    {
      "cell_type": "code",
      "source": [
        "all_features=['tenure','ContractInMonth','iDependents','iInternetService','iStreamingTV','iStreamingMovies','iContract','iPaperlessBilling','ihighDependents','iCautious','iFullTech']\n",
        "selectedFeatureDataset=selectedFeatureDataset.drop('AllFeatures')\n",
        "all_features_assembler = VectorAssembler(inputCols=all_features, outputCol='AllFeatures')\n",
        "af_transformed_datasetm3 = all_features_assembler.transform(selectedFeatureDataset)\n",
        "af_transformed_datasetm3.select(af_transformed_datasetm3[\"AllFeatures\"]).show(truncate=False)"
      ],
      "metadata": {
        "colab": {
          "base_uri": "https://localhost:8080/"
        },
        "id": "iVhabbolMXkF",
        "outputId": "5c57de75-0fb3-44d6-bb09-7e5eb6e3bf88"
      },
      "execution_count": 121,
      "outputs": [
        {
          "output_type": "stream",
          "name": "stdout",
          "text": [
            "+-----------------------------------------------+\n",
            "|AllFeatures                                    |\n",
            "+-----------------------------------------------+\n",
            "|(11,[0,1,6,10],[54.0,1.0,1.0,1.0])             |\n",
            "|(11,[0,1,5,7],[37.0,24.0,1.0,1.0])             |\n",
            "|(11,[0,1,3,5,7,9],[72.0,24.0,1.0,1.0,1.0,1.0]) |\n",
            "|(11,[0,1,3,4,5,6],[8.0,1.0,1.0,1.0,1.0,1.0])   |\n",
            "|[66.0,12.0,1.0,0.0,0.0,0.0,2.0,0.0,1.0,1.0,1.0]|\n",
            "|[72.0,24.0,1.0,0.0,0.0,0.0,0.0,1.0,1.0,1.0,1.0]|\n",
            "|[62.0,24.0,1.0,2.0,2.0,2.0,0.0,0.0,1.0,0.0,0.0]|\n",
            "|[68.0,24.0,1.0,1.0,0.0,0.0,0.0,1.0,1.0,1.0,0.0]|\n",
            "|(11,[0,1,3,4,5],[72.0,24.0,2.0,2.0,2.0])       |\n",
            "|[69.0,24.0,1.0,0.0,0.0,0.0,0.0,1.0,1.0,1.0,1.0]|\n",
            "|(11,[0,1,5,6],[34.0,1.0,1.0,1.0])              |\n",
            "|[52.0,24.0,1.0,2.0,2.0,2.0,0.0,1.0,1.0,0.0,0.0]|\n",
            "|(11,[0,1,4,5,9],[70.0,24.0,1.0,1.0,1.0])       |\n",
            "|[55.0,12.0,1.0,0.0,0.0,0.0,2.0,0.0,1.0,1.0,1.0]|\n",
            "|(11,[0,1,3,4,5],[63.0,24.0,2.0,2.0,2.0])       |\n",
            "|(11,[0,1,2,9,10],[70.0,24.0,1.0,1.0,1.0])      |\n",
            "|(11,[0,1,4,6,7],[61.0,1.0,1.0,1.0,1.0])        |\n",
            "|(11,[0,1,6,10],[24.0,1.0,1.0,1.0])             |\n",
            "|(11,[0,1,3,4,5,6],[36.0,1.0,1.0,1.0,1.0,1.0])  |\n",
            "|[72.0,24.0,1.0,2.0,2.0,2.0,0.0,1.0,1.0,0.0,0.0]|\n",
            "+-----------------------------------------------+\n",
            "only showing top 20 rows\n",
            "\n"
          ]
        }
      ]
    },
    {
      "cell_type": "code",
      "source": [
        "(training_data, test_data) = af_transformed_datasetm3.randomSplit([0.8,0.2])\n",
        "print('Training Dataset Count: ' , training_data.count())\n",
        "print('Training Dataset Count: ' , test_data.count())\n",
        "\n",
        "lrOnFE3=LogisticRegression(featuresCol='AllFeatures',labelCol='iLabel',maxIter=10)\n",
        "lrOnFE3Model=lrOnFE3.fit(training_data)\n",
        "FE3Predictions=lrOnFE3Model.transform(test_data)\n",
        "FE3Predictions.show()\n",
        "FE3Predictions.select(FE3Predictions[\"rawPrediction\"],FE3Predictions[\"probability\"],FE3Predictions[\"prediction\"]).show(truncate=False)"
      ],
      "metadata": {
        "colab": {
          "base_uri": "https://localhost:8080/"
        },
        "id": "0y_7cWsaNpge",
        "outputId": "dde134d2-b6c1-4f76-fec4-ed8168b461cf"
      },
      "execution_count": 122,
      "outputs": [
        {
          "output_type": "stream",
          "name": "stdout",
          "text": [
            "Training Dataset Count:  184131\n",
            "Training Dataset Count:  45859\n",
            "+----------+-----------------+---------------+-----------+----------------+------------+----------------+---------+-----------------+---------------+---------+---------+------+--------------------+--------------------+--------------------+----------+\n",
            "|customerID|           tenure|ContractInMonth|iDependents|iInternetService|iStreamingTV|iStreamingMovies|iContract|iPaperlessBilling|ihighDependents|iCautious|iFullTech|iLabel|         AllFeatures|       rawPrediction|         probability|prediction|\n",
            "+----------+-----------------+---------------+-----------+----------------+------------+----------------+---------+-----------------+---------------+---------+---------+------+--------------------+--------------------+--------------------+----------+\n",
            "|      null|              2.0|             24|        0.0|             1.0|         1.0|             1.0|      0.0|              1.0|            0.0|      0.0|      0.0|   1.0|(11,[0,1,3,4,5,7]...|[3.41002019041789...|[0.97025160839786...|       0.0|\n",
            "|      null|             10.0|             24|        0.0|             0.0|         0.0|             0.0|      0.0|              0.0|            0.0|      0.0|      1.0|   1.0|(11,[0,1,10],[10....|[2.90591076777292...|[0.86914458018703...|       0.0|\n",
            "|      null|             33.0|             24|        0.0|             0.0|         0.0|             0.0|      0.0|              0.0|            0.0|      1.0|      1.0|   0.0|(11,[0,1,9,10],[3...|[3.10363176138766...|[0.91957710917202...|       0.0|\n",
            "|      null|             33.0|             24|        0.0|             0.0|         0.0|             1.0|      0.0|              0.0|            0.0|      0.0|      0.0|   0.0|(11,[0,1,5],[33.0...|[3.06807946626142...|[0.91261285798003...|       0.0|\n",
            "|      null|             36.0|             24|        0.0|             1.0|         1.0|             0.0|      0.0|              0.0|            0.0|      0.0|      0.0|   0.0|(11,[0,1,3,4],[36...|[3.32802393757683...|[0.95838652157748...|       0.0|\n",
            "|      null|             37.0|              1|        0.0|             0.0|         0.0|             1.0|      1.0|              0.0|            0.0|      0.0|      0.0|   1.0|(11,[0,1,5,6],[37...|[2.34701434614584...|[0.55661581790377...|       0.0|\n",
            "|      null|             37.0|              1|        0.0|             0.0|         1.0|             1.0|      1.0|              0.0|            0.0|      1.0|      0.0|   1.0|(11,[0,1,4,5,6,9]...|[2.56890922948178...|[0.72079097746356...|       0.0|\n",
            "|      null|49.43501838835332|              1|        1.0|             1.0|         0.0|             0.0|      1.0|              0.0|            1.0|      1.0|      0.0|   1.0|[49.4350183883533...|[3.06831306211154...|[0.85144634670544...|       0.0|\n",
            "|      null|49.43501838835332|             12|        0.0|             1.0|         0.0|             0.0|      2.0|              0.0|            0.0|      0.0|      0.0|   0.0|(11,[0,1,3,6],[49...|[2.99670651431563...|[0.86623530212662...|       0.0|\n",
            "|      null|49.43501838835332|             24|        0.0|             1.0|         1.0|             0.0|      0.0|              1.0|            0.0|      0.0|      0.0|   0.0|(11,[0,1,3,4,7],[...|[3.42926595039899...|[0.96856219763305...|       0.0|\n",
            "|      null|49.43501838835332|             24|        0.0|             2.0|         0.0|             0.0|      0.0|              1.0|            0.0|      0.0|      0.0|   0.0|(11,[0,1,3,7],[49...|[3.61999405328559...|[0.98061553715258...|       0.0|\n",
            "|      null|49.43501838835332|             24|        0.0|             2.0|         2.0|             2.0|      0.0|              0.0|            0.0|      0.0|      0.0|   0.0|(11,[0,1,3,4,5],[...|[3.68861702932648...|[0.98846937378752...|       0.0|\n",
            "|      null|49.43501838835332|             24|        1.0|             0.0|         1.0|             1.0|      0.0|              0.0|            1.0|      0.0|      0.0|   0.0|(11,[0,1,2,4,5,8]...|[3.45886973225074...|[0.95585563876138...|       0.0|\n",
            "|      null|             56.0|             24|        1.0|             0.0|         0.0|             0.0|      0.0|              0.0|            1.0|      1.0|      1.0|   0.0|(11,[0,1,2,8,9,10...|[3.45320562140839...|[0.95019113330234...|       0.0|\n",
            "|      null|             64.0|             24|        0.0|             0.0|         2.0|             2.0|      0.0|              1.0|            0.0|      0.0|      0.0|   0.0|(11,[0,1,4,5,7],[...|[3.31352646093648...|[0.96592076258103...|       0.0|\n",
            "|      null|             67.0|             24|        0.0|             0.0|         1.0|             0.0|      0.0|              0.0|            0.0|      0.0|      0.0|   0.0|(11,[0,1,4],[67.0...|[3.12141765397023...|[0.92291964148905...|       0.0|\n",
            "|      null|             67.0|             24|        0.0|             1.0|         0.0|             1.0|      0.0|              1.0|            0.0|      1.0|      0.0|   0.0|(11,[0,1,3,5,7,9]...|[3.60326960318927...|[0.98015132305025...|       0.0|\n",
            "|      null|             67.0|             24|        0.0|             1.0|         1.0|             1.0|      0.0|              0.0|            0.0|      0.0|      0.0|   0.0|(11,[0,1,3,4,5],[...|[3.39011243860238...|[0.96807594365956...|       0.0|\n",
            "|      null|             71.0|             12|        0.0|             0.0|         0.0|             0.0|      2.0|              0.0|            0.0|      0.0|      0.0|   0.0|(11,[0,1,6],[71.0...|[2.78031645983769...|[0.76439885281618...|       0.0|\n",
            "|      null|             71.0|             12|        0.0|             0.0|         0.0|             0.0|      2.0|              0.0|            0.0|      1.0|      1.0|   0.0|(11,[0,1,6,9,10],...|[2.84581138360985...|[0.81245373609929...|       0.0|\n",
            "+----------+-----------------+---------------+-----------+----------------+------------+----------------+---------+-----------------+---------------+---------+---------+------+--------------------+--------------------+--------------------+----------+\n",
            "only showing top 20 rows\n",
            "\n",
            "+--------------------------------------------------------------+---------------------------------------------------------------+----------+\n",
            "|rawPrediction                                                 |probability                                                    |prediction|\n",
            "+--------------------------------------------------------------+---------------------------------------------------------------+----------+\n",
            "|[3.4100201904178977,-0.11554731033970711,-3.2944728800781906] |[0.9702516083978666,0.028559451360059614,0.0011889402420737522]|0.0       |\n",
            "|[2.9059107677729266,1.0051948510696713,-3.9111056188425977]   |[0.8691445801870308,0.12990372122141383,9.516985915554023E-4]  |0.0       |\n",
            "|[3.1036317613876645,0.6549778165322817,-3.7586095779199464]   |[0.9195771091720295,0.07946049306512848,9.62397762842054E-4]   |0.0       |\n",
            "|[3.0680794662614272,0.710957646318771,-3.7790371125801983]    |[0.9126128579800394,0.08641747720719754,9.696648127631793E-4]  |0.0       |\n",
            "|[3.3280239375768335,0.1657794160225956,-3.4938033535994295]   |[0.9583865215774813,0.04056909793717972,0.0010443804853392114] |0.0       |\n",
            "|[2.347014346145845,2.118193520036515,-4.46520786618236]       |[0.5566158179037708,0.44277176821274467,6.124138834845074E-4]  |0.0       |\n",
            "|[2.568909229481785,1.6175095800940766,-4.186418809575861]     |[0.7207909774635654,0.2783695477611583,8.394747752763039E-4]   |0.0       |\n",
            "|[3.0683130621115446,1.3190033980608935,-4.387316460172438]    |[0.8514463467054474,0.1480613661149985,4.922871795540697E-4]   |0.0       |\n",
            "|[2.996706514315638,1.1233640187995977,-4.120070533115236]     |[0.8662353021266262,0.13306185397626993,7.028438971038033E-4]  |0.0       |\n",
            "|[3.4292659503989986,-0.032541131045269456,-3.3967248193537287]|[0.9685621976330511,0.03038671845205463,0.001051083914894306]  |0.0       |\n",
            "|[3.619994053285595,-0.35696163145051374,-3.2630324218350815]  |[0.9806155371525855,0.01837929554420881,0.0010051673032054804] |0.0       |\n",
            "|[3.6886170293264824,-0.9046310985583248,-2.783985930768157]   |[0.9884693737875264,0.010003244913764366,0.0015273812987091741]|0.0       |\n",
            "|[3.4588697322507462,0.3687912762748482,-3.8276610085255935]   |[0.9558556387613826,0.04348988751690299,6.544737217144438E-4]  |0.0       |\n",
            "|[3.4532056214083964,0.4929992882240817,-3.946204909632478]    |[0.9501911333023465,0.04922771727522354,5.811494224298124E-4]  |0.0       |\n",
            "|[3.3135264609364867,-0.07203427154029196,-3.2414921893961943] |[0.9659207625810359,0.03270477435735983,0.0013744630616042805] |0.0       |\n",
            "|[3.1214176539702305,0.6261996952969135,-3.747617349267144]    |[0.9229196414890537,0.07612100230168231,9.593562092639302E-4]  |0.0       |\n",
            "|[3.6032696031892737,-0.34965686499499027,-3.253612738194284]  |[0.9801513230502501,0.01881737232199032,0.0010313046277595165] |0.0       |\n",
            "|[3.390112438602385,-0.05906793025632773,-3.3310445083460576]  |[0.9680759436595633,0.030757386276878317,0.0011666700635584281]|0.0       |\n",
            "|[2.780316459837697,1.6008464986856108,-4.381162958523308]     |[0.7643988528161894,0.23500804566940042,5.931015144102433E-4]  |0.0       |\n",
            "|[2.845811383609852,1.3760794379471037,-4.221890821556956]     |[0.8124537360992911,0.1868538997502376,6.923641504713476E-4]   |0.0       |\n",
            "+--------------------------------------------------------------+---------------------------------------------------------------+----------+\n",
            "only showing top 20 rows\n",
            "\n"
          ]
        }
      ]
    },
    {
      "cell_type": "code",
      "source": [
        "FE3accuracy = FE3Predictions.filter(FE3Predictions.iLabel == FE3Predictions.prediction).count() / float(FE3Predictions.count())\n",
        "print(\"Accuracy : \",FE3accuracy)"
      ],
      "metadata": {
        "colab": {
          "base_uri": "https://localhost:8080/"
        },
        "id": "C08e_qYDOA3M",
        "outputId": "9b8ebb9c-f528-4e68-d232-560b60741677"
      },
      "execution_count": 123,
      "outputs": [
        {
          "output_type": "stream",
          "name": "stdout",
          "text": [
            "Accuracy :  0.8554918336640572\n"
          ]
        }
      ]
    },
    {
      "cell_type": "markdown",
      "source": [
        "**Method 4:**"
      ],
      "metadata": {
        "id": "GGEJ-ZnGOuWU"
      }
    },
    {
      "cell_type": "code",
      "source": [
        "raw_data_withoutMV.show()\n",
        "from pyspark.ml.feature import StringIndexer\n",
        "all_cat_col_list=['gender','Partner','Dependents','PhoneService','MultipleLines','InternetService','OnlineSecurity','OnlineBackup','DeviceProtection','TechSupport','StreamingTV','StreamingMovies','Contract','PaperlessBilling','PaymentMethod','Label']\n",
        "for col in all_cat_col_list:\n",
        "  outCol='i'+col\n",
        "  raw_data_withoutMV=raw_data_withoutMV.drop(outCol)\n",
        "  raw_data_withoutMV = StringIndexer(inputCol=col,outputCol=outCol,handleInvalid='keep').fit(raw_data_withoutMV).transform(raw_data_withoutMV)\n",
        "\n",
        "raw_data_withoutMV.show()"
      ],
      "metadata": {
        "colab": {
          "base_uri": "https://localhost:8080/"
        },
        "id": "aB6qlOtNOx-2",
        "outputId": "07c6f9ca-a011-4004-e5a4-fcc12e424488"
      },
      "execution_count": 120,
      "outputs": [
        {
          "output_type": "stream",
          "name": "stdout",
          "text": [
            "+----------+------+-------------+-------+----------+------+------------+----------------+---------------+-------------------+-------------------+-------------------+-------------------+-------------------+-------------------+--------------+----------------+--------------------+--------------+------------+-----+-------+--------+-----------+-------------+--------------+----------------+---------------+-------------+-----------------+------------+------------+----------------+---------+-----------------+--------------+\n",
            "|customerID|gender|SeniorCitizen|Partner|Dependents|tenure|PhoneService|   MultipleLines|InternetService|     OnlineSecurity|       OnlineBackup|   DeviceProtection|        TechSupport|        StreamingTV|    StreamingMovies|      Contract|PaperlessBilling|       PaymentMethod|MonthlyCharges|TotalCharges|Label|igender|iPartner|iDependents|iPhoneService|iMultipleLines|iInternetService|iOnlineSecurity|iOnlineBackup|iDeviceProtection|iTechSupport|iStreamingTV|iStreamingMovies|iContract|iPaperlessBilling|iPaymentMethod|\n",
            "+----------+------+-------------+-------+----------+------+------------+----------------+---------------+-------------------+-------------------+-------------------+-------------------+-------------------+-------------------+--------------+----------------+--------------------+--------------+------------+-----+-------+--------+-----------+-------------+--------------+----------------+---------------+-------------+-----------------+------------+------------+----------------+---------+-----------------+--------------+\n",
            "|5331-RGMTT|  Male|          1.0|    Yes|        No|  54.0|         Yes|             Yes|    Fiber optic|                 No|                 No|                Yes|                 No|                Yes|                Yes|Month-to-month|             Yes|Credit card (auto...|         99.05|      5295.7|   No|    0.0|     0.0|        0.0|          0.0|           0.0|             0.0|            1.0|          1.0|              0.0|         1.0|         0.0|             0.0|      1.0|              0.0|           1.0|\n",
            "|5161-XEUVX|  Male|          0.0|    Yes|        No|  37.0|         Yes|             Yes|    Fiber optic|                 No|                 No|                Yes|                Yes|                Yes|                 No|      Two year|              No|        Mailed check|          94.3|     3460.95|   No|    0.0|     0.0|        0.0|          0.0|           0.0|             0.0|            1.0|          1.0|              0.0|         0.0|         0.0|             1.0|      0.0|              1.0|           3.0|\n",
            "|0336-PIKEI|  Male|          1.0|    Yes|        No|  72.0|         Yes|              No|            DSL|                Yes|                Yes|                Yes|                Yes|                Yes|                 No|      Two year|              No|Bank transfer (au...|          74.4|     5360.75|   No|    0.0|     0.0|        0.0|          0.0|           1.0|             1.0|            0.0|          0.0|              0.0|         0.0|         0.0|             1.0|      0.0|              1.0|           0.0|\n",
            "|3345-PBBFH|  Male|          0.0|    Yes|        No|   8.0|         Yes|              No|            DSL|                 No|                Yes|                 No|                 No|                 No|                 No|Month-to-month|             Yes|Bank transfer (au...|         49.55|      393.45|   No|    0.0|     0.0|        0.0|          0.0|           1.0|             1.0|            1.0|          0.0|              1.0|         1.0|         1.0|             1.0|      1.0|              0.0|           0.0|\n",
            "|5067-XJQFU|  Male|          1.0|    Yes|       Yes|  66.0|         Yes|             Yes|    Fiber optic|                 No|                Yes|                Yes|                Yes|                Yes|                Yes|      One year|             Yes|    Electronic check|        108.45|     7076.35|   No|    0.0|     0.0|        1.0|          0.0|           0.0|             0.0|            1.0|          0.0|              0.0|         0.0|         0.0|             0.0|      2.0|              0.0|           2.0|\n",
            "|4056-QHXHZ|Female|          0.0|    Yes|       Yes|  72.0|         Yes|             Yes|    Fiber optic|                Yes|                 No|                Yes|                Yes|                Yes|                Yes|      Two year|              No|        Mailed check|        107.45|      7576.7|   No|    1.0|     0.0|        1.0|          0.0|           0.0|             0.0|            0.0|          1.0|              0.0|         0.0|         0.0|             0.0|      0.0|              1.0|           3.0|\n",
            "|8028-PNXHQ|  Male|          0.0|    Yes|       Yes|  62.0|         Yes|             Yes|             No|No internet service|No internet service|No internet service|No internet service|No internet service|No internet service|      Two year|             Yes|Bank transfer (au...|         24.25|      1424.6|   No|    0.0|     0.0|        1.0|          0.0|           0.0|             2.0|            2.0|          2.0|              2.0|         2.0|         2.0|             2.0|      0.0|              0.0|           0.0|\n",
            "|8181-YHCMF|Female|          0.0|    Yes|       Yes|  68.0|          No|No phone service|            DSL|                 No|                Yes|                Yes|                Yes|                Yes|                Yes|      Two year|              No|Credit card (auto...|          60.3|      4109.0|   No|    1.0|     0.0|        1.0|          1.0|           2.0|             1.0|            1.0|          0.0|              0.0|         0.0|         0.0|             0.0|      0.0|              1.0|           1.0|\n",
            "|6734-PSBAW|  Male|          0.0|    Yes|        No|  72.0|         Yes|             Yes|             No|No internet service|No internet service|No internet service|No internet service|No internet service|No internet service|      Two year|             Yes|Bank transfer (au...|         23.55|     1723.95|   No|    0.0|     0.0|        0.0|          0.0|           0.0|             2.0|            2.0|          2.0|              2.0|         2.0|         2.0|             2.0|      0.0|              0.0|           0.0|\n",
            "|3655-SNQYZ|Female|          0.0|    Yes|       Yes|  69.0|         Yes|             Yes|    Fiber optic|                Yes|                Yes|                Yes|                Yes|                Yes|                Yes|      Two year|              No|Credit card (auto...|        113.25|     7895.15|   No|    1.0|     0.0|        1.0|          0.0|           0.0|             0.0|            0.0|          0.0|              0.0|         0.0|         0.0|             0.0|      0.0|              1.0|           1.0|\n",
            "|9508-ILZDG|Female|          1.0|     No|        No|  34.0|         Yes|             Yes|    Fiber optic|                 No|                Yes|                 No|                Yes|                Yes|                 No|Month-to-month|             Yes|    Electronic check|         96.35|     3190.25|   No|    1.0|     1.0|        0.0|          0.0|           0.0|             0.0|            1.0|          0.0|              1.0|         0.0|         0.0|             1.0|      1.0|              0.0|           2.0|\n",
            "|3620-EHIMZ|Female|          0.0|    Yes|       Yes|  52.0|         Yes|              No|             No|No internet service|No internet service|No internet service|No internet service|No internet service|No internet service|      Two year|              No|        Mailed check|         19.35|      1031.7|   No|    1.0|     0.0|        1.0|          0.0|           1.0|             2.0|            2.0|          2.0|              2.0|         2.0|         2.0|             2.0|      0.0|              1.0|           3.0|\n",
            "|4178-EGMON|  Male|          0.0|    Yes|        No|  70.0|         Yes|             Yes|    Fiber optic|                Yes|                Yes|                 No|                Yes|                 No|                 No|      Two year|             Yes|Credit card (auto...|          88.0|     5986.45|   No|    0.0|     0.0|        0.0|          0.0|           0.0|             0.0|            0.0|          0.0|              1.0|         0.0|         1.0|             1.0|      0.0|              0.0|           1.0|\n",
            "|0036-IHMOT|Female|          0.0|    Yes|       Yes|  55.0|         Yes|              No|    Fiber optic|                 No|                Yes|                Yes|                Yes|                Yes|                Yes|      One year|             Yes|Bank transfer (au...|         103.7|     5656.75|   No|    1.0|     0.0|        1.0|          0.0|           1.0|             0.0|            1.0|          0.0|              0.0|         0.0|         0.0|             0.0|      2.0|              0.0|           0.0|\n",
            "|0281-CNTZX|  Male|          0.0|    Yes|        No|  63.0|         Yes|              No|             No|No internet service|No internet service|No internet service|No internet service|No internet service|No internet service|      Two year|             Yes|Bank transfer (au...|         19.95|      1234.8|   No|    0.0|     0.0|        0.0|          0.0|           1.0|             2.0|            2.0|          2.0|              2.0|         2.0|         2.0|             2.0|      0.0|              0.0|           0.0|\n",
            "|0530-IJVDB|  Male|          0.0|     No|       Yes|  70.0|         Yes|             Yes|    Fiber optic|                Yes|                Yes|                Yes|                Yes|                Yes|                Yes|      Two year|             Yes|    Electronic check|         114.6|      7882.5|   No|    0.0|     1.0|        1.0|          0.0|           0.0|             0.0|            0.0|          0.0|              0.0|         0.0|         0.0|             0.0|      0.0|              0.0|           2.0|\n",
            "|7251-XFOIL|Female|          0.0|     No|        No|  61.0|         Yes|             Yes|    Fiber optic|                 No|                 No|                Yes|                 No|                 No|                Yes|Month-to-month|              No|        Mailed check|          89.2|      5500.6|   No|    1.0|     1.0|        0.0|          0.0|           0.0|             0.0|            1.0|          1.0|              0.0|         1.0|         1.0|             0.0|      1.0|              1.0|           3.0|\n",
            "|7079-QRCBC|Female|          0.0|     No|        No|  24.0|         Yes|             Yes|    Fiber optic|                 No|                 No|                Yes|                 No|                Yes|                Yes|Month-to-month|             Yes|    Electronic check|         98.75|      2407.3|  Yes|    1.0|     1.0|        0.0|          0.0|           0.0|             0.0|            1.0|          1.0|              0.0|         1.0|         0.0|             0.0|      1.0|              0.0|           2.0|\n",
            "|2908-ZTPNF|Female|          0.0|     No|        No|  36.0|          No|No phone service|            DSL|                 No|                Yes|                 No|                Yes|                 No|                 No|Month-to-month|             Yes|Bank transfer (au...|         34.85|      1267.2|   No|    1.0|     1.0|        0.0|          1.0|           2.0|             1.0|            1.0|          0.0|              1.0|         0.0|         1.0|             1.0|      1.0|              0.0|           0.0|\n",
            "|0640-YJTPY|  Male|          0.0|    Yes|       Yes|  72.0|         Yes|              No|             No|No internet service|No internet service|No internet service|No internet service|No internet service|No internet service|      Two year|              No|Bank transfer (au...|          21.0|     1493.75|   No|    0.0|     0.0|        1.0|          0.0|           1.0|             2.0|            2.0|          2.0|              2.0|         2.0|         2.0|             2.0|      0.0|              1.0|           0.0|\n",
            "+----------+------+-------------+-------+----------+------+------------+----------------+---------------+-------------------+-------------------+-------------------+-------------------+-------------------+-------------------+--------------+----------------+--------------------+--------------+------------+-----+-------+--------+-----------+-------------+--------------+----------------+---------------+-------------+-----------------+------------+------------+----------------+---------+-----------------+--------------+\n",
            "only showing top 20 rows\n",
            "\n",
            "+----------+------+-------------+-------+----------+------+------------+----------------+---------------+-------------------+-------------------+-------------------+-------------------+-------------------+-------------------+--------------+----------------+--------------------+--------------+------------+-----+-------+--------+-----------+-------------+--------------+----------------+---------------+-------------+-----------------+------------+------------+----------------+---------+-----------------+--------------+------+\n",
            "|customerID|gender|SeniorCitizen|Partner|Dependents|tenure|PhoneService|   MultipleLines|InternetService|     OnlineSecurity|       OnlineBackup|   DeviceProtection|        TechSupport|        StreamingTV|    StreamingMovies|      Contract|PaperlessBilling|       PaymentMethod|MonthlyCharges|TotalCharges|Label|igender|iPartner|iDependents|iPhoneService|iMultipleLines|iInternetService|iOnlineSecurity|iOnlineBackup|iDeviceProtection|iTechSupport|iStreamingTV|iStreamingMovies|iContract|iPaperlessBilling|iPaymentMethod|iLabel|\n",
            "+----------+------+-------------+-------+----------+------+------------+----------------+---------------+-------------------+-------------------+-------------------+-------------------+-------------------+-------------------+--------------+----------------+--------------------+--------------+------------+-----+-------+--------+-----------+-------------+--------------+----------------+---------------+-------------+-----------------+------------+------------+----------------+---------+-----------------+--------------+------+\n",
            "|5331-RGMTT|  Male|          1.0|    Yes|        No|  54.0|         Yes|             Yes|    Fiber optic|                 No|                 No|                Yes|                 No|                Yes|                Yes|Month-to-month|             Yes|Credit card (auto...|         99.05|      5295.7|   No|    0.0|     0.0|        0.0|          0.0|           0.0|             0.0|            1.0|          1.0|              0.0|         1.0|         0.0|             0.0|      1.0|              0.0|           1.0|   0.0|\n",
            "|5161-XEUVX|  Male|          0.0|    Yes|        No|  37.0|         Yes|             Yes|    Fiber optic|                 No|                 No|                Yes|                Yes|                Yes|                 No|      Two year|              No|        Mailed check|          94.3|     3460.95|   No|    0.0|     0.0|        0.0|          0.0|           0.0|             0.0|            1.0|          1.0|              0.0|         0.0|         0.0|             1.0|      0.0|              1.0|           3.0|   0.0|\n",
            "|0336-PIKEI|  Male|          1.0|    Yes|        No|  72.0|         Yes|              No|            DSL|                Yes|                Yes|                Yes|                Yes|                Yes|                 No|      Two year|              No|Bank transfer (au...|          74.4|     5360.75|   No|    0.0|     0.0|        0.0|          0.0|           1.0|             1.0|            0.0|          0.0|              0.0|         0.0|         0.0|             1.0|      0.0|              1.0|           0.0|   0.0|\n",
            "|3345-PBBFH|  Male|          0.0|    Yes|        No|   8.0|         Yes|              No|            DSL|                 No|                Yes|                 No|                 No|                 No|                 No|Month-to-month|             Yes|Bank transfer (au...|         49.55|      393.45|   No|    0.0|     0.0|        0.0|          0.0|           1.0|             1.0|            1.0|          0.0|              1.0|         1.0|         1.0|             1.0|      1.0|              0.0|           0.0|   0.0|\n",
            "|5067-XJQFU|  Male|          1.0|    Yes|       Yes|  66.0|         Yes|             Yes|    Fiber optic|                 No|                Yes|                Yes|                Yes|                Yes|                Yes|      One year|             Yes|    Electronic check|        108.45|     7076.35|   No|    0.0|     0.0|        1.0|          0.0|           0.0|             0.0|            1.0|          0.0|              0.0|         0.0|         0.0|             0.0|      2.0|              0.0|           2.0|   0.0|\n",
            "|4056-QHXHZ|Female|          0.0|    Yes|       Yes|  72.0|         Yes|             Yes|    Fiber optic|                Yes|                 No|                Yes|                Yes|                Yes|                Yes|      Two year|              No|        Mailed check|        107.45|      7576.7|   No|    1.0|     0.0|        1.0|          0.0|           0.0|             0.0|            0.0|          1.0|              0.0|         0.0|         0.0|             0.0|      0.0|              1.0|           3.0|   0.0|\n",
            "|8028-PNXHQ|  Male|          0.0|    Yes|       Yes|  62.0|         Yes|             Yes|             No|No internet service|No internet service|No internet service|No internet service|No internet service|No internet service|      Two year|             Yes|Bank transfer (au...|         24.25|      1424.6|   No|    0.0|     0.0|        1.0|          0.0|           0.0|             2.0|            2.0|          2.0|              2.0|         2.0|         2.0|             2.0|      0.0|              0.0|           0.0|   0.0|\n",
            "|8181-YHCMF|Female|          0.0|    Yes|       Yes|  68.0|          No|No phone service|            DSL|                 No|                Yes|                Yes|                Yes|                Yes|                Yes|      Two year|              No|Credit card (auto...|          60.3|      4109.0|   No|    1.0|     0.0|        1.0|          1.0|           2.0|             1.0|            1.0|          0.0|              0.0|         0.0|         0.0|             0.0|      0.0|              1.0|           1.0|   0.0|\n",
            "|6734-PSBAW|  Male|          0.0|    Yes|        No|  72.0|         Yes|             Yes|             No|No internet service|No internet service|No internet service|No internet service|No internet service|No internet service|      Two year|             Yes|Bank transfer (au...|         23.55|     1723.95|   No|    0.0|     0.0|        0.0|          0.0|           0.0|             2.0|            2.0|          2.0|              2.0|         2.0|         2.0|             2.0|      0.0|              0.0|           0.0|   0.0|\n",
            "|3655-SNQYZ|Female|          0.0|    Yes|       Yes|  69.0|         Yes|             Yes|    Fiber optic|                Yes|                Yes|                Yes|                Yes|                Yes|                Yes|      Two year|              No|Credit card (auto...|        113.25|     7895.15|   No|    1.0|     0.0|        1.0|          0.0|           0.0|             0.0|            0.0|          0.0|              0.0|         0.0|         0.0|             0.0|      0.0|              1.0|           1.0|   0.0|\n",
            "|9508-ILZDG|Female|          1.0|     No|        No|  34.0|         Yes|             Yes|    Fiber optic|                 No|                Yes|                 No|                Yes|                Yes|                 No|Month-to-month|             Yes|    Electronic check|         96.35|     3190.25|   No|    1.0|     1.0|        0.0|          0.0|           0.0|             0.0|            1.0|          0.0|              1.0|         0.0|         0.0|             1.0|      1.0|              0.0|           2.0|   0.0|\n",
            "|3620-EHIMZ|Female|          0.0|    Yes|       Yes|  52.0|         Yes|              No|             No|No internet service|No internet service|No internet service|No internet service|No internet service|No internet service|      Two year|              No|        Mailed check|         19.35|      1031.7|   No|    1.0|     0.0|        1.0|          0.0|           1.0|             2.0|            2.0|          2.0|              2.0|         2.0|         2.0|             2.0|      0.0|              1.0|           3.0|   0.0|\n",
            "|4178-EGMON|  Male|          0.0|    Yes|        No|  70.0|         Yes|             Yes|    Fiber optic|                Yes|                Yes|                 No|                Yes|                 No|                 No|      Two year|             Yes|Credit card (auto...|          88.0|     5986.45|   No|    0.0|     0.0|        0.0|          0.0|           0.0|             0.0|            0.0|          0.0|              1.0|         0.0|         1.0|             1.0|      0.0|              0.0|           1.0|   0.0|\n",
            "|0036-IHMOT|Female|          0.0|    Yes|       Yes|  55.0|         Yes|              No|    Fiber optic|                 No|                Yes|                Yes|                Yes|                Yes|                Yes|      One year|             Yes|Bank transfer (au...|         103.7|     5656.75|   No|    1.0|     0.0|        1.0|          0.0|           1.0|             0.0|            1.0|          0.0|              0.0|         0.0|         0.0|             0.0|      2.0|              0.0|           0.0|   0.0|\n",
            "|0281-CNTZX|  Male|          0.0|    Yes|        No|  63.0|         Yes|              No|             No|No internet service|No internet service|No internet service|No internet service|No internet service|No internet service|      Two year|             Yes|Bank transfer (au...|         19.95|      1234.8|   No|    0.0|     0.0|        0.0|          0.0|           1.0|             2.0|            2.0|          2.0|              2.0|         2.0|         2.0|             2.0|      0.0|              0.0|           0.0|   0.0|\n",
            "|0530-IJVDB|  Male|          0.0|     No|       Yes|  70.0|         Yes|             Yes|    Fiber optic|                Yes|                Yes|                Yes|                Yes|                Yes|                Yes|      Two year|             Yes|    Electronic check|         114.6|      7882.5|   No|    0.0|     1.0|        1.0|          0.0|           0.0|             0.0|            0.0|          0.0|              0.0|         0.0|         0.0|             0.0|      0.0|              0.0|           2.0|   0.0|\n",
            "|7251-XFOIL|Female|          0.0|     No|        No|  61.0|         Yes|             Yes|    Fiber optic|                 No|                 No|                Yes|                 No|                 No|                Yes|Month-to-month|              No|        Mailed check|          89.2|      5500.6|   No|    1.0|     1.0|        0.0|          0.0|           0.0|             0.0|            1.0|          1.0|              0.0|         1.0|         1.0|             0.0|      1.0|              1.0|           3.0|   0.0|\n",
            "|7079-QRCBC|Female|          0.0|     No|        No|  24.0|         Yes|             Yes|    Fiber optic|                 No|                 No|                Yes|                 No|                Yes|                Yes|Month-to-month|             Yes|    Electronic check|         98.75|      2407.3|  Yes|    1.0|     1.0|        0.0|          0.0|           0.0|             0.0|            1.0|          1.0|              0.0|         1.0|         0.0|             0.0|      1.0|              0.0|           2.0|   1.0|\n",
            "|2908-ZTPNF|Female|          0.0|     No|        No|  36.0|          No|No phone service|            DSL|                 No|                Yes|                 No|                Yes|                 No|                 No|Month-to-month|             Yes|Bank transfer (au...|         34.85|      1267.2|   No|    1.0|     1.0|        0.0|          1.0|           2.0|             1.0|            1.0|          0.0|              1.0|         0.0|         1.0|             1.0|      1.0|              0.0|           0.0|   0.0|\n",
            "|0640-YJTPY|  Male|          0.0|    Yes|       Yes|  72.0|         Yes|              No|             No|No internet service|No internet service|No internet service|No internet service|No internet service|No internet service|      Two year|              No|Bank transfer (au...|          21.0|     1493.75|   No|    0.0|     0.0|        1.0|          0.0|           1.0|             2.0|            2.0|          2.0|              2.0|         2.0|         2.0|             2.0|      0.0|              1.0|           0.0|   0.0|\n",
            "+----------+------+-------------+-------+----------+------+------------+----------------+---------------+-------------------+-------------------+-------------------+-------------------+-------------------+-------------------+--------------+----------------+--------------------+--------------+------------+-----+-------+--------+-----------+-------------+--------------+----------------+---------------+-------------+-----------------+------------+------------+----------------+---------+-----------------+--------------+------+\n",
            "only showing top 20 rows\n",
            "\n"
          ]
        }
      ]
    },
    {
      "cell_type": "code",
      "source": [
        "all_features=['SeniorCitizen','tenure','MonthlyCharges','TotalCharges','igender','iPartner','iDependents','iPhoneService','iMultipleLines','iInternetService','iOnlineSecurity','iOnlineBackup','iDeviceProtection','iTechSupport','iStreamingTV','iStreamingMovies','iContract','iPaperlessBilling','iPaymentMethod']\n",
        "all_features_assembler = VectorAssembler(inputCols=all_features, outputCol='AllFeatures')\n",
        "af_transformed_datasetm4 = all_features_assembler.transform(raw_data_withoutMV)\n",
        "af_transformed_datasetm4.select(af_transformed_datasetm4[\"AllFeatures\"]).show(truncate=False)"
      ],
      "metadata": {
        "colab": {
          "base_uri": "https://localhost:8080/"
        },
        "id": "GXDQbTscQzAV",
        "outputId": "a99002fc-dffb-4fcc-a4c0-657b0139d224"
      },
      "execution_count": 125,
      "outputs": [
        {
          "output_type": "stream",
          "name": "stdout",
          "text": [
            "+--------------------------------------------------------------------------------------+\n",
            "|AllFeatures                                                                           |\n",
            "+--------------------------------------------------------------------------------------+\n",
            "|(19,[0,1,2,3,10,11,13,16,18],[1.0,54.0,99.05,5295.7,1.0,1.0,1.0,1.0,1.0])             |\n",
            "|(19,[1,2,3,10,11,15,17,18],[37.0,94.3,3460.95,1.0,1.0,1.0,1.0,3.0])                   |\n",
            "|(19,[0,1,2,3,8,9,15,17],[1.0,72.0,74.4,5360.75,1.0,1.0,1.0,1.0])                      |\n",
            "|(19,[1,2,3,8,9,10,12,13,14,15,16],[8.0,49.55,393.45,1.0,1.0,1.0,1.0,1.0,1.0,1.0,1.0]) |\n",
            "|(19,[0,1,2,3,6,10,16,18],[1.0,66.0,108.45,7076.35,1.0,1.0,2.0,2.0])                   |\n",
            "|(19,[1,2,3,4,6,11,17,18],[72.0,107.45,7576.7,1.0,1.0,1.0,1.0,3.0])                    |\n",
            "|(19,[1,2,3,6,9,10,11,12,13,14,15],[62.0,24.25,1424.6,1.0,2.0,2.0,2.0,2.0,2.0,2.0,2.0])|\n",
            "|(19,[1,2,3,4,6,7,8,9,10,17,18],[68.0,60.3,4109.0,1.0,1.0,1.0,2.0,1.0,1.0,1.0,1.0])    |\n",
            "|(19,[1,2,3,9,10,11,12,13,14,15],[72.0,23.55,1723.95,2.0,2.0,2.0,2.0,2.0,2.0,2.0])     |\n",
            "|(19,[1,2,3,4,6,17,18],[69.0,113.25,7895.15,1.0,1.0,1.0,1.0])                          |\n",
            "|(19,[0,1,2,3,4,5,10,12,15,16,18],[1.0,34.0,96.35,3190.25,1.0,1.0,1.0,1.0,1.0,1.0,2.0])|\n",
            "|[0.0,52.0,19.35,1031.7,1.0,0.0,1.0,0.0,1.0,2.0,2.0,2.0,2.0,2.0,2.0,2.0,0.0,1.0,3.0]   |\n",
            "|(19,[1,2,3,12,14,15,18],[70.0,88.0,5986.45,1.0,1.0,1.0,1.0])                          |\n",
            "|(19,[1,2,3,4,6,8,10,16],[55.0,103.7,5656.75,1.0,1.0,1.0,1.0,2.0])                     |\n",
            "|(19,[1,2,3,8,9,10,11,12,13,14,15],[63.0,19.95,1234.8,1.0,2.0,2.0,2.0,2.0,2.0,2.0,2.0])|\n",
            "|(19,[1,2,3,5,6,18],[70.0,114.6,7882.5,1.0,1.0,2.0])                                   |\n",
            "|[0.0,61.0,89.2,5500.6,1.0,1.0,0.0,0.0,0.0,0.0,1.0,1.0,0.0,1.0,1.0,0.0,1.0,1.0,3.0]    |\n",
            "|(19,[1,2,3,4,5,10,11,13,16,18],[24.0,98.75,2407.3,1.0,1.0,1.0,1.0,1.0,1.0,2.0])       |\n",
            "|[0.0,36.0,34.85,1267.2,1.0,1.0,0.0,1.0,2.0,1.0,1.0,0.0,1.0,0.0,1.0,1.0,1.0,0.0,0.0]   |\n",
            "|[0.0,72.0,21.0,1493.75,0.0,0.0,1.0,0.0,1.0,2.0,2.0,2.0,2.0,2.0,2.0,2.0,0.0,1.0,0.0]   |\n",
            "+--------------------------------------------------------------------------------------+\n",
            "only showing top 20 rows\n",
            "\n"
          ]
        }
      ]
    },
    {
      "cell_type": "code",
      "source": [
        "(training_data, test_data) = af_transformed_datasetm4.randomSplit([0.8,0.2])\n",
        "print('Training Dataset Count: ' , training_data.count())\n",
        "print('Training Dataset Count: ' , test_data.count())\n",
        "\n",
        "lrOnFE4=LogisticRegression(featuresCol='AllFeatures',labelCol='iLabel',maxIter=10)\n",
        "lrOnFE4Model=lrOnFE4.fit(training_data)\n",
        "FE4Predictions=lrOnFE4Model.transform(test_data)\n",
        "FE4Predictions.show()\n",
        "FE4Predictions.select(FE4Predictions[\"rawPrediction\"],FE4Predictions[\"probability\"],FE4Predictions[\"prediction\"]).show(truncate=False)"
      ],
      "metadata": {
        "colab": {
          "base_uri": "https://localhost:8080/"
        },
        "id": "mbdiRy0gTgpv",
        "outputId": "6a295f9d-5457-4d12-eda8-6136f873d730"
      },
      "execution_count": 126,
      "outputs": [
        {
          "output_type": "stream",
          "name": "stdout",
          "text": [
            "Training Dataset Count:  183273\n",
            "Training Dataset Count:  45917\n",
            "+----------+------+-------------+-------+----------+------+------------+-------------+---------------+--------------+------------+----------------+-----------+-----------+---------------+--------------+----------------+--------------------+--------------+------------+-----+-------+--------+-----------+-------------+--------------+----------------+---------------+-------------+-----------------+------------+------------+----------------+---------+-----------------+--------------+------+--------------------+--------------------+--------------------+----------+\n",
            "|customerID|gender|SeniorCitizen|Partner|Dependents|tenure|PhoneService|MultipleLines|InternetService|OnlineSecurity|OnlineBackup|DeviceProtection|TechSupport|StreamingTV|StreamingMovies|      Contract|PaperlessBilling|       PaymentMethod|MonthlyCharges|TotalCharges|Label|igender|iPartner|iDependents|iPhoneService|iMultipleLines|iInternetService|iOnlineSecurity|iOnlineBackup|iDeviceProtection|iTechSupport|iStreamingTV|iStreamingMovies|iContract|iPaperlessBilling|iPaymentMethod|iLabel|         AllFeatures|       rawPrediction|         probability|prediction|\n",
            "+----------+------+-------------+-------+----------+------+------------+-------------+---------------+--------------+------------+----------------+-----------+-----------+---------------+--------------+----------------+--------------------+--------------+------------+-----+-------+--------+-----------+-------------+--------------+----------------+---------------+-------------+-----------------+------------+------------+----------------+---------+-----------------+--------------+------+--------------------+--------------------+--------------------+----------+\n",
            "|0003-MKNFE|  Male|          0.0|     No|        No|   9.0|         Yes|          Yes|            DSL|            No|          No|              No|         No|         No|            Yes|Month-to-month|              No|        Mailed check|          59.9|       542.4|   No|    0.0|     1.0|        0.0|          0.0|           0.0|             1.0|            1.0|          1.0|              1.0|         1.0|         1.0|             0.0|      1.0|              1.0|           3.0|   0.0|[0.0,9.0,59.9,542...|[2.12538045270129...|[0.66583972020947...|       0.0|\n",
            "|0003-MKNFE|  Male|          0.0|     No|        No|   9.0|         Yes|          Yes|            DSL|            No|          No|              No|         No|         No|            Yes|Month-to-month|              No|        Mailed check|          59.9|       542.4|   No|    0.0|     1.0|        0.0|          0.0|           0.0|             1.0|            1.0|          1.0|              1.0|         1.0|         1.0|             0.0|      1.0|              1.0|           3.0|   0.0|[0.0,9.0,59.9,542...|[2.12538045270129...|[0.66583972020947...|       0.0|\n",
            "|0011-IGKFF|  Male|          1.0|    Yes|        No|  13.0|         Yes|           No|    Fiber optic|            No|         Yes|             Yes|         No|        Yes|            Yes|Month-to-month|             Yes|    Electronic check|          98.0|     1237.85|  Yes|    0.0|     0.0|        0.0|          0.0|           1.0|             0.0|            1.0|          0.0|              0.0|         1.0|         0.0|             0.0|      1.0|              0.0|           2.0|   1.0|(19,[0,1,2,3,8,10...|[1.46078105068313...|[0.28815378242906...|       1.0|\n",
            "|0013-EXCHZ|Female|          1.0|    Yes|        No|   3.0|         Yes|           No|    Fiber optic|            No|          No|              No|        Yes|        Yes|             No|Month-to-month|             Yes|        Mailed check|          83.9|       267.4|  Yes|    1.0|     0.0|        0.0|          0.0|           1.0|             0.0|            1.0|          1.0|              1.0|         0.0|         0.0|             1.0|      1.0|              0.0|           3.0|   1.0|[1.0,3.0,83.9,267...|[1.61208498366220...|[0.36203129751835...|       1.0|\n",
            "|0013-EXCHZ|Female|          1.0|    Yes|        No|   3.0|         Yes|           No|    Fiber optic|            No|          No|              No|        Yes|        Yes|             No|Month-to-month|             Yes|        Mailed check|          83.9|       267.4|  Yes|    1.0|     0.0|        0.0|          0.0|           1.0|             0.0|            1.0|          1.0|              1.0|         0.0|         0.0|             1.0|      1.0|              0.0|           3.0|   1.0|[1.0,3.0,83.9,267...|[1.61208498366220...|[0.36203129751835...|       1.0|\n",
            "|0013-MHZWF|Female|          0.0|     No|       Yes|   9.0|         Yes|           No|            DSL|            No|          No|              No|        Yes|        Yes|            Yes|Month-to-month|             Yes|Credit card (auto...|          69.4|      571.45|   No|    1.0|     1.0|        1.0|          0.0|           1.0|             1.0|            1.0|          1.0|              1.0|         0.0|         0.0|             0.0|      1.0|              0.0|           1.0|   0.0|[0.0,9.0,69.4,571...|[2.42876190074005...|[0.80997606009826...|       0.0|\n",
            "|0013-MHZWF|Female|          0.0|     No|       Yes|   9.0|         Yes|           No|            DSL|            No|          No|              No|        Yes|        Yes|            Yes|Month-to-month|             Yes|Credit card (auto...|          69.4|      571.45|   No|    1.0|     1.0|        1.0|          0.0|           1.0|             1.0|            1.0|          1.0|              1.0|         0.0|         0.0|             0.0|      1.0|              0.0|           1.0|   0.0|[0.0,9.0,69.4,571...|[2.42876190074005...|[0.80997606009826...|       0.0|\n",
            "|0013-MHZWF|Female|          0.0|     No|       Yes|   9.0|         Yes|           No|            DSL|            No|          No|              No|        Yes|        Yes|            Yes|Month-to-month|             Yes|Credit card (auto...|          69.4|      571.45|   No|    1.0|     1.0|        1.0|          0.0|           1.0|             1.0|            1.0|          1.0|              1.0|         0.0|         0.0|             0.0|      1.0|              0.0|           1.0|   0.0|[0.0,9.0,69.4,571...|[2.42876190074005...|[0.80997606009826...|       0.0|\n",
            "|0013-SMEOE|Female|          1.0|    Yes|        No|  71.0|         Yes|           No|    Fiber optic|           Yes|         Yes|             Yes|        Yes|        Yes|            Yes|      Two year|             Yes|Bank transfer (au...|         109.7|     7904.25|   No|    1.0|     0.0|        0.0|          0.0|           1.0|             0.0|            0.0|          0.0|              0.0|         0.0|         0.0|             0.0|      0.0|              0.0|           0.0|   0.0|(19,[0,1,2,3,4,8]...|[3.10915281419461...|[0.96072878168473...|       0.0|\n",
            "|0013-SMEOE|Female|          1.0|    Yes|        No|  71.0|         Yes|           No|    Fiber optic|           Yes|         Yes|             Yes|        Yes|        Yes|            Yes|      Two year|             Yes|Bank transfer (au...|         109.7|     7904.25|   No|    1.0|     0.0|        0.0|          0.0|           1.0|             0.0|            0.0|          0.0|              0.0|         0.0|         0.0|             0.0|      0.0|              0.0|           0.0|   0.0|(19,[0,1,2,3,4,8]...|[3.10915281419461...|[0.96072878168473...|       0.0|\n",
            "|0013-SMEOE|Female|          1.0|    Yes|        No|  71.0|         Yes|           No|    Fiber optic|           Yes|         Yes|             Yes|        Yes|        Yes|            Yes|      Two year|             Yes|Bank transfer (au...|         109.7|     7904.25|   No|    1.0|     0.0|        0.0|          0.0|           1.0|             0.0|            0.0|          0.0|              0.0|         0.0|         0.0|             0.0|      0.0|              0.0|           0.0|   0.0|(19,[0,1,2,3,4,8]...|[3.10915281419461...|[0.96072878168473...|       0.0|\n",
            "|0013-SMEOE|Female|          1.0|    Yes|        No|  71.0|         Yes|           No|    Fiber optic|           Yes|         Yes|             Yes|        Yes|        Yes|            Yes|      Two year|             Yes|Bank transfer (au...|         109.7|     7904.25|   No|    1.0|     0.0|        0.0|          0.0|           1.0|             0.0|            0.0|          0.0|              0.0|         0.0|         0.0|             0.0|      0.0|              0.0|           0.0|   0.0|(19,[0,1,2,3,4,8]...|[3.10915281419461...|[0.96072878168473...|       0.0|\n",
            "|0013-SMEOE|Female|          1.0|    Yes|        No|  71.0|         Yes|           No|    Fiber optic|           Yes|         Yes|             Yes|        Yes|        Yes|            Yes|      Two year|             Yes|Bank transfer (au...|         109.7|     7904.25|   No|    1.0|     0.0|        0.0|          0.0|           1.0|             0.0|            0.0|          0.0|              0.0|         0.0|         0.0|             0.0|      0.0|              0.0|           0.0|   0.0|(19,[0,1,2,3,4,8]...|[3.10915281419461...|[0.96072878168473...|       0.0|\n",
            "|0013-SMEOE|Female|          1.0|    Yes|        No|  71.0|         Yes|           No|    Fiber optic|           Yes|         Yes|             Yes|        Yes|        Yes|            Yes|      Two year|             Yes|Bank transfer (au...|         109.7|     7904.25|   No|    1.0|     0.0|        0.0|          0.0|           1.0|             0.0|            0.0|          0.0|              0.0|         0.0|         0.0|             0.0|      0.0|              0.0|           0.0|   0.0|(19,[0,1,2,3,4,8]...|[3.10915281419461...|[0.96072878168473...|       0.0|\n",
            "|0013-SMEOE|Female|          1.0|    Yes|        No|  71.0|         Yes|           No|    Fiber optic|           Yes|         Yes|             Yes|        Yes|        Yes|            Yes|      Two year|             Yes|Bank transfer (au...|         109.7|     7904.25|   No|    1.0|     0.0|        0.0|          0.0|           1.0|             0.0|            0.0|          0.0|              0.0|         0.0|         0.0|             0.0|      0.0|              0.0|           0.0|   0.0|(19,[0,1,2,3,4,8]...|[3.10915281419461...|[0.96072878168473...|       0.0|\n",
            "|0013-SMEOE|Female|          1.0|    Yes|        No|  71.0|         Yes|           No|    Fiber optic|           Yes|         Yes|             Yes|        Yes|        Yes|            Yes|      Two year|             Yes|Bank transfer (au...|         109.7|     7904.25|   No|    1.0|     0.0|        0.0|          0.0|           1.0|             0.0|            0.0|          0.0|              0.0|         0.0|         0.0|             0.0|      0.0|              0.0|           0.0|   0.0|(19,[0,1,2,3,4,8]...|[3.10915281419461...|[0.96072878168473...|       0.0|\n",
            "|0013-SMEOE|Female|          1.0|    Yes|        No|  71.0|         Yes|           No|    Fiber optic|           Yes|         Yes|             Yes|        Yes|        Yes|            Yes|      Two year|             Yes|Bank transfer (au...|         109.7|     7904.25|   No|    1.0|     0.0|        0.0|          0.0|           1.0|             0.0|            0.0|          0.0|              0.0|         0.0|         0.0|             0.0|      0.0|              0.0|           0.0|   0.0|(19,[0,1,2,3,4,8]...|[3.10915281419461...|[0.96072878168473...|       0.0|\n",
            "|0013-SMEOE|Female|          1.0|    Yes|        No|  71.0|         Yes|           No|    Fiber optic|           Yes|         Yes|             Yes|        Yes|        Yes|            Yes|      Two year|             Yes|Bank transfer (au...|         109.7|     7904.25|   No|    1.0|     0.0|        0.0|          0.0|           1.0|             0.0|            0.0|          0.0|              0.0|         0.0|         0.0|             0.0|      0.0|              0.0|           0.0|   0.0|(19,[0,1,2,3,4,8]...|[3.10915281419461...|[0.96072878168473...|       0.0|\n",
            "|0013-SMEOE|Female|          1.0|    Yes|        No|  71.0|         Yes|           No|    Fiber optic|           Yes|         Yes|             Yes|        Yes|        Yes|            Yes|      Two year|             Yes|Bank transfer (au...|         109.7|     7904.25|   No|    1.0|     0.0|        0.0|          0.0|           1.0|             0.0|            0.0|          0.0|              0.0|         0.0|         0.0|             0.0|      0.0|              0.0|           0.0|   0.0|(19,[0,1,2,3,4,8]...|[3.10915281419461...|[0.96072878168473...|       0.0|\n",
            "|0014-BMAQU|  Male|          0.0|    Yes|        No|  63.0|         Yes|          Yes|    Fiber optic|           Yes|          No|              No|        Yes|         No|             No|      Two year|             Yes|Credit card (auto...|         84.65|      5377.8|   No|    0.0|     0.0|        0.0|          0.0|           0.0|             0.0|            0.0|          1.0|              1.0|         0.0|         1.0|             1.0|      0.0|              0.0|           1.0|   0.0|(19,[1,2,3,11,12,...|[2.65624527788563...|[0.90541527108600...|       0.0|\n",
            "+----------+------+-------------+-------+----------+------+------------+-------------+---------------+--------------+------------+----------------+-----------+-----------+---------------+--------------+----------------+--------------------+--------------+------------+-----+-------+--------+-----------+-------------+--------------+----------------+---------------+-------------+-----------------+------------+------------+----------------+---------+-----------------+--------------+------+--------------------+--------------------+--------------------+----------+\n",
            "only showing top 20 rows\n",
            "\n",
            "+-------------------------------------------------------------+--------------------------------------------------------------+----------+\n",
            "|rawPrediction                                                |probability                                                   |prediction|\n",
            "+-------------------------------------------------------------+--------------------------------------------------------------+----------+\n",
            "|[2.125380452701293,1.4291264456657402,-3.554506898367034]    |[0.6658397202094763,0.33188714093941374,0.0022731388511099534]|0.0       |\n",
            "|[2.125380452701293,1.4291264456657402,-3.554506898367034]    |[0.6658397202094763,0.33188714093941374,0.0022731388511099534]|0.0       |\n",
            "|[1.4607810506831302,2.363094712415343,-3.8238757630984734]   |[0.28815378242906936,0.7103856319133555,0.0014605856575751399]|1.0       |\n",
            "|[1.612084983662203,2.176077844461644,-3.7881628281238475]    |[0.3620312975183537,0.6363339639803126,0.0016347385013336427] |1.0       |\n",
            "|[1.612084983662203,2.176077844461644,-3.7881628281238475]    |[0.3620312975183537,0.6363339639803126,0.0016347385013336427] |1.0       |\n",
            "|[2.42876190074005,0.9662251244163348,-3.3949870251563854]    |[0.8099760600982685,0.18762924516086463,0.002394694740866948] |0.0       |\n",
            "|[2.42876190074005,0.9662251244163348,-3.3949870251563854]    |[0.8099760600982685,0.18762924516086463,0.002394694740866948] |0.0       |\n",
            "|[2.42876190074005,0.9662251244163348,-3.3949870251563854]    |[0.8099760600982685,0.18762924516086463,0.002394694740866948] |0.0       |\n",
            "|[3.1091528141946148,-0.14611824270773077,-2.9630345714868844]|[0.9607287816847344,0.03705565927870529,0.0022155590365602953]|0.0       |\n",
            "|[3.1091528141946148,-0.14611824270773077,-2.9630345714868844]|[0.9607287816847344,0.03705565927870529,0.0022155590365602953]|0.0       |\n",
            "|[3.1091528141946148,-0.14611824270773077,-2.9630345714868844]|[0.9607287816847344,0.03705565927870529,0.0022155590365602953]|0.0       |\n",
            "|[3.1091528141946148,-0.14611824270773077,-2.9630345714868844]|[0.9607287816847344,0.03705565927870529,0.0022155590365602953]|0.0       |\n",
            "|[3.1091528141946148,-0.14611824270773077,-2.9630345714868844]|[0.9607287816847344,0.03705565927870529,0.0022155590365602953]|0.0       |\n",
            "|[3.1091528141946148,-0.14611824270773077,-2.9630345714868844]|[0.9607287816847344,0.03705565927870529,0.0022155590365602953]|0.0       |\n",
            "|[3.1091528141946148,-0.14611824270773077,-2.9630345714868844]|[0.9607287816847344,0.03705565927870529,0.0022155590365602953]|0.0       |\n",
            "|[3.1091528141946148,-0.14611824270773077,-2.9630345714868844]|[0.9607287816847344,0.03705565927870529,0.0022155590365602953]|0.0       |\n",
            "|[3.1091528141946148,-0.14611824270773077,-2.9630345714868844]|[0.9607287816847344,0.03705565927870529,0.0022155590365602953]|0.0       |\n",
            "|[3.1091528141946148,-0.14611824270773077,-2.9630345714868844]|[0.9607287816847344,0.03705565927870529,0.0022155590365602953]|0.0       |\n",
            "|[3.1091528141946148,-0.14611824270773077,-2.9630345714868844]|[0.9607287816847344,0.03705565927870529,0.0022155590365602953]|0.0       |\n",
            "|[2.6562452778856342,0.36400688898360034,-3.020252166869235]  |[0.9054152710860063,0.09148319668506358,0.0031015322289302144]|0.0       |\n",
            "+-------------------------------------------------------------+--------------------------------------------------------------+----------+\n",
            "only showing top 20 rows\n",
            "\n"
          ]
        }
      ]
    },
    {
      "cell_type": "code",
      "source": [
        "FE4accuracy = FE4Predictions.filter(FE4Predictions.iLabel == FE4Predictions.prediction).count() / float(FE4Predictions.count())\n",
        "print(\"Accuracy : \",FE4accuracy)"
      ],
      "metadata": {
        "colab": {
          "base_uri": "https://localhost:8080/"
        },
        "id": "0ezu7MtVTwyr",
        "outputId": "ab28a8f8-8484-4dac-f7c2-628af9a9a608"
      },
      "execution_count": 127,
      "outputs": [
        {
          "output_type": "stream",
          "name": "stdout",
          "text": [
            "Accuracy :  0.8632314828930462\n"
          ]
        }
      ]
    }
  ]
}